{
  "cells": [
    {
      "cell_type": "markdown",
      "source": [
        "## Trabajo Fin de Máster <br/> Diseño de una arquitectura multimodal para descripción textual de pares imagen-audio\n",
        "\n",
        "## Script 2. Entrenamiento de un clasificador de audio usando PyTorch\n",
        "\n",
        "En este notebook, aprendemos a clasificar los audios que hemos generado, con la ayuda de PyTorch. Para ello, usamos lo compartido en el artículo de [TowardsDataScience](https://towardsdatascience.com/audio-deep-learning-made-simple-sound-classification-step-by-step-cebc936bbe5)."
      ],
      "metadata": {
        "id": "mROJteeudBtO"
      }
    },
    {
      "cell_type": "markdown",
      "source": [
        "### Paso 1. Cambio de directorio e importaciones necesarias"
      ],
      "metadata": {
        "nteract": {
          "transient": {
            "deleting": false
          }
        }
      }
    },
    {
      "cell_type": "code",
      "source": [
        "import os\n",
        "os.chdir('..')\n",
        "os.getcwd()"
      ],
      "outputs": [
        {
          "output_type": "execute_result",
          "execution_count": 1,
          "data": {
            "text/plain": "'/mnt/batch/tasks/shared/LS_root/mounts/clusters/tfm-cpu/code/Users/jose.puche/Scripts'"
          },
          "metadata": {}
        }
      ],
      "execution_count": 1,
      "metadata": {
        "jupyter": {
          "source_hidden": false,
          "outputs_hidden": false
        },
        "nteract": {
          "transient": {
            "deleting": false
          }
        },
        "gather": {
          "logged": 1723306486875
        }
      }
    },
    {
      "cell_type": "markdown",
      "source": [
        "### Paso 2. Configuración e inicialización de wandb"
      ],
      "metadata": {
        "nteract": {
          "transient": {
            "deleting": false
          }
        }
      }
    },
    {
      "cell_type": "code",
      "source": [
        "# WandB – Login to your wandb account so you can log all your metrics\n",
        "import wandb"
      ],
      "outputs": [],
      "execution_count": 2,
      "metadata": {
        "jupyter": {
          "source_hidden": false,
          "outputs_hidden": false
        },
        "nteract": {
          "transient": {
            "deleting": false
          }
        },
        "gather": {
          "logged": 1723306488651
        }
      }
    },
    {
      "cell_type": "code",
      "source": [
        "!wandb login 1b8abaacf33b7b5812267384768c22a1eef3c11e"
      ],
      "outputs": [
        {
          "output_type": "stream",
          "name": "stdout",
          "text": "\u001b[34m\u001b[1mwandb\u001b[0m: Appending key for api.wandb.ai to your netrc file: /home/azureuser/.netrc\r\n"
        }
      ],
      "execution_count": 3,
      "metadata": {
        "jupyter": {
          "source_hidden": false,
          "outputs_hidden": false
        },
        "nteract": {
          "transient": {
            "deleting": false
          }
        }
      }
    },
    {
      "cell_type": "code",
      "source": [
        "folder_path = './../Final_Database'\n",
        "num_epochs = 30\n",
        "BATCH_SIZE = 16\n",
        "lr = 5e-4\n",
        "output_dim = 5\n",
        "\n",
        "model_parameters_file = f\"./modelos/audio/AUDIO_2_{output_dim}pers_lr{f'{lr:.0e}'}_bs{BATCH_SIZE}_{num_epochs}ep.pt\"\n",
        "model_parameters_file"
      ],
      "outputs": [
        {
          "output_type": "execute_result",
          "execution_count": 4,
          "data": {
            "text/plain": "'./modelos/audio/AUDIO_2_5pers_lr5e-04_bs16_30ep.pt'"
          },
          "metadata": {}
        }
      ],
      "execution_count": 4,
      "metadata": {
        "jupyter": {
          "source_hidden": false,
          "outputs_hidden": false
        },
        "nteract": {
          "transient": {
            "deleting": false
          }
        },
        "gather": {
          "logged": 1723306494101
        }
      }
    },
    {
      "cell_type": "code",
      "source": [
        "# WandB – Initialize a new run\n",
        "run_name = model_parameters_file.split(\"/\")[-1].replace('.pt', '')\n",
        "wandb.init(entity=\"josealbertoap\", project='TFM', name = run_name, tags=[\"audio\"])\n",
        "\n",
        "# WandB – Config is a variable that holds and saves hyperparameters and inputs\n",
        "config = wandb.config          # Initialize config\n",
        "config.batch_size = BATCH_SIZE          # input batch size for training (default: 64)\n",
        "config.test_batch_size = BATCH_SIZE    # input batch size for testing (default: 1000)\n",
        "config.epochs = num_epochs             # number of epochs to train (default: 10)\n",
        "config.lr = lr              # learning rate (default: 0.01)\n",
        "config.momentum = 0          # SGD momentum (default: 0.5)\n",
        "config.no_cuda = True         # disables CUDA training\n",
        "config.seed = 0               # random seed (default: 42)\n",
        "config.log_interval = 1     # how many batches to wait before logging training status\n",
        "config.num_classes = output_dim"
      ],
      "outputs": [
        {
          "output_type": "stream",
          "name": "stderr",
          "text": "\u001b[34m\u001b[1mwandb\u001b[0m: Currently logged in as: \u001b[33mjosealbertoap\u001b[0m. Use \u001b[1m`wandb login --relogin`\u001b[0m to force relogin\n"
        },
        {
          "output_type": "display_data",
          "data": {
            "text/plain": "<IPython.core.display.HTML object>",
            "text/html": "wandb version 0.17.6 is available!  To upgrade, please run:\n $ pip install wandb --upgrade"
          },
          "metadata": {}
        },
        {
          "output_type": "display_data",
          "data": {
            "text/plain": "<IPython.core.display.HTML object>",
            "text/html": "Tracking run with wandb version 0.17.5"
          },
          "metadata": {}
        },
        {
          "output_type": "display_data",
          "data": {
            "text/plain": "<IPython.core.display.HTML object>",
            "text/html": "Run data is saved locally in <code>/mnt/batch/tasks/shared/LS_root/mounts/clusters/tfm-cpu/code/Users/jose.puche/Scripts/wandb/run-20240810_161456-56rnqlmg</code>"
          },
          "metadata": {}
        },
        {
          "output_type": "display_data",
          "data": {
            "text/plain": "<IPython.core.display.HTML object>",
            "text/html": "Syncing run <strong><a href='https://wandb.ai/josealbertoap/TFM/runs/56rnqlmg' target=\"_blank\">AUDIO_2_5pers_lr5e-04_bs16_30ep</a></strong> to <a href='https://wandb.ai/josealbertoap/TFM' target=\"_blank\">Weights & Biases</a> (<a href='https://wandb.me/run' target=\"_blank\">docs</a>)<br/>"
          },
          "metadata": {}
        },
        {
          "output_type": "display_data",
          "data": {
            "text/plain": "<IPython.core.display.HTML object>",
            "text/html": " View project at <a href='https://wandb.ai/josealbertoap/TFM' target=\"_blank\">https://wandb.ai/josealbertoap/TFM</a>"
          },
          "metadata": {}
        },
        {
          "output_type": "display_data",
          "data": {
            "text/plain": "<IPython.core.display.HTML object>",
            "text/html": " View run at <a href='https://wandb.ai/josealbertoap/TFM/runs/56rnqlmg' target=\"_blank\">https://wandb.ai/josealbertoap/TFM/runs/56rnqlmg</a>"
          },
          "metadata": {}
        }
      ],
      "execution_count": 5,
      "metadata": {
        "jupyter": {
          "source_hidden": false,
          "outputs_hidden": false
        },
        "nteract": {
          "transient": {
            "deleting": false
          }
        },
        "gather": {
          "logged": 1723306508766
        }
      }
    },
    {
      "cell_type": "markdown",
      "source": [
        "### Paso 2. Lectura de los audios generados\n",
        "Leemos los audios de nuestra base de datos y los guardamos en un dataset compuesto por sus respectivos espectrogramas.\n",
        "\n",
        "Posteriormente, usamos los datasets de entrenamiento y validación para generar los respectivos DataLoaders que emplearemos en el entrenamiento de la red."
      ],
      "metadata": {
        "id": "RV4cs85P22Q5"
      }
    },
    {
      "cell_type": "code",
      "source": [
        "import random\n",
        "import numpy as np\n",
        "import torch\n",
        "\n",
        "def set_seed(seed):\n",
        "    random.seed(seed)\n",
        "    np.random.seed(seed)\n",
        "    torch.manual_seed(seed)\n",
        "    if torch.cuda.is_available():\n",
        "        torch.cuda.manual_seed(seed)\n",
        "        torch.cuda.manual_seed_all(seed)\n",
        "\n",
        "set_seed(config.seed)"
      ],
      "outputs": [],
      "execution_count": 6,
      "metadata": {
        "id": "J5zavNLM49sr",
        "gather": {
          "logged": 1723306523004
        }
      }
    },
    {
      "cell_type": "code",
      "source": [
        "import pandas as pd\n",
        "from torch.utils.data import random_split\n",
        "from tfm_lib.datasets import SoundDS\n",
        "\n",
        "database_df = pd.read_csv(f\"{folder_path}/audio/audioDB_train.csv\")\n",
        "myds = SoundDS(database_df, './', output_dim)\n",
        "\n",
        "# Random split of 80:20 between training and validation\n",
        "num_items = len(myds)\n",
        "num_train = round(num_items * 0.8)\n",
        "num_val = num_items - num_train\n",
        "train_ds, val_ds = random_split(myds, [num_train, num_val])\n",
        "\n",
        "# Create training and validation data loaders\n",
        "train_dl = torch.utils.data.DataLoader(train_ds, batch_size=BATCH_SIZE, shuffle=True)\n",
        "val_dl = torch.utils.data.DataLoader(val_ds, batch_size=1048, shuffle=False)"
      ],
      "outputs": [],
      "execution_count": 7,
      "metadata": {
        "id": "M1nT__codBtj",
        "gather": {
          "logged": 1723306532337
        }
      }
    },
    {
      "cell_type": "markdown",
      "source": [
        "### Paso 3. Entrenamiento de la red"
      ],
      "metadata": {
        "id": "LpwecWiv3dQ1"
      }
    },
    {
      "cell_type": "code",
      "source": [
        "from torch import nn\n",
        "from tqdm import tqdm\n",
        "from tfm_lib.EarlyStopping import EarlyStopping\n",
        "\n",
        "# ----------------------------\n",
        "# Training Loop\n",
        "# ----------------------------\n",
        "def training(model, train_dl, val_dl, num_epochs):\n",
        "  # Loss Function, Optimizer and Scheduler\n",
        "  criterion = nn.CrossEntropyLoss()\n",
        "  optimizer = torch.optim.Adam(model.parameters(),lr=lr)\n",
        "  scheduler = torch.optim.lr_scheduler.ReduceLROnPlateau(optimizer, 'min', patience = 4)\n",
        "\n",
        "  # Inicializar EarlyStopping\n",
        "  early_stopping = EarlyStopping(patience=5, verbose=True, delta=0.01, path=model_parameters_file)\n",
        "\n",
        "  train_loss = {}\n",
        "  test_loss = {}\n",
        "  train_acc = {}\n",
        "  test_acc = {}\n",
        "\n",
        "  # Repeat for each epoch\n",
        "  for epoch in range(num_epochs):\n",
        "    model.train()\n",
        "\n",
        "    running_loss = 0.0\n",
        "    correct_prediction = 0\n",
        "    total_prediction = 0\n",
        "\n",
        "    train_steps = tqdm(train_dl, unit=\"batch\")\n",
        "\n",
        "    # Repeat for each batch in the training set\n",
        "    for i, data in enumerate(train_steps):\n",
        "\n",
        "        train_steps.set_description(f\"Epoch [{epoch+1}/{num_epochs}]. Training\")\n",
        "\n",
        "        # Get the input features and target labels, and put them on the GPU\n",
        "        inputs, labels = data[0].to(device), data[1].to(device)\n",
        "\n",
        "        # Normalize the inputs\n",
        "        inputs_m, inputs_s = inputs.mean(), inputs.std()\n",
        "        inputs = (inputs - inputs_m) / inputs_s\n",
        "\n",
        "        # Zero the parameter gradients\n",
        "        optimizer.zero_grad()\n",
        "\n",
        "        # forward + backward + optimize\n",
        "        outputs = model(inputs)\n",
        "        loss = criterion(outputs, labels)\n",
        "        loss.backward()\n",
        "        optimizer.step()\n",
        "        # scheduler.step()\n",
        "\n",
        "        # Keep stats for Loss and Accuracy\n",
        "        running_loss += loss.item()\n",
        "\n",
        "        # Get the predicted class with the highest score\n",
        "        _, prediction = torch.max(outputs,1)\n",
        "        # Count of predictions that matched the target label\n",
        "        correct_prediction += (prediction == labels).sum().item()\n",
        "        total_prediction += prediction.shape[0]\n",
        "\n",
        "        train_steps.set_postfix(mean_loss=running_loss/total_prediction, mean_accuracy = correct_prediction / total_prediction)\n",
        "\n",
        "    # Print stats at the end of the epoch\n",
        "    num_batches = len(train_dl)\n",
        "    avg_loss = running_loss / num_batches\n",
        "    acc = correct_prediction/total_prediction\n",
        "    print(f'Epoch [{epoch+1}/{num_epochs}]:')\n",
        "    print(f'Training. Loss: {avg_loss:.2f}, Accuracy: {acc:.2f}')\n",
        "\n",
        "    train_loss[epoch+1] = avg_loss\n",
        "    train_acc[epoch+1] = acc\n",
        "\n",
        "    # Validación del modelo\n",
        "    model.eval()\n",
        "    correct_prediction = 0\n",
        "    total_prediction = 0\n",
        "    running_loss = 0\n",
        "\n",
        "    # Disable gradient updates\n",
        "    with torch.no_grad():\n",
        "\n",
        "      predictions = []\n",
        "      label_list = []\n",
        "      for data in val_dl:\n",
        "        # Get the input features and target labels, and put them on the GPU\n",
        "        inputs, labels = data[0].to(device), data[1].to(device)\n",
        "\n",
        "        # Normalize the inputs\n",
        "        inputs_m, inputs_s = inputs.mean(), inputs.std()\n",
        "        inputs = (inputs - inputs_m) / inputs_s\n",
        "\n",
        "        # Get predictions\n",
        "        outputs = model(inputs)\n",
        "        loss = criterion(outputs, labels)\n",
        "        running_loss += loss.item()\n",
        "\n",
        "        # Get the predicted class with the highest score\n",
        "        _, prediction = torch.max(outputs,1)\n",
        "        # Count of predictions that matched the target label\n",
        "        correct_prediction += (prediction == labels).sum().item()\n",
        "        total_prediction += prediction.shape[0]\n",
        "\n",
        "        predictions.extend(prediction)\n",
        "        label_list.extend(data[1])\n",
        "\n",
        "    acc = correct_prediction/total_prediction\n",
        "    val_loss = running_loss / len(val_dl)\n",
        "\n",
        "    print(f'Validation. Loss: {val_loss:.6f}, Accuracy: {acc:.6f}')\n",
        "\n",
        "    test_loss[epoch+1] = val_loss\n",
        "    test_acc[epoch+1] = acc\n",
        "\n",
        "    # Llamar a early_stopping con la pérdida de validación actual y el modelo\n",
        "    early_stopping(val_loss, model)\n",
        "    print('')\n",
        "\n",
        "    # Si se alcanza el criterio de early stopping, romper el bucle\n",
        "    if early_stopping.early_stop:\n",
        "        print(\"Early stopping\")\n",
        "        break\n",
        "      \n",
        "    # Cambiar learning rate si hace falta\n",
        "    scheduler.step(test_loss[epoch+1])\n",
        "\n",
        "    wandb.log({\n",
        "      'Epoch': epoch+1,\n",
        "      'Training Loss': train_loss[epoch+1],\n",
        "      'Training Accuracy': train_acc[epoch+1],\n",
        "      'Evaluation Loss': test_loss[epoch+1],\n",
        "      'Evaluation Accuracy': test_acc[epoch+1],\n",
        "      })\n",
        "\n",
        "  print('Finished Training')\n",
        "\n",
        "  return {'train_acc': train_acc, 'train_loss': train_loss, 'val_acc': test_acc, 'val_loss': test_loss}"
      ],
      "outputs": [],
      "execution_count": 8,
      "metadata": {
        "id": "zNWZH4zidBtm",
        "gather": {
          "logged": 1723306532621
        }
      }
    },
    {
      "cell_type": "code",
      "source": [
        "# Create the model and put it on the GPU if available\n",
        "from tfm_lib.modelos import AudioClassifier\n",
        "model = AudioClassifier(output_dim)\n",
        "device = torch.device(\"cuda:0\" if torch.cuda.is_available() else \"cpu\")\n",
        "model = model.to(device)\n",
        "\n",
        "wandb.watch(model, log=\"all\")\n",
        "\n",
        "# Run the training process\n",
        "training_results = training(model, train_dl, val_dl, num_epochs)\n",
        "\n",
        "print(training_results)\n",
        "wandb.save(model_parameters_file)"
      ],
      "outputs": [
        {
          "output_type": "stream",
          "name": "stderr",
          "text": "/anaconda/envs/jupyter_env/lib/python3.9/site-packages/torch/cuda/__init__.py:619: UserWarning: Can't initialize NVML\n  warnings.warn(\"Can't initialize NVML\")\nEpoch [1/30]. Training: 100%|██████████| 9/9 [00:29<00:00,  3.24s/batch, mean_accuracy=0.328, mean_loss=0.103] \nEpoch [2/30]. Training: 100%|██████████| 9/9 [00:26<00:00,  3.00s/batch, mean_accuracy=0.567, mean_loss=0.0948]\nEpoch [3/30]. Training: 100%|██████████| 9/9 [00:27<00:00,  3.03s/batch, mean_accuracy=0.664, mean_loss=0.0865]\nEpoch [4/30]. Training: 100%|██████████| 9/9 [00:27<00:00,  3.03s/batch, mean_accuracy=0.754, mean_loss=0.0808]\nEpoch [5/30]. Training: 100%|██████████| 9/9 [00:27<00:00,  3.01s/batch, mean_accuracy=0.866, mean_loss=0.074] \nEpoch [6/30]. Training: 100%|██████████| 9/9 [00:27<00:00,  3.03s/batch, mean_accuracy=0.843, mean_loss=0.0675]\nEpoch [7/30]. Training: 100%|██████████| 9/9 [00:27<00:00,  3.03s/batch, mean_accuracy=0.933, mean_loss=0.0613]\nEpoch [8/30]. Training: 100%|██████████| 9/9 [00:27<00:00,  3.03s/batch, mean_accuracy=0.948, mean_loss=0.0568]\nEpoch [9/30]. Training: 100%|██████████| 9/9 [00:27<00:00,  3.02s/batch, mean_accuracy=0.978, mean_loss=0.0508]\nEpoch [10/30]. Training: 100%|██████████| 9/9 [00:27<00:00,  3.04s/batch, mean_accuracy=0.97, mean_loss=0.0441] \nEpoch [11/30]. Training: 100%|██████████| 9/9 [00:27<00:00,  3.05s/batch, mean_accuracy=0.955, mean_loss=0.0413]\nEpoch [12/30]. Training: 100%|██████████| 9/9 [00:27<00:00,  3.01s/batch, mean_accuracy=0.955, mean_loss=0.0388]\nEpoch [13/30]. Training: 100%|██████████| 9/9 [00:27<00:00,  3.02s/batch, mean_accuracy=0.993, mean_loss=0.034] \nEpoch [14/30]. Training: 100%|██████████| 9/9 [00:27<00:00,  3.05s/batch, mean_accuracy=0.978, mean_loss=0.0316]\nEpoch [15/30]. Training: 100%|██████████| 9/9 [00:27<00:00,  3.01s/batch, mean_accuracy=0.978, mean_loss=0.0311]\nEpoch [16/30]. Training: 100%|██████████| 9/9 [00:27<00:00,  3.07s/batch, mean_accuracy=1, mean_loss=0.0248]\nEpoch [17/30]. Training: 100%|██████████| 9/9 [00:27<00:00,  3.01s/batch, mean_accuracy=0.993, mean_loss=0.0247]\nEpoch [18/30]. Training: 100%|██████████| 9/9 [00:27<00:00,  3.05s/batch, mean_accuracy=0.993, mean_loss=0.0213]\nEpoch [19/30]. Training: 100%|██████████| 9/9 [00:27<00:00,  3.01s/batch, mean_accuracy=0.993, mean_loss=0.0208]\nEpoch [20/30]. Training: 100%|██████████| 9/9 [00:27<00:00,  3.04s/batch, mean_accuracy=0.993, mean_loss=0.0159]\nEpoch [21/30]. Training: 100%|██████████| 9/9 [00:26<00:00,  3.00s/batch, mean_accuracy=1, mean_loss=0.0159]\nEpoch [22/30]. Training: 100%|██████████| 9/9 [00:27<00:00,  3.05s/batch, mean_accuracy=0.993, mean_loss=0.0145]\nEpoch [23/30]. Training: 100%|██████████| 9/9 [00:27<00:00,  3.04s/batch, mean_accuracy=0.993, mean_loss=0.0137]\nEpoch [24/30]. Training: 100%|██████████| 9/9 [00:27<00:00,  3.00s/batch, mean_accuracy=1, mean_loss=0.0131] \nEpoch [25/30]. Training: 100%|██████████| 9/9 [00:26<00:00,  2.99s/batch, mean_accuracy=1, mean_loss=0.0114] \nEpoch [26/30]. Training: 100%|██████████| 9/9 [00:27<00:00,  3.05s/batch, mean_accuracy=1, mean_loss=0.01]   \nEpoch [27/30]. Training: 100%|██████████| 9/9 [00:26<00:00,  2.99s/batch, mean_accuracy=1, mean_loss=0.00935]\nEpoch [28/30]. Training: 100%|██████████| 9/9 [00:26<00:00,  2.99s/batch, mean_accuracy=1, mean_loss=0.00922]\nEpoch [29/30]. Training: 100%|██████████| 9/9 [00:27<00:00,  3.02s/batch, mean_accuracy=1, mean_loss=0.00783]\nEpoch [30/30]. Training: 100%|██████████| 9/9 [00:26<00:00,  2.99s/batch, mean_accuracy=1, mean_loss=0.00757]\n"
        },
        {
          "output_type": "stream",
          "name": "stdout",
          "text": "Epoch [1/30]:\nTraining. Loss: 1.53, Accuracy: 0.33\nValidation. Loss: 1.593348, Accuracy: 0.294118\nValidation loss decreased (inf --> 1.593348).  Saving model ...\n\nEpoch [2/30]:\nTraining. Loss: 1.41, Accuracy: 0.57\nValidation. Loss: 1.518556, Accuracy: 0.264706\nValidation loss decreased (1.593348 --> 1.518556).  Saving model ...\n\nEpoch [3/30]:\nTraining. Loss: 1.29, Accuracy: 0.66\nValidation. Loss: 1.413736, Accuracy: 0.382353\nValidation loss decreased (1.518556 --> 1.413736).  Saving model ...\n\nEpoch [4/30]:\nTraining. Loss: 1.20, Accuracy: 0.75\nValidation. Loss: 1.305276, Accuracy: 0.588235\nValidation loss decreased (1.413736 --> 1.305276).  Saving model ...\n\nEpoch [5/30]:\nTraining. Loss: 1.10, Accuracy: 0.87\nValidation. Loss: 1.169048, Accuracy: 0.735294\nValidation loss decreased (1.305276 --> 1.169048).  Saving model ...\n\nEpoch [6/30]:\nTraining. Loss: 1.00, Accuracy: 0.84\nValidation. Loss: 1.079552, Accuracy: 0.852941\nValidation loss decreased (1.169048 --> 1.079552).  Saving model ...\n\nEpoch [7/30]:\nTraining. Loss: 0.91, Accuracy: 0.93\nValidation. Loss: 0.988865, Accuracy: 0.852941\nValidation loss decreased (1.079552 --> 0.988865).  Saving model ...\n\nEpoch [8/30]:\nTraining. Loss: 0.85, Accuracy: 0.95\nValidation. Loss: 0.927736, Accuracy: 0.823529\nValidation loss decreased (0.988865 --> 0.927736).  Saving model ...\n\nEpoch [9/30]:\nTraining. Loss: 0.76, Accuracy: 0.98\nValidation. Loss: 0.833810, Accuracy: 0.852941\nValidation loss decreased (0.927736 --> 0.833810).  Saving model ...\n\nEpoch [10/30]:\nTraining. Loss: 0.66, Accuracy: 0.97\nValidation. Loss: 0.753155, Accuracy: 0.882353\nValidation loss decreased (0.833810 --> 0.753155).  Saving model ...\n\nEpoch [11/30]:\nTraining. Loss: 0.62, Accuracy: 0.96\nValidation. Loss: 0.678510, Accuracy: 0.941176\nValidation loss decreased (0.753155 --> 0.678510).  Saving model ...\n\nEpoch [12/30]:\nTraining. Loss: 0.58, Accuracy: 0.96\nValidation. Loss: 0.632502, Accuracy: 0.911765\nValidation loss decreased (0.678510 --> 0.632502).  Saving model ...\n\nEpoch [13/30]:\nTraining. Loss: 0.51, Accuracy: 0.99\nValidation. Loss: 0.557170, Accuracy: 0.941176\nValidation loss decreased (0.632502 --> 0.557170).  Saving model ...\n\nEpoch [14/30]:\nTraining. Loss: 0.47, Accuracy: 0.98\nValidation. Loss: 0.519643, Accuracy: 0.941176\nValidation loss decreased (0.557170 --> 0.519643).  Saving model ...\n\nEpoch [15/30]:\nTraining. Loss: 0.46, Accuracy: 0.98\nValidation. Loss: 0.526322, Accuracy: 0.941176\nEarlyStopping counter: 1 out of 5\n\nEpoch [16/30]:\nTraining. Loss: 0.37, Accuracy: 1.00\nValidation. Loss: 0.468039, Accuracy: 0.941176\nValidation loss decreased (0.519643 --> 0.468039).  Saving model ...\n\nEpoch [17/30]:\nTraining. Loss: 0.37, Accuracy: 0.99\nValidation. Loss: 0.392621, Accuracy: 0.970588\nValidation loss decreased (0.468039 --> 0.392621).  Saving model ...\n\nEpoch [18/30]:\nTraining. Loss: 0.32, Accuracy: 0.99\nValidation. Loss: 0.349759, Accuracy: 0.970588\nValidation loss decreased (0.392621 --> 0.349759).  Saving model ...\n\nEpoch [19/30]:\nTraining. Loss: 0.31, Accuracy: 0.99\nValidation. Loss: 0.311619, Accuracy: 0.970588\nValidation loss decreased (0.349759 --> 0.311619).  Saving model ...\n\nEpoch [20/30]:\nTraining. Loss: 0.24, Accuracy: 0.99\nValidation. Loss: 0.306316, Accuracy: 0.970588\nEarlyStopping counter: 1 out of 5\n\nEpoch [21/30]:\nTraining. Loss: 0.24, Accuracy: 1.00\nValidation. Loss: 0.299126, Accuracy: 0.970588\nValidation loss decreased (0.311619 --> 0.299126).  Saving model ...\n\nEpoch [22/30]:\nTraining. Loss: 0.22, Accuracy: 0.99\nValidation. Loss: 0.247271, Accuracy: 1.000000\nValidation loss decreased (0.299126 --> 0.247271).  Saving model ...\n\nEpoch [23/30]:\nTraining. Loss: 0.20, Accuracy: 0.99\nValidation. Loss: 0.224940, Accuracy: 1.000000\nValidation loss decreased (0.247271 --> 0.224940).  Saving model ...\n\nEpoch [24/30]:\nTraining. Loss: 0.20, Accuracy: 1.00\nValidation. Loss: 0.236253, Accuracy: 0.970588\nEarlyStopping counter: 1 out of 5\n\nEpoch [25/30]:\nTraining. Loss: 0.17, Accuracy: 1.00\nValidation. Loss: 0.216641, Accuracy: 0.970588\nEarlyStopping counter: 2 out of 5\n\nEpoch [26/30]:\nTraining. Loss: 0.15, Accuracy: 1.00\nValidation. Loss: 0.183437, Accuracy: 1.000000\nValidation loss decreased (0.224940 --> 0.183437).  Saving model ...\n\nEpoch [27/30]:\nTraining. Loss: 0.14, Accuracy: 1.00\nValidation. Loss: 0.162345, Accuracy: 1.000000\nValidation loss decreased (0.183437 --> 0.162345).  Saving model ...\n\nEpoch [28/30]:\nTraining. Loss: 0.14, Accuracy: 1.00\nValidation. Loss: 0.156231, Accuracy: 1.000000\nEarlyStopping counter: 1 out of 5\n\nEpoch [29/30]:\nTraining. Loss: 0.12, Accuracy: 1.00\nValidation. Loss: 0.132494, Accuracy: 1.000000\nValidation loss decreased (0.162345 --> 0.132494).  Saving model ...\n\nEpoch [30/30]:\nTraining. Loss: 0.11, Accuracy: 1.00\nValidation. Loss: 0.123986, Accuracy: 1.000000\nEarlyStopping counter: 1 out of 5\n\nFinished Training\n{'train_acc': {1: 0.3283582089552239, 2: 0.5671641791044776, 3: 0.664179104477612, 4: 0.753731343283582, 5: 0.8656716417910447, 6: 0.8432835820895522, 7: 0.9328358208955224, 8: 0.9477611940298507, 9: 0.9776119402985075, 10: 0.9701492537313433, 11: 0.9552238805970149, 12: 0.9552238805970149, 13: 0.9925373134328358, 14: 0.9776119402985075, 15: 0.9776119402985075, 16: 1.0, 17: 0.9925373134328358, 18: 0.9925373134328358, 19: 0.9925373134328358, 20: 0.9925373134328358, 21: 1.0, 22: 0.9925373134328358, 23: 0.9925373134328358, 24: 1.0, 25: 1.0, 26: 1.0, 27: 1.0, 28: 1.0, 29: 1.0, 30: 1.0}, 'train_loss': {1: 1.5340230332480536, 2: 1.4120184580485027, 3: 1.2880131933424208, 4: 1.2037243710623846, 5: 1.1020433637830946, 6: 1.0049203832944233, 7: 0.9130619168281555, 8: 0.8462252285745409, 9: 0.756029400560591, 10: 0.6567723684840732, 11: 0.6155493789248996, 12: 0.577376706732644, 13: 0.5056854552692838, 14: 0.4706715676519606, 15: 0.4625862240791321, 16: 0.3695489664872487, 17: 0.3675196104579502, 18: 0.3174014108048545, 19: 0.30917732417583466, 20: 0.23704175154368082, 21: 0.23627948098712498, 22: 0.21653084291352165, 23: 0.20427180743879741, 24: 0.19572834339406756, 25: 0.1700228527188301, 26: 0.14946751379304463, 27: 0.1392460386786196, 28: 0.13730072644021776, 29: 0.11662414338853624, 30: 0.11277658657895194}, 'val_acc': {1: 0.29411764705882354, 2: 0.2647058823529412, 3: 0.38235294117647056, 4: 0.5882352941176471, 5: 0.7352941176470589, 6: 0.8529411764705882, 7: 0.8529411764705882, 8: 0.8235294117647058, 9: 0.8529411764705882, 10: 0.8823529411764706, 11: 0.9411764705882353, 12: 0.9117647058823529, 13: 0.9411764705882353, 14: 0.9411764705882353, 15: 0.9411764705882353, 16: 0.9411764705882353, 17: 0.9705882352941176, 18: 0.9705882352941176, 19: 0.9705882352941176, 20: 0.9705882352941176, 21: 0.9705882352941176, 22: 1.0, 23: 1.0, 24: 0.9705882352941176, 25: 0.9705882352941176, 26: 1.0, 27: 1.0, 28: 1.0, 29: 1.0, 30: 1.0}, 'val_loss': {1: 1.5933477878570557, 2: 1.5185561180114746, 3: 1.4137357473373413, 4: 1.305275559425354, 5: 1.1690477132797241, 6: 1.0795522928237915, 7: 0.988864541053772, 8: 0.9277356863021851, 9: 0.8338099122047424, 10: 0.7531546950340271, 11: 0.6785104274749756, 12: 0.6325021982192993, 13: 0.5571695566177368, 14: 0.5196433663368225, 15: 0.5263217687606812, 16: 0.46803924441337585, 17: 0.39262059330940247, 18: 0.34975922107696533, 19: 0.31161850690841675, 20: 0.3063161373138428, 21: 0.2991255223751068, 22: 0.24727067351341248, 23: 0.22493956983089447, 24: 0.23625339567661285, 25: 0.2166408747434616, 26: 0.18343739211559296, 27: 0.1623454988002777, 28: 0.15623147785663605, 29: 0.13249413669109344, 30: 0.12398616224527359}}\n"
        },
        {
          "output_type": "execute_result",
          "execution_count": 9,
          "data": {
            "text/plain": "['/mnt/batch/tasks/shared/LS_root/mounts/clusters/tfm-cpu/code/Users/jose.puche/Scripts/wandb/run-20240810_161456-56rnqlmg/files/modelos/audio/AUDIO_2_5pers_lr5e-04_bs16_30ep.pt']"
          },
          "metadata": {}
        }
      ],
      "execution_count": 9,
      "metadata": {
        "colab": {
          "base_uri": "https://localhost:8080/"
        },
        "id": "AKfiIW1r4dZT",
        "executionInfo": {
          "status": "ok",
          "timestamp": 1720728659625,
          "user_tz": -120,
          "elapsed": 113922,
          "user": {
            "displayName": "JOSÉ ALBERTO AZORIN PUCHE",
            "userId": "07780853208545474625"
          }
        },
        "outputId": "b69c3238-08a6-4acc-be88-c24ce03feb87",
        "gather": {
          "logged": 1723307573532
        }
      }
    },
    {
      "cell_type": "markdown",
      "source": [
        "### Paso 4. Resultados con los datos de test"
      ],
      "metadata": {
        "id": "bTM7EaVl3iDa"
      }
    },
    {
      "cell_type": "code",
      "source": [
        "test_dataset = SoundDS(pd.read_csv(f\"{folder_path}/audio/audioDB_test.csv\"), './', output_dim)\n",
        "test_dl = torch.utils.data.DataLoader(test_dataset, batch_size=1048, shuffle=True)"
      ],
      "outputs": [],
      "execution_count": 10,
      "metadata": {
        "jupyter": {
          "source_hidden": false,
          "outputs_hidden": false
        },
        "nteract": {
          "transient": {
            "deleting": false
          }
        },
        "gather": {
          "logged": 1723307573858
        }
      }
    },
    {
      "cell_type": "code",
      "source": [
        "# ----------------------------\n",
        "# Inference\n",
        "# ----------------------------\n",
        "def inference (model, val_dl):\n",
        "  correct_prediction = 0\n",
        "  total_prediction = 0\n",
        "\n",
        "  # Disable gradient updates\n",
        "  with torch.no_grad():\n",
        "\n",
        "    predictions = []\n",
        "    label_list = []\n",
        "    for data in val_dl:\n",
        "      # Get the input features and target labels, and put them on the GPU\n",
        "      inputs, labels = data[0].to(device), data[1].to(device)\n",
        "\n",
        "      # Normalize the inputs\n",
        "      inputs_m, inputs_s = inputs.mean(), inputs.std()\n",
        "      inputs = (inputs - inputs_m) / inputs_s\n",
        "\n",
        "      # Get predictions\n",
        "      outputs = model(inputs)\n",
        "\n",
        "      # Get the predicted class with the highest score\n",
        "      _, prediction = torch.max(outputs,1)\n",
        "      # Count of predictions that matched the target label\n",
        "      correct_prediction += (prediction == labels).sum().item()\n",
        "      total_prediction += prediction.shape[0]\n",
        "\n",
        "      predictions.extend(prediction)\n",
        "      label_list.extend(data[1])\n",
        "\n",
        "  acc = correct_prediction/total_prediction\n",
        "  print(f'Accuracy: {acc:.2f}, Total items: {total_prediction}')\n",
        "\n",
        "  return predictions, label_list\n",
        "\n",
        "# Run inference on trained model with the validation set\n",
        "model.load_state_dict(torch.load(model_parameters_file, map_location=torch.device('cpu')))\n",
        "result = inference(model, test_dl)"
      ],
      "outputs": [
        {
          "output_type": "stream",
          "name": "stdout",
          "text": "Accuracy: 0.99, Total items: 112\n"
        }
      ],
      "execution_count": 11,
      "metadata": {
        "id": "fzt1bAnBdBtm",
        "colab": {
          "base_uri": "https://localhost:8080/"
        },
        "executionInfo": {
          "status": "ok",
          "timestamp": 1720728672091,
          "user_tz": -120,
          "elapsed": 958,
          "user": {
            "displayName": "JOSÉ ALBERTO AZORIN PUCHE",
            "userId": "07780853208545474625"
          }
        },
        "outputId": "c6b92cab-da18-460c-eeb7-b4156b87340e",
        "gather": {
          "logged": 1723307600664
        }
      }
    },
    {
      "cell_type": "code",
      "source": [
        "from sklearn.metrics import accuracy_score, recall_score, precision_score, roc_auc_score, f1_score, confusion_matrix\n",
        "import seaborn as sn\n",
        "import numpy as np\n",
        "import matplotlib.pyplot as plt\n",
        "import re\n",
        "\n",
        "def extraer_iniciales(name):\n",
        "    name_words = name.split(' ')\n",
        "    r = re.compile(\"^[A-Z][A-z]*\")\n",
        "    valid_words = list(filter(r.match, name_words))\n",
        "    if len(valid_words) <=3:\n",
        "        name = valid_words[0]\n",
        "        valid_words.remove(valid_words[0])\n",
        "    else:\n",
        "        name = f'{valid_words[0]} {valid_words[1]}'\n",
        "        valid_words.remove(valid_words[0])\n",
        "        valid_words.remove(valid_words[1])\n",
        "    surname = re.sub('(?<=[A-Z])[A-z]+', '.', ' '.join(valid_words))\n",
        "    return f'{name} {surname}'\n",
        "\n",
        "def font_scale(num_classes):\n",
        "    if num_classes <= 10:\n",
        "        return 1.0\n",
        "    elif num_classes <= 20:\n",
        "        return 0.75\n",
        "    elif num_classes <= 30:\n",
        "        return 0.65\n",
        "    else:\n",
        "        return 0.45\n",
        "\n",
        "def plot_confusion_matrix(y_true, y_pred):\n",
        "    cf_matrix = confusion_matrix(y_true, y_pred)\n",
        "    people = list(map(extraer_iniciales, myds.labelencoder().classes_))\n",
        "\n",
        "    df_cm = pd.DataFrame((cf_matrix / np.sum(cf_matrix, axis=1)[:, None]).round(3), index=people, columns=people)\n",
        "    \n",
        "    plt.figure(figsize=(8, 6))  \n",
        "    sn.set(font_scale = font_scale(df_cm.shape[0]))  \n",
        "    heatmap = sn.heatmap(df_cm, annot=True, cbar=False, cmap='Purples', fmt='g', xticklabels=False)\n",
        "\n",
        "    # Ajusta la rotación y alineación de los ticks de los ejes\n",
        "    heatmap.set_yticklabels(heatmap.get_yticklabels(), rotation=0, ha='right')\n",
        "\n",
        "    plt.tight_layout()  # Asegura que todo se ajuste bien en la figura\n",
        "    plt.savefig(model_parameters_file.replace('/modelos/', '/results/').replace('.pt', '.png'))\n",
        "\n",
        "    return plt.gcf()\n",
        "\n",
        "def get_metrics(result):\n",
        "    accuracy = accuracy_score(result[1], result[0])\n",
        "    precision = precision_score(result[1], result[0], average='macro')\n",
        "    recall = recall_score(result[1], result[0], average='macro')\n",
        "    f1 = f1_score(result[1], result[0], average='macro')\n",
        "\n",
        "    metrics = {\n",
        "        'Test accuracy': accuracy,\n",
        "        'Test precision': precision,\n",
        "        'Test recall': recall,\n",
        "        'F1-score': f1\n",
        "    }\n",
        "\n",
        "    print(metrics)\n",
        "\n",
        "    metrics['Confusion Matrix'] = wandb.Image(plot_confusion_matrix(result[1],result[0]))\n",
        "    metrics['Test metrics'] = wandb.Table(columns=[\"Metric name\", \"Value\"], \n",
        "                                          data=[[\"Test accuracy\", accuracy], [\"Test precision\", precision],\n",
        "                                                [\"Test recall\", recall], [\"Test F1-Score\", f1]])\n",
        "\n",
        "    return metrics\n",
        "\n",
        "metrics = get_metrics(result)\n",
        "wandb.log(metrics)"
      ],
      "outputs": [
        {
          "output_type": "stream",
          "name": "stdout",
          "text": "{'Test accuracy': 0.9910714285714286, 'Test precision': 0.992, 'Test recall': 0.9916666666666666, 'F1-score': 0.9916630481980027}\n"
        },
        {
          "output_type": "display_data",
          "data": {
            "text/plain": "<Figure size 800x600 with 1 Axes>",
            "image/png": "[encoded data removed]"
          },
          "metadata": {}
        }
      ],
      "execution_count": 12,
      "metadata": {
        "jupyter": {
          "source_hidden": false,
          "outputs_hidden": false
        },
        "nteract": {
          "transient": {
            "deleting": false
          }
        },
        "gather": {
          "logged": 1723307604854
        }
      }
    },
    {
      "cell_type": "code",
      "source": [
        "wandb.finish()"
      ],
      "outputs": [
        {
          "output_type": "display_data",
          "data": {
            "text/plain": "VBox(children=(Label(value='0.128 MB of 0.128 MB uploaded\\r'), FloatProgress(value=1.0, max=1.0)))",
            "application/vnd.jupyter.widget-view+json": {
              "version_major": 2,
              "version_minor": 0,
              "model_id": "a3352dbea49f40ac897bfe4eb90455fe"
            }
          },
          "metadata": {}
        },
        {
          "output_type": "display_data",
          "data": {
            "text/plain": "<IPython.core.display.HTML object>",
            "text/html": "<style>\n    table.wandb td:nth-child(1) { padding: 0 10px; text-align: left ; width: auto;} td:nth-child(2) {text-align: left ; width: 100%}\n    .wandb-row { display: flex; flex-direction: row; flex-wrap: wrap; justify-content: flex-start; width: 100% }\n    .wandb-col { display: flex; flex-direction: column; flex-basis: 100%; flex: 1; padding: 10px; }\n    </style>\n<div class=\"wandb-row\"><div class=\"wandb-col\"><h3>Run history:</h3><br/><table class=\"wandb\"><tr><td>Epoch</td><td>▁▁▁▂▂▂▂▃▃▃▃▄▄▄▄▅▅▅▅▆▆▆▆▇▇▇▇███</td></tr><tr><td>Evaluation Accuracy</td><td>▁▁▂▄▅▇▇▆▇▇▇▇▇▇▇▇██████████████</td></tr><tr><td>Evaluation Loss</td><td>██▇▇▆▆▅▅▄▄▄▃▃▃▃▃▂▂▂▂▂▂▁▂▁▁▁▁▁▁</td></tr><tr><td>F1-score</td><td>▁</td></tr><tr><td>Test accuracy</td><td>▁</td></tr><tr><td>Test precision</td><td>▁</td></tr><tr><td>Test recall</td><td>▁</td></tr><tr><td>Training Accuracy</td><td>▁▃▄▅▇▆▇▇██████████████████████</td></tr><tr><td>Training Loss</td><td>█▇▇▆▆▅▅▅▄▄▃▃▃▃▃▂▂▂▂▂▂▂▁▁▁▁▁▁▁▁</td></tr></table><br/></div><div class=\"wandb-col\"><h3>Run summary:</h3><br/><table class=\"wandb\"><tr><td>Epoch</td><td>30</td></tr><tr><td>Evaluation Accuracy</td><td>1.0</td></tr><tr><td>Evaluation Loss</td><td>0.12399</td></tr><tr><td>F1-score</td><td>0.99166</td></tr><tr><td>Test accuracy</td><td>0.99107</td></tr><tr><td>Test precision</td><td>0.992</td></tr><tr><td>Test recall</td><td>0.99167</td></tr><tr><td>Training Accuracy</td><td>1.0</td></tr><tr><td>Training Loss</td><td>0.11278</td></tr></table><br/></div></div>"
          },
          "metadata": {}
        },
        {
          "output_type": "display_data",
          "data": {
            "text/plain": "<IPython.core.display.HTML object>",
            "text/html": " View run <strong style=\"color:#cdcd00\">AUDIO_2_5pers_lr5e-04_bs16_30ep</strong> at: <a href='https://wandb.ai/josealbertoap/TFM/runs/56rnqlmg' target=\"_blank\">https://wandb.ai/josealbertoap/TFM/runs/56rnqlmg</a><br/> View project at: <a href='https://wandb.ai/josealbertoap/TFM' target=\"_blank\">https://wandb.ai/josealbertoap/TFM</a><br/>Synced 6 W&B file(s), 2 media file(s), 1 artifact file(s) and 1 other file(s)"
          },
          "metadata": {}
        },
        {
          "output_type": "display_data",
          "data": {
            "text/plain": "<IPython.core.display.HTML object>",
            "text/html": "Find logs at: <code>./wandb/run-20240810_161456-56rnqlmg/logs</code>"
          },
          "metadata": {}
        },
        {
          "output_type": "display_data",
          "data": {
            "text/plain": "<IPython.core.display.HTML object>",
            "text/html": "The new W&B backend becomes opt-out in version 0.18.0; try it out with `wandb.require(\"core\")`! See https://wandb.me/wandb-core for more information."
          },
          "metadata": {}
        }
      ],
      "execution_count": 13,
      "metadata": {
        "jupyter": {
          "source_hidden": false,
          "outputs_hidden": false
        },
        "nteract": {
          "transient": {
            "deleting": false
          }
        },
        "gather": {
          "logged": 1723307615483
        }
      }
    }
  ],
  "metadata": {
    "colab": {
      "provenance": []
    },
    "kernelspec": {
      "name": "python3",
      "language": "python",
      "display_name": "Python 3 (ipykernel)"
    },
    "language_info": {
      "name": "python",
      "version": "3.9.18",
      "mimetype": "text/x-python",
      "codemirror_mode": {
        "name": "ipython",
        "version": 3
      },
      "pygments_lexer": "ipython3",
      "nbconvert_exporter": "python",
      "file_extension": ".py"
    },
    "microsoft": {
      "ms_spell_check": {
        "ms_spell_check_language": "en"
      },
      "host": {
        "AzureML": {
          "notebookHasBeenCompleted": true
        }
      }
    },
    "kernel_info": {
      "name": "python3"
    },
    "nteract": {
      "version": "nteract-front-end@1.0.0"
    }
  },
  "nbformat": 4,
  "nbformat_minor": 0
}