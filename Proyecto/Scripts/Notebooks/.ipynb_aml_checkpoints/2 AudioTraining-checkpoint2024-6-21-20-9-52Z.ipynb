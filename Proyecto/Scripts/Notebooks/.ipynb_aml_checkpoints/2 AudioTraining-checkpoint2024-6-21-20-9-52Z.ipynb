{
  "cells": [
    {
      "cell_type": "markdown",
      "source": [
        "## Trabajo Fin de Máster <br/> Diseño de una arquitectura multimodal para descripción textual de pares imagen-audio\n",
        "\n",
        "## Script 2. Entrenamiento de un clasificador de audio usando PyTorch\n",
        "\n",
        "En este notebook, aprendemos a clasificar los audios que hemos generado, con la ayuda de PyTorch. Para ello, usamos lo compartido en el artículo de [TowardsDataScience](https://towardsdatascience.com/audio-deep-learning-made-simple-sound-classification-step-by-step-cebc936bbe5)."
      ],
      "metadata": {
        "id": "mROJteeudBtO"
      }
    },
    {
      "cell_type": "markdown",
      "source": [
        "### Paso 1. Cambio de directorio e importaciones necesarias"
      ],
      "metadata": {
        "nteract": {
          "transient": {
            "deleting": false
          }
        }
      }
    },
    {
      "cell_type": "code",
      "source": [
        "import os\n",
        "os.chdir('..')\n",
        "os.getcwd()"
      ],
      "outputs": [
        {
          "output_type": "execute_result",
          "execution_count": 1,
          "data": {
            "text/plain": "'/mnt/batch/tasks/shared/LS_root/mounts/clusters/tfm-cpu/code/Users/jose.puche/Scripts'"
          },
          "metadata": {}
        }
      ],
      "execution_count": 1,
      "metadata": {
        "jupyter": {
          "source_hidden": false,
          "outputs_hidden": false
        },
        "nteract": {
          "transient": {
            "deleting": false
          }
        },
        "gather": {
          "logged": 1721559553999
        }
      }
    },
    {
      "cell_type": "markdown",
      "source": [
        "### Paso 2. Configuración e inicialización de wandb"
      ],
      "metadata": {
        "nteract": {
          "transient": {
            "deleting": false
          }
        }
      }
    },
    {
      "cell_type": "code",
      "source": [
        "# WandB – Login to your wandb account so you can log all your metrics\n",
        "import wandb"
      ],
      "outputs": [],
      "execution_count": 2,
      "metadata": {
        "jupyter": {
          "source_hidden": false,
          "outputs_hidden": false
        },
        "nteract": {
          "transient": {
            "deleting": false
          }
        },
        "gather": {
          "logged": 1721559556305
        }
      }
    },
    {
      "cell_type": "code",
      "source": [
        "!wandb login 1b8abaacf33b7b5812267384768c22a1eef3c11e"
      ],
      "outputs": [
        {
          "output_type": "stream",
          "name": "stdout",
          "text": "\u001b[34m\u001b[1mwandb\u001b[0m: Appending key for api.wandb.ai to your netrc file: /home/azureuser/.netrc\r\n"
        }
      ],
      "execution_count": 3,
      "metadata": {
        "jupyter": {
          "source_hidden": false,
          "outputs_hidden": false
        },
        "nteract": {
          "transient": {
            "deleting": false
          }
        }
      }
    },
    {
      "cell_type": "code",
      "source": [
        "folder_path = './../Final_Database'\n",
        "num_epochs = 20\n",
        "BATCH_SIZE = 16\n",
        "lr = 5e-4\n",
        "output_dim = 2\n",
        "\n",
        "model_parameters_file = f\"./modelos/audio/AUDIO_{output_dim}pers_lr{f'{lr:.0e}'}_bs{BATCH_SIZE}_{num_epochs}ep.pt\"\n",
        "model_parameters_file"
      ],
      "outputs": [
        {
          "output_type": "execute_result",
          "execution_count": 4,
          "data": {
            "text/plain": "'./modelos/audio/AUDIO_2pers_lr5e-04_bs16_20ep.pt'"
          },
          "metadata": {}
        }
      ],
      "execution_count": 4,
      "metadata": {
        "jupyter": {
          "source_hidden": false,
          "outputs_hidden": false
        },
        "nteract": {
          "transient": {
            "deleting": false
          }
        },
        "gather": {
          "logged": 1721559561530
        }
      }
    },
    {
      "cell_type": "code",
      "source": [
        "# WandB – Initialize a new run\n",
        "run_name = model_parameters_file.split(\"/\")[-1].replace('.pt', '')\n",
        "wandb.init(entity=\"josealbertoap\", project='TFM', name = run_name, tags=['audio'])\n",
        "\n",
        "# WandB – Config is a variable that holds and saves hyperparameters and inputs\n",
        "config = wandb.config          # Initialize config\n",
        "config.batch_size = BATCH_SIZE          # input batch size for training (default: 64)\n",
        "config.test_batch_size = BATCH_SIZE    # input batch size for testing (default: 1000)\n",
        "config.epochs = num_epochs             # number of epochs to train (default: 10)\n",
        "config.lr = lr              # learning rate (default: 0.01)\n",
        "config.momentum = 0          # SGD momentum (default: 0.5)\n",
        "config.no_cuda = True         # disables CUDA training\n",
        "config.seed = 0               # random seed (default: 42)\n",
        "config.log_interval = 1     # how many batches to wait before logging training status\n",
        "config.num_classes = output_dim"
      ],
      "outputs": [
        {
          "output_type": "stream",
          "name": "stderr",
          "text": "\u001b[34m\u001b[1mwandb\u001b[0m: Currently logged in as: \u001b[33mjosealbertoap\u001b[0m. Use \u001b[1m`wandb login --relogin`\u001b[0m to force relogin\n"
        },
        {
          "output_type": "display_data",
          "data": {
            "text/plain": "<IPython.core.display.HTML object>",
            "text/html": "Tracking run with wandb version 0.17.5"
          },
          "metadata": {}
        },
        {
          "output_type": "display_data",
          "data": {
            "text/plain": "<IPython.core.display.HTML object>",
            "text/html": "Run data is saved locally in <code>/mnt/batch/tasks/shared/LS_root/mounts/clusters/tfm-cpu/code/Users/jose.puche/Scripts/wandb/run-20240721_105923-86gsbkyt</code>"
          },
          "metadata": {}
        },
        {
          "output_type": "display_data",
          "data": {
            "text/plain": "<IPython.core.display.HTML object>",
            "text/html": "Syncing run <strong><a href='https://wandb.ai/josealbertoap/AUDIO_2pers_lr5e-04_bs16_20ep.pt/runs/86gsbkyt' target=\"_blank\">denim-silence-2</a></strong> to <a href='https://wandb.ai/josealbertoap/AUDIO_2pers_lr5e-04_bs16_20ep.pt' target=\"_blank\">Weights & Biases</a> (<a href='https://wandb.me/run' target=\"_blank\">docs</a>)<br/>"
          },
          "metadata": {}
        },
        {
          "output_type": "display_data",
          "data": {
            "text/plain": "<IPython.core.display.HTML object>",
            "text/html": " View project at <a href='https://wandb.ai/josealbertoap/AUDIO_2pers_lr5e-04_bs16_20ep.pt' target=\"_blank\">https://wandb.ai/josealbertoap/AUDIO_2pers_lr5e-04_bs16_20ep.pt</a>"
          },
          "metadata": {}
        },
        {
          "output_type": "display_data",
          "data": {
            "text/plain": "<IPython.core.display.HTML object>",
            "text/html": " View run at <a href='https://wandb.ai/josealbertoap/AUDIO_2pers_lr5e-04_bs16_20ep.pt/runs/86gsbkyt' target=\"_blank\">https://wandb.ai/josealbertoap/AUDIO_2pers_lr5e-04_bs16_20ep.pt/runs/86gsbkyt</a>"
          },
          "metadata": {}
        }
      ],
      "execution_count": 5,
      "metadata": {
        "jupyter": {
          "source_hidden": false,
          "outputs_hidden": false
        },
        "nteract": {
          "transient": {
            "deleting": false
          }
        },
        "gather": {
          "logged": 1721559575236
        }
      }
    },
    {
      "cell_type": "markdown",
      "source": [
        "### Paso 2. Lectura de los audios generados\n",
        "Leemos los audios de nuestra base de datos y los guardamos en un dataset compuesto por sus respectivos espectrogramas.\n",
        "\n",
        "Posteriormente, usamos los datasets de entrenamiento y validación para generar los respectivos DataLoaders que emplearemos en el entrenamiento de la red."
      ],
      "metadata": {
        "id": "RV4cs85P22Q5"
      }
    },
    {
      "cell_type": "code",
      "source": [
        "import random\n",
        "import numpy as np\n",
        "import torch\n",
        "\n",
        "def set_seed(seed):\n",
        "    random.seed(seed)\n",
        "    np.random.seed(seed)\n",
        "    torch.manual_seed(seed)\n",
        "    if torch.cuda.is_available():\n",
        "        torch.cuda.manual_seed(seed)\n",
        "        torch.cuda.manual_seed_all(seed)\n",
        "\n",
        "set_seed(config.seed)"
      ],
      "outputs": [],
      "execution_count": 11,
      "metadata": {
        "id": "J5zavNLM49sr",
        "gather": {
          "logged": 1721559830536
        }
      }
    },
    {
      "cell_type": "code",
      "source": [
        "import pandas as pd\n",
        "from torch.utils.data import random_split\n",
        "from tfm_lib.datasets import SoundDS\n",
        "\n",
        "database_df = pd.read_csv(f\"{folder_path}/audio/audioDB_train.csv\")\n",
        "myds = SoundDS(database_df, './', output_dim)\n",
        "\n",
        "# Random split of 80:20 between training and validation\n",
        "num_items = len(myds)\n",
        "num_train = round(num_items * 0.8)\n",
        "num_val = num_items - num_train\n",
        "train_ds, val_ds = random_split(myds, [num_train, num_val])\n",
        "\n",
        "# Create training and validation data loaders\n",
        "train_dl = torch.utils.data.DataLoader(train_ds, batch_size=BATCH_SIZE, shuffle=True)\n",
        "val_dl = torch.utils.data.DataLoader(val_ds, batch_size=BATCH_SIZE, shuffle=False)"
      ],
      "outputs": [],
      "execution_count": 12,
      "metadata": {
        "id": "M1nT__codBtj",
        "gather": {
          "logged": 1721559831021
        }
      }
    },
    {
      "cell_type": "markdown",
      "source": [
        "### Paso 3. Entrenamiento de la red"
      ],
      "metadata": {
        "id": "LpwecWiv3dQ1"
      }
    },
    {
      "cell_type": "code",
      "source": [
        "from torch import nn\n",
        "from tqdm import tqdm\n",
        "from tfm_lib.EarlyStopping import EarlyStopping\n",
        "\n",
        "# ----------------------------\n",
        "# Training Loop\n",
        "# ----------------------------\n",
        "def training(model, train_dl, val_dl, num_epochs):\n",
        "  # Loss Function, Optimizer and Scheduler\n",
        "  criterion = nn.CrossEntropyLoss()\n",
        "  optimizer = torch.optim.Adam(model.parameters(),lr=lr)\n",
        "  scheduler = torch.optim.lr_scheduler.ReduceLROnPlateau(optimizer, 'min', patience = 4)\n",
        "\n",
        "  # Inicializar EarlyStopping\n",
        "  early_stopping = EarlyStopping(patience=5, verbose=True, delta=0.01, path=model_parameters_file)\n",
        "\n",
        "  train_loss = {}\n",
        "  test_loss = {}\n",
        "  train_acc = {}\n",
        "  test_acc = {}\n",
        "\n",
        "  # Repeat for each epoch\n",
        "  for epoch in range(num_epochs):\n",
        "    model.train()\n",
        "\n",
        "    running_loss = 0.0\n",
        "    correct_prediction = 0\n",
        "    total_prediction = 0\n",
        "\n",
        "    train_steps = tqdm(train_dl, unit=\"batch\")\n",
        "\n",
        "    # Repeat for each batch in the training set\n",
        "    for i, data in enumerate(train_steps):\n",
        "\n",
        "        train_steps.set_description(f\"Epoch [{epoch+1}/{num_epochs}]. Training\")\n",
        "\n",
        "        # Get the input features and target labels, and put them on the GPU\n",
        "        inputs, labels = data[0].to(device), data[1].to(device)\n",
        "\n",
        "        # Normalize the inputs\n",
        "        inputs_m, inputs_s = inputs.mean(), inputs.std()\n",
        "        inputs = (inputs - inputs_m) / inputs_s\n",
        "\n",
        "        # Zero the parameter gradients\n",
        "        optimizer.zero_grad()\n",
        "\n",
        "        # forward + backward + optimize\n",
        "        outputs = model(inputs)\n",
        "        loss = criterion(outputs, labels)\n",
        "        loss.backward()\n",
        "        optimizer.step()\n",
        "        # scheduler.step()\n",
        "\n",
        "        # Keep stats for Loss and Accuracy\n",
        "        running_loss += loss.item()\n",
        "\n",
        "        # Get the predicted class with the highest score\n",
        "        _, prediction = torch.max(outputs,1)\n",
        "        # Count of predictions that matched the target label\n",
        "        correct_prediction += (prediction == labels).sum().item()\n",
        "        total_prediction += prediction.shape[0]\n",
        "\n",
        "        train_steps.set_postfix(mean_loss=running_loss/total_prediction, mean_accuracy = correct_prediction / total_prediction)\n",
        "\n",
        "    # Print stats at the end of the epoch\n",
        "    num_batches = len(train_dl)\n",
        "    avg_loss = running_loss / num_batches\n",
        "    acc = correct_prediction/total_prediction\n",
        "    print(f'Epoch [{epoch+1}/{num_epochs}]:')\n",
        "    print(f'Training. Loss: {avg_loss:.2f}, Accuracy: {acc:.2f}')\n",
        "\n",
        "    train_loss[epoch+1] = avg_loss\n",
        "    train_acc[epoch+1] = acc\n",
        "\n",
        "    # Validación del modelo\n",
        "    model.eval()\n",
        "    correct_prediction = 0\n",
        "    total_prediction = 0\n",
        "    running_loss = 0\n",
        "\n",
        "    # Disable gradient updates\n",
        "    with torch.no_grad():\n",
        "\n",
        "      predictions = []\n",
        "      label_list = []\n",
        "      for data in val_dl:\n",
        "        # Get the input features and target labels, and put them on the GPU\n",
        "        inputs, labels = data[0].to(device), data[1].to(device)\n",
        "\n",
        "        # Normalize the inputs\n",
        "        inputs_m, inputs_s = inputs.mean(), inputs.std()\n",
        "        inputs = (inputs - inputs_m) / inputs_s\n",
        "\n",
        "        # Get predictions\n",
        "        outputs = model(inputs)\n",
        "        loss = criterion(outputs, labels)\n",
        "        running_loss += loss.item()\n",
        "\n",
        "        # Get the predicted class with the highest score\n",
        "        _, prediction = torch.max(outputs,1)\n",
        "        # Count of predictions that matched the target label\n",
        "        correct_prediction += (prediction == labels).sum().item()\n",
        "        total_prediction += prediction.shape[0]\n",
        "\n",
        "        predictions.extend(prediction)\n",
        "        label_list.extend(data[1])\n",
        "\n",
        "    acc = correct_prediction/total_prediction\n",
        "    val_loss = running_loss / len(val_dl)\n",
        "\n",
        "    print(f'Validation. Loss: {val_loss:.6f}, Accuracy: {acc:.6f}')\n",
        "\n",
        "    test_loss[epoch+1] = val_loss\n",
        "    test_acc[epoch+1] = acc\n",
        "\n",
        "    # Llamar a early_stopping con la pérdida de validación actual y el modelo\n",
        "    early_stopping(val_loss, model)\n",
        "    print('')\n",
        "\n",
        "    # Si se alcanza el criterio de early stopping, romper el bucle\n",
        "    if early_stopping.early_stop:\n",
        "        print(\"Early stopping\")\n",
        "        break\n",
        "      \n",
        "    # Cambiar learning rate si hace falta\n",
        "    scheduler.step(test_loss[epoch+1])\n",
        "\n",
        "    wandb.log({\n",
        "      'Epoch': epoch+1,\n",
        "      'Training Loss': train_loss[epoch+1],\n",
        "      'Training Accuracy': train_acc[epoch+1],\n",
        "      'Evaluation Loss': test_loss[epoch+1],\n",
        "      'Evaluation Accuracy': test_acc[epoch+1],\n",
        "      })\n",
        "\n",
        "  print('Finished Training')\n",
        "\n",
        "  return {'train_acc': train_acc, 'train_loss': train_loss, 'val_acc': test_acc, 'val_loss': test_loss}"
      ],
      "outputs": [],
      "execution_count": 13,
      "metadata": {
        "id": "zNWZH4zidBtm",
        "gather": {
          "logged": 1721559832829
        }
      }
    },
    {
      "cell_type": "code",
      "source": [
        "# Create the model and put it on the GPU if available\n",
        "from tfm_lib.modelos import AudioClassifier\n",
        "model = AudioClassifier(output_dim)\n",
        "device = torch.device(\"cuda:0\" if torch.cuda.is_available() else \"cpu\")\n",
        "model = model.to(device)\n",
        "\n",
        "wandb.watch(model, log=\"all\")\n",
        "\n",
        "# Run the training process\n",
        "training_results = training(model, train_dl, val_dl, num_epochs)\n",
        "\n",
        "wandb.log(training_results)\n",
        "wandb.save(model_parameters_file)"
      ],
      "outputs": [
        {
          "output_type": "stream",
          "name": "stderr",
          "text": "/anaconda/envs/jupyter_env/lib/python3.9/site-packages/torch/cuda/__init__.py:619: UserWarning: Can't initialize NVML\n  warnings.warn(\"Can't initialize NVML\")\nEpoch [1/20]. Training: 100%|██████████| 4/4 [00:13<00:00,  3.32s/batch, mean_accuracy=0.638, mean_loss=0.0448]\nEpoch [2/20]. Training: 100%|██████████| 4/4 [00:11<00:00,  2.86s/batch, mean_accuracy=0.81, mean_loss=0.0376] \nEpoch [3/20]. Training: 100%|██████████| 4/4 [00:11<00:00,  2.93s/batch, mean_accuracy=0.879, mean_loss=0.0331]\nEpoch [4/20]. Training: 100%|██████████| 4/4 [00:11<00:00,  2.93s/batch, mean_accuracy=0.914, mean_loss=0.0282]\nEpoch [5/20]. Training: 100%|██████████| 4/4 [00:11<00:00,  2.90s/batch, mean_accuracy=0.931, mean_loss=0.0255]\nEpoch [6/20]. Training: 100%|██████████| 4/4 [00:11<00:00,  2.94s/batch, mean_accuracy=1, mean_loss=0.0202]\nEpoch [7/20]. Training: 100%|██████████| 4/4 [00:11<00:00,  2.93s/batch, mean_accuracy=1, mean_loss=0.0169]\nEpoch [8/20]. Training: 100%|██████████| 4/4 [00:11<00:00,  2.88s/batch, mean_accuracy=1, mean_loss=0.0149]\nEpoch [9/20]. Training: 100%|██████████| 4/4 [00:11<00:00,  2.93s/batch, mean_accuracy=1, mean_loss=0.0118]\nEpoch [10/20]. Training: 100%|██████████| 4/4 [00:11<00:00,  2.88s/batch, mean_accuracy=1, mean_loss=0.0125] \nEpoch [11/20]. Training: 100%|██████████| 4/4 [00:11<00:00,  2.99s/batch, mean_accuracy=0.948, mean_loss=0.0126]\nEpoch [12/20]. Training: 100%|██████████| 4/4 [00:11<00:00,  2.90s/batch, mean_accuracy=1, mean_loss=0.0111] \nEpoch [13/20]. Training: 100%|██████████| 4/4 [00:11<00:00,  2.96s/batch, mean_accuracy=1, mean_loss=0.00731]\nEpoch [14/20]. Training: 100%|██████████| 4/4 [00:11<00:00,  2.90s/batch, mean_accuracy=1, mean_loss=0.00644]\nEpoch [15/20]. Training: 100%|██████████| 4/4 [00:11<00:00,  3.00s/batch, mean_accuracy=1, mean_loss=0.00549]\nEpoch [16/20]. Training: 100%|██████████| 4/4 [00:11<00:00,  2.96s/batch, mean_accuracy=0.966, mean_loss=0.0155]\nEpoch [17/20]. Training: 100%|██████████| 4/4 [00:11<00:00,  2.95s/batch, mean_accuracy=1, mean_loss=0.00445]\nEpoch [18/20]. Training: 100%|██████████| 4/4 [00:11<00:00,  2.94s/batch, mean_accuracy=0.983, mean_loss=0.00656]\nEpoch [19/20]. Training: 100%|██████████| 4/4 [00:11<00:00,  2.96s/batch, mean_accuracy=1, mean_loss=0.00505]\nEpoch [20/20]. Training: 100%|██████████| 4/4 [00:12<00:00,  3.02s/batch, mean_accuracy=1, mean_loss=0.00311]\n"
        },
        {
          "output_type": "stream",
          "name": "stdout",
          "text": "Epoch [1/20]:\nTraining. Loss: 0.65, Accuracy: 0.64\nValidation. Loss: 0.640512, Accuracy: 0.785714\nValidation loss decreased (inf --> 0.640512).  Saving model ...\n\nEpoch [2/20]:\nTraining. Loss: 0.55, Accuracy: 0.81\nValidation. Loss: 0.603742, Accuracy: 0.428571\nValidation loss decreased (0.640512 --> 0.603742).  Saving model ...\n\nEpoch [3/20]:\nTraining. Loss: 0.48, Accuracy: 0.88\nValidation. Loss: 0.585690, Accuracy: 0.428571\nValidation loss decreased (0.603742 --> 0.585690).  Saving model ...\n\nEpoch [4/20]:\nTraining. Loss: 0.41, Accuracy: 0.91\nValidation. Loss: 0.567729, Accuracy: 0.571429\nValidation loss decreased (0.585690 --> 0.567729).  Saving model ...\n\nEpoch [5/20]:\nTraining. Loss: 0.37, Accuracy: 0.93\nValidation. Loss: 0.504183, Accuracy: 0.571429\nValidation loss decreased (0.567729 --> 0.504183).  Saving model ...\n\nEpoch [6/20]:\nTraining. Loss: 0.29, Accuracy: 1.00\nValidation. Loss: 0.387770, Accuracy: 1.000000\nValidation loss decreased (0.504183 --> 0.387770).  Saving model ...\n\nEpoch [7/20]:\nTraining. Loss: 0.24, Accuracy: 1.00\nValidation. Loss: 0.297599, Accuracy: 1.000000\nValidation loss decreased (0.387770 --> 0.297599).  Saving model ...\n\nEpoch [8/20]:\nTraining. Loss: 0.22, Accuracy: 1.00\nValidation. Loss: 0.235450, Accuracy: 1.000000\nValidation loss decreased (0.297599 --> 0.235450).  Saving model ...\n\nEpoch [9/20]:\nTraining. Loss: 0.17, Accuracy: 1.00\nValidation. Loss: 0.189810, Accuracy: 1.000000\nValidation loss decreased (0.235450 --> 0.189810).  Saving model ...\n\nEpoch [10/20]:\nTraining. Loss: 0.18, Accuracy: 1.00\nValidation. Loss: 0.148333, Accuracy: 1.000000\nValidation loss decreased (0.189810 --> 0.148333).  Saving model ...\n\nEpoch [11/20]:\nTraining. Loss: 0.18, Accuracy: 0.95\nValidation. Loss: 0.118899, Accuracy: 1.000000\nValidation loss decreased (0.148333 --> 0.118899).  Saving model ...\n\nEpoch [12/20]:\nTraining. Loss: 0.16, Accuracy: 1.00\nValidation. Loss: 0.094208, Accuracy: 1.000000\nValidation loss decreased (0.118899 --> 0.094208).  Saving model ...\n\nEpoch [13/20]:\nTraining. Loss: 0.11, Accuracy: 1.00\nValidation. Loss: 0.081753, Accuracy: 1.000000\nValidation loss decreased (0.094208 --> 0.081753).  Saving model ...\n\nEpoch [14/20]:\nTraining. Loss: 0.09, Accuracy: 1.00\nValidation. Loss: 0.073220, Accuracy: 1.000000\nEarlyStopping counter: 1 out of 5\n\nEpoch [15/20]:\nTraining. Loss: 0.08, Accuracy: 1.00\nValidation. Loss: 0.087636, Accuracy: 1.000000\nEarlyStopping counter: 2 out of 5\n\nEpoch [16/20]:\nTraining. Loss: 0.23, Accuracy: 0.97\nValidation. Loss: 0.076209, Accuracy: 1.000000\nEarlyStopping counter: 3 out of 5\n\nEpoch [17/20]:\nTraining. Loss: 0.06, Accuracy: 1.00\nValidation. Loss: 0.050710, Accuracy: 1.000000\nValidation loss decreased (0.081753 --> 0.050710).  Saving model ...\n\nEpoch [18/20]:\nTraining. Loss: 0.10, Accuracy: 0.98\nValidation. Loss: 0.050358, Accuracy: 1.000000\nEarlyStopping counter: 1 out of 5\n\nEpoch [19/20]:\nTraining. Loss: 0.07, Accuracy: 1.00\nValidation. Loss: 0.044392, Accuracy: 1.000000\nEarlyStopping counter: 2 out of 5\n\nEpoch [20/20]:\nTraining. Loss: 0.05, Accuracy: 1.00\nValidation. Loss: 0.041634, Accuracy: 1.000000\nEarlyStopping counter: 3 out of 5\n\nFinished Training\n"
        },
        {
          "output_type": "execute_result",
          "execution_count": 14,
          "data": {
            "text/plain": "['/mnt/batch/tasks/shared/LS_root/mounts/clusters/tfm-cpu/code/Users/jose.puche/Scripts/wandb/run-20240721_105923-86gsbkyt/files/modelos/audio/AUDIO_2pers_lr5e-04_bs16_20ep.pt']"
          },
          "metadata": {}
        }
      ],
      "execution_count": 14,
      "metadata": {
        "colab": {
          "base_uri": "https://localhost:8080/"
        },
        "id": "AKfiIW1r4dZT",
        "executionInfo": {
          "status": "ok",
          "timestamp": 1720728659625,
          "user_tz": -120,
          "elapsed": 113922,
          "user": {
            "displayName": "JOSÉ ALBERTO AZORIN PUCHE",
            "userId": "07780853208545474625"
          }
        },
        "outputId": "b69c3238-08a6-4acc-be88-c24ce03feb87",
        "gather": {
          "logged": 1721560139137
        }
      }
    },
    {
      "cell_type": "markdown",
      "source": [
        "### Paso 4. Resultados con los datos de test"
      ],
      "metadata": {
        "id": "bTM7EaVl3iDa"
      }
    },
    {
      "cell_type": "code",
      "source": [
        "test_dataset = SoundDS(pd.read_csv(f\"{folder_path}/audio/audioDB_test.csv\"), './', output_dim)\n",
        "test_dl = torch.utils.data.DataLoader(test_dataset, batch_size=1048, shuffle=True)"
      ],
      "outputs": [],
      "execution_count": 18,
      "metadata": {
        "jupyter": {
          "source_hidden": false,
          "outputs_hidden": false
        },
        "nteract": {
          "transient": {
            "deleting": false
          }
        },
        "gather": {
          "logged": 1721560162023
        }
      }
    },
    {
      "cell_type": "code",
      "source": [
        "# ----------------------------\n",
        "# Inference\n",
        "# ----------------------------\n",
        "def inference (model, test_dataset):\n",
        "  correct_prediction = 0\n",
        "  total_prediction = 0\n",
        "\n",
        "  # Disable gradient updates\n",
        "  with torch.no_grad():\n",
        "\n",
        "    predictions = []\n",
        "    label_list = []\n",
        "    for data in val_dl:\n",
        "      # Get the input features and target labels, and put them on the GPU\n",
        "      inputs, labels = data[0].to(device), data[1].to(device)\n",
        "\n",
        "      # Normalize the inputs\n",
        "      inputs_m, inputs_s = inputs.mean(), inputs.std()\n",
        "      inputs = (inputs - inputs_m) / inputs_s\n",
        "\n",
        "      # Get predictions\n",
        "      outputs = model(inputs)\n",
        "\n",
        "      # Get the predicted class with the highest score\n",
        "      _, prediction = torch.max(outputs,1)\n",
        "      # Count of predictions that matched the target label\n",
        "      correct_prediction += (prediction == labels).sum().item()\n",
        "      total_prediction += prediction.shape[0]\n",
        "\n",
        "      predictions.extend(prediction)\n",
        "      label_list.extend(data[1])\n",
        "\n",
        "  acc = correct_prediction/total_prediction\n",
        "  print(f'Accuracy: {acc:.2f}, Total items: {total_prediction}')\n",
        "\n",
        "  return predictions, label_list\n",
        "\n",
        "# Run inference on trained model with the validation set\n",
        "model.load_state_dict(torch.load(model_parameters_file, map_location=torch.device('cpu')))\n",
        "result = inference(model, test_dl)"
      ],
      "outputs": [
        {
          "output_type": "stream",
          "name": "stdout",
          "text": "Accuracy: 1.00, Total items: 14\n"
        }
      ],
      "execution_count": 19,
      "metadata": {
        "id": "fzt1bAnBdBtm",
        "colab": {
          "base_uri": "https://localhost:8080/"
        },
        "executionInfo": {
          "status": "ok",
          "timestamp": 1720728672091,
          "user_tz": -120,
          "elapsed": 958,
          "user": {
            "displayName": "JOSÉ ALBERTO AZORIN PUCHE",
            "userId": "07780853208545474625"
          }
        },
        "outputId": "c6b92cab-da18-460c-eeb7-b4156b87340e",
        "gather": {
          "logged": 1721560168694
        }
      }
    },
    {
      "cell_type": "code",
      "source": [
        "from sklearn.metrics import accuracy_score, recall_score, precision_score, roc_auc_score, f1_score, confusion_matrix\n",
        "import seaborn as sn\n",
        "import numpy as np\n",
        "import plotly\n",
        "import matplotlib.pyplot as plt\n",
        "\n",
        "def plot_confusion_matrix(y_true, y_pred):\n",
        "    cf_matrix = confusion_matrix(y_true, y_pred)\n",
        "\n",
        "    df_cm = pd.DataFrame((cf_matrix / np.sum(cf_matrix, axis=1)[:, None]).round(3),\n",
        "                     index = myds.labelencoder().classes_,\n",
        "                     columns = myds.labelencoder().classes_)\n",
        "    plt.figure(figsize = (5,5))\n",
        "    sn.set(font_scale=1.0)\n",
        "    sn.heatmap(df_cm, annot=True, cbar = False, cmap='Purples', fmt='g')\n",
        "    plt.savefig(model_parameters_file.replace('/modelos/', '/results/').replace('.pt', '.png'))\n",
        "\n",
        "    return plt.gcf() \n",
        "\n",
        "def get_metrics(result):\n",
        "    accuracy = accuracy_score(result[1], result[0])\n",
        "    precision = precision_score(result[1], result[0], average='macro')\n",
        "    recall = recall_score(result[1], result[0], average='macro')\n",
        "    f1 = f1_score(result[1], result[0], average='macro')\n",
        "\n",
        "    metrics = {\n",
        "        'Test accuracy': accuracy,\n",
        "        'Test precision': precision,\n",
        "        'Test recall': recall,\n",
        "        'F1-score': f1\n",
        "    }\n",
        "\n",
        "    print(metrics)\n",
        "\n",
        "    metrics['Confusion Matrix'] = wandb.Image(plot_confusion_matrix(result[1],result[0]))\n",
        "\n",
        "    return metrics\n",
        "\n",
        "metrics = get_metrics(result)\n",
        "wandb.log(metrics)"
      ],
      "outputs": [
        {
          "output_type": "stream",
          "name": "stdout",
          "text": "{'Test accuracy': 1.0, 'Test precision': 1.0, 'Test recall': 1.0, 'F1-score': 1.0}\n"
        },
        {
          "output_type": "display_data",
          "data": {
            "text/plain": "<Figure size 500x500 with 1 Axes>",
            "image/png": "[encoded data removed]"
          },
          "metadata": {}
        }
      ],
      "execution_count": 29,
      "metadata": {
        "jupyter": {
          "source_hidden": false,
          "outputs_hidden": false
        },
        "nteract": {
          "transient": {
            "deleting": false
          }
        },
        "gather": {
          "logged": 1721560700159
        }
      }
    },
    {
      "cell_type": "code",
      "source": [
        "wandb.finish()"
      ],
      "outputs": [
        {
          "output_type": "display_data",
          "data": {
            "text/plain": "VBox(children=(Label(value='0.126 MB of 0.126 MB uploaded\\r'), FloatProgress(value=1.0, max=1.0)))",
            "application/vnd.jupyter.widget-view+json": {
              "version_major": 2,
              "version_minor": 0,
              "model_id": "0f63ca0c2d67415dbdd6462b342b45f5"
            }
          },
          "metadata": {}
        },
        {
          "output_type": "display_data",
          "data": {
            "text/plain": "<IPython.core.display.HTML object>",
            "text/html": "<style>\n    table.wandb td:nth-child(1) { padding: 0 10px; text-align: left ; width: auto;} td:nth-child(2) {text-align: left ; width: 100%}\n    .wandb-row { display: flex; flex-direction: row; flex-wrap: wrap; justify-content: flex-start; width: 100% }\n    .wandb-col { display: flex; flex-direction: column; flex-basis: 100%; flex: 1; padding: 10px; }\n    </style>\n<div class=\"wandb-row\"><div class=\"wandb-col\"><h3>Run history:</h3><br/><table class=\"wandb\"><tr><td>Epoch</td><td>▁▁▂▂▂▃▃▄▄▄▅▅▅▆▆▇▇▇██</td></tr><tr><td>Evaluation Accuracy</td><td>▅▁▁▃▃███████████████</td></tr><tr><td>Evaluation Loss</td><td>██▇▇▆▅▄▃▃▂▂▂▁▁▂▁▁▁▁▁</td></tr><tr><td>F1-score</td><td>▁</td></tr><tr><td>Test accuracy</td><td>▁</td></tr><tr><td>Test precision</td><td>▁</td></tr><tr><td>Test recall</td><td>▁</td></tr><tr><td>Training Accuracy</td><td>▁▄▆▆▇█████▇████▇████</td></tr><tr><td>Training Loss</td><td>█▇▆▅▅▄▃▃▂▃▃▂▂▂▁▃▁▂▁▁</td></tr></table><br/></div><div class=\"wandb-col\"><h3>Run summary:</h3><br/><table class=\"wandb\"><tr><td>Epoch</td><td>20</td></tr><tr><td>Evaluation Accuracy</td><td>1.0</td></tr><tr><td>Evaluation Loss</td><td>0.04163</td></tr><tr><td>F1-score</td><td>1.0</td></tr><tr><td>Test accuracy</td><td>1.0</td></tr><tr><td>Test precision</td><td>1.0</td></tr><tr><td>Test recall</td><td>1.0</td></tr><tr><td>Training Accuracy</td><td>1.0</td></tr><tr><td>Training Loss</td><td>0.04508</td></tr></table><br/></div></div>"
          },
          "metadata": {}
        },
        {
          "output_type": "display_data",
          "data": {
            "text/plain": "<IPython.core.display.HTML object>",
            "text/html": " View run <strong style=\"color:#cdcd00\">denim-silence-2</strong> at: <a href='https://wandb.ai/josealbertoap/AUDIO_2pers_lr5e-04_bs16_20ep.pt/runs/86gsbkyt' target=\"_blank\">https://wandb.ai/josealbertoap/AUDIO_2pers_lr5e-04_bs16_20ep.pt/runs/86gsbkyt</a><br/> View project at: <a href='https://wandb.ai/josealbertoap/AUDIO_2pers_lr5e-04_bs16_20ep.pt' target=\"_blank\">https://wandb.ai/josealbertoap/AUDIO_2pers_lr5e-04_bs16_20ep.pt</a><br/>Synced 6 W&B file(s), 1 media file(s), 0 artifact file(s) and 1 other file(s)"
          },
          "metadata": {}
        },
        {
          "output_type": "display_data",
          "data": {
            "text/plain": "<IPython.core.display.HTML object>",
            "text/html": "Find logs at: <code>./wandb/run-20240721_105923-86gsbkyt/logs</code>"
          },
          "metadata": {}
        },
        {
          "output_type": "display_data",
          "data": {
            "text/plain": "<IPython.core.display.HTML object>",
            "text/html": "The new W&B backend becomes opt-out in version 0.18.0; try it out with `wandb.require(\"core\")`! See https://wandb.me/wandb-core for more information."
          },
          "metadata": {}
        }
      ],
      "execution_count": 30,
      "metadata": {
        "jupyter": {
          "source_hidden": false,
          "outputs_hidden": false
        },
        "nteract": {
          "transient": {
            "deleting": false
          }
        },
        "gather": {
          "logged": 1721560716682
        }
      }
    }
  ],
  "metadata": {
    "colab": {
      "provenance": []
    },
    "kernelspec": {
      "name": "python3",
      "language": "python",
      "display_name": "Python 3 (ipykernel)"
    },
    "language_info": {
      "name": "python",
      "version": "3.9.18",
      "mimetype": "text/x-python",
      "codemirror_mode": {
        "name": "ipython",
        "version": 3
      },
      "pygments_lexer": "ipython3",
      "nbconvert_exporter": "python",
      "file_extension": ".py"
    },
    "microsoft": {
      "ms_spell_check": {
        "ms_spell_check_language": "en"
      },
      "host": {
        "AzureML": {
          "notebookHasBeenCompleted": true
        }
      }
    },
    "kernel_info": {
      "name": "python3"
    },
    "nteract": {
      "version": "nteract-front-end@1.0.0"
    }
  },
  "nbformat": 4,
  "nbformat_minor": 0
}