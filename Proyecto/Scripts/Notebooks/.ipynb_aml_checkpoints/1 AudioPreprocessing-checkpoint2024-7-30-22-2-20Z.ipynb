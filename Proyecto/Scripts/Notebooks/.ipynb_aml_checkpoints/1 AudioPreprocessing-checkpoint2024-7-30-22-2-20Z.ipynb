{
  "cells": [
    {
      "cell_type": "markdown",
      "source": [
        "## Trabajo Fin de Máster <br/> Diseño de una arquitectura multimodal para descripción textual de pares imagen-audio\n",
        "\n",
        "## Script 1. Preprocesamiento de audio usando PyTorch\n",
        "\n",
        "En este notebook, creamos una base de datos para un clasificador de audio, a partir de unos pocos audios originales. Para ello, usamos lo compartido en el artículo de [TowardsDataScience](https://towardsdatascience.com/audio-deep-learning-made-simple-sound-classification-step-by-step-cebc936bbe5). Tomamos las clases que se definen en dicho artículo, y las enriquecemos con métodos propios, y otros extraídos de esta entrada en [medium](https://medium.com/@alibugra/audio-data-augmentation-f26d716eee66).\n"
      ],
      "metadata": {
        "id": "mROJteeudBtO"
      }
    },
    {
      "cell_type": "markdown",
      "source": [
        "### Paso 1. Lectura de audios originales\n",
        "\n",
        "Accedemos a la carpeta donde se encuentran los audios originales y generamos un dataframe con información básica sobre ellos."
      ],
      "metadata": {
        "id": "yKbxiZgIa9_K"
      }
    },
    {
      "cell_type": "code",
      "source": [
        "import os\n",
        "import shutil\n",
        "import pandas as pd"
      ],
      "outputs": [],
      "execution_count": 1,
      "metadata": {
        "id": "a95ggMTpRS9_",
        "gather": {
          "logged": 1721410863782
        }
      }
    },
    {
      "cell_type": "code",
      "source": [
        "os.chdir(\"..\")\n",
        "os.getcwd()"
      ],
      "outputs": [
        {
          "output_type": "execute_result",
          "execution_count": 2,
          "data": {
            "text/plain": "'/mnt/batch/tasks/shared/LS_root/mounts/clusters/tfm-cpu/code/Users/jose.puche/Scripts'"
          },
          "metadata": {}
        }
      ],
      "execution_count": 2,
      "metadata": {
        "jupyter": {
          "source_hidden": false,
          "outputs_hidden": false
        },
        "nteract": {
          "transient": {
            "deleting": false
          }
        },
        "gather": {
          "logged": 1721410864079
        }
      }
    },
    {
      "cell_type": "code",
      "source": [
        "from tfm_lib.audio_processing import AudioUtil, AudioAugmentation\n",
        "\n",
        "def audio_files_df(database_path):\n",
        "\n",
        "    participants = os.listdir(database_path)\n",
        "\n",
        "    rel_paths = []\n",
        "    sample_rates = []\n",
        "    channels = []\n",
        "    duration = []\n",
        "    classID = []\n",
        "\n",
        "    for person in participants:\n",
        "        if '.' in person:\n",
        "            continue\n",
        "        relative_path = f\"{database_path}/{person}/audio.ogg\"\n",
        "        sig, sr = AudioUtil.open(relative_path)\n",
        "            \n",
        "\n",
        "        rel_paths.append(relative_path)\n",
        "        sample_rates.append(sr)\n",
        "        channels.append(sig.shape[0])\n",
        "        duration.append(sig.shape[1]/sr)\n",
        "        classID.append(person)\n",
        "\n",
        "    return pd.DataFrame({\n",
        "        \"relative_path\": rel_paths,\n",
        "        \"sample_rate\": sample_rates,\n",
        "        \"channels\": channels,\n",
        "        \"duration (s)\": duration,\n",
        "        \"classID\": classID\n",
        "    })\n",
        "\n",
        "\n",
        "df = audio_files_df('../Database')\n",
        "display(df)"
      ],
      "outputs": [
        {
          "output_type": "display_data",
          "data": {
            "text/plain": "                                        relative_path  sample_rate  channels  \\\n0          ../Database/Alba Azorin Zafrilla/audio.ogg        16000         1   \n1          ../Database/Alfonso Girona Palao/audio.ogg        16000         1   \n2           ../Database/Alfonso Vidal Lopez/audio.ogg        16000         1   \n3              ../Database/Ana Azorin Puche/audio.ogg        16000         1   \n4               ../Database/Ana Puche Palao/audio.ogg        16000         1   \n5      ../Database/Angela Espinosa Martinez/audio.ogg        48000         1   \n6           ../Database/Clara Hidalgo Lopez/audio.ogg        16000         1   \n7        ../Database/Cristina Carpena Ortiz/audio.ogg        16000         1   \n8          ../Database/David Azorin Soriano/audio.ogg        16000         1   \n9            ../Database/Diego Molina Puche/audio.ogg        16000         1   \n10         ../Database/Eva Jimenez Mariscal/audio.ogg        16000         1   \n11  ../Database/Francisco Jose Maldonado Montiel/a...        16000         1   \n12        ../Database/Genesis Reyes Arteaga/audio.ogg        16000         1   \n13        ../Database/Irene Gutierrez Perez/audio.ogg        16000         1   \n14           ../Database/Irene Molina Puche/audio.ogg        48000         2   \n15           ../Database/Irene Ponte Ibanez/audio.ogg        16000         1   \n16            ../Database/Iria Alonso Alves/audio.ogg        16000         1   \n17       ../Database/Javier Lopez Martínez/audio.ogg        16000         1   \n18      ../Database/Jonathan Gonzalez Lopez/audio.ogg        16000         1   \n19          ../Database/Jorge Salinas Puche/audio.ogg        16000         1   \n20    ../Database/Jose Alberto Azorin Puche/audio.ogg        16000         1   \n21            ../Database/Jose Azorin Verdu/audio.ogg        16000         1   \n22          ../Database/Jose Duenas García/audio.ogg        16000         1   \n23  ../Database/Jose Manuel Nieto del Valle/audio.ogg        44100         1   \n24         ../Database/Joseju Ubric Quesada/audio.ogg        48000         2   \n25            ../Database/Juan Cuesta Lopez/audio.ogg        16000         1   \n26       ../Database/Juanjo Bautista Ibanez/audio.ogg        16000         1   \n27        ../Database/Lydia Bautista Ibanez/audio.ogg        16000         1   \n28     ../Database/Maria Jose Morales Forte/audio.ogg        16000         1   \n29       ../Database/Mercedes Parody Guzman/audio.ogg        16000         1   \n30         ../Database/Miguel Correas Perez/audio.ogg        48000         1   \n31   ../Database/Nerea Hernandez Carpintero/audio.ogg        16000         1   \n32        ../Database/Noelia Sanchez Alonso/audio.ogg        16000         1   \n33     ../Database/Oscar del Barrio Farrán/audio.ogg        16000         1   \n34          ../Database/Rafael Molina Lopez/audio.ogg        16000         1   \n35   ../Database/Regina SanMartino Miralles/audio.ogg        16000         1   \n36     ../Database/Rodrigo Soriano Gonzalez/audio.ogg        16000         1   \n37             ../Database/Rosi Puche Palao/audio.ogg        16000         1   \n38        ../Database/Sandra Castano Azorin/audio.ogg        16000         1   \n39        ../Database/Sergio Castano Azorin/audio.ogg        16000         1   \n\n    duration (s)                           classID  \n0      23.713500              Alba Azorin Zafrilla  \n1      21.933500              Alfonso Girona Palao  \n2      22.993500               Alfonso Vidal Lopez  \n3      21.433500                  Ana Azorin Puche  \n4      25.537813                   Ana Puche Palao  \n5      25.980333          Angela Espinosa Martinez  \n6      21.917813               Clara Hidalgo Lopez  \n7      25.993500            Cristina Carpena Ortiz  \n8      21.757812              David Azorin Soriano  \n9      22.657812                Diego Molina Puche  \n10     25.013500              Eva Jimenez Mariscal  \n11     24.057813  Francisco Jose Maldonado Montiel  \n12     24.677813             Genesis Reyes Arteaga  \n13     24.597812             Irene Gutierrez Perez  \n14     18.384000                Irene Molina Puche  \n15     26.333500                Irene Ponte Ibanez  \n16     21.273500                 Iria Alonso Alves  \n17     22.637812            Javier Lopez Martínez  \n18     23.173500           Jonathan Gonzalez Lopez  \n19     28.857813               Jorge Salinas Puche  \n20     22.893500         Jose Alberto Azorin Puche  \n21     40.577813                 Jose Azorin Verdu  \n22     28.457812               Jose Duenas García  \n23     22.801995       Jose Manuel Nieto del Valle  \n24     24.789333              Joseju Ubric Quesada  \n25     21.937812                 Juan Cuesta Lopez  \n26     33.073500            Juanjo Bautista Ibanez  \n27     19.353500             Lydia Bautista Ibanez  \n28     21.873500          Maria Jose Morales Forte  \n29     24.157812            Mercedes Parody Guzman  \n30     22.570667              Miguel Correas Perez  \n31     22.037813        Nerea Hernandez Carpintero  \n32     20.413500             Noelia Sanchez Alonso  \n33     20.797812          Oscar del Barrio Farrán  \n34     29.313500               Rafael Molina Lopez  \n35     23.573500        Regina SanMartino Miralles  \n36     26.597812          Rodrigo Soriano Gonzalez  \n37     30.077813                  Rosi Puche Palao  \n38     23.393500             Sandra Castano Azorin  \n39     34.453500             Sergio Castano Azorin  ",
            "text/html": "<div>\n<style scoped>\n    .dataframe tbody tr th:only-of-type {\n        vertical-align: middle;\n    }\n\n    .dataframe tbody tr th {\n        vertical-align: top;\n    }\n\n    .dataframe thead th {\n        text-align: right;\n    }\n</style>\n<table border=\"1\" class=\"dataframe\">\n  <thead>\n    <tr style=\"text-align: right;\">\n      <th></th>\n      <th>relative_path</th>\n      <th>sample_rate</th>\n      <th>channels</th>\n      <th>duration (s)</th>\n      <th>classID</th>\n    </tr>\n  </thead>\n  <tbody>\n    <tr>\n      <th>0</th>\n      <td>../Database/Alba Azorin Zafrilla/audio.ogg</td>\n      <td>16000</td>\n      <td>1</td>\n      <td>23.713500</td>\n      <td>Alba Azorin Zafrilla</td>\n    </tr>\n    <tr>\n      <th>1</th>\n      <td>../Database/Alfonso Girona Palao/audio.ogg</td>\n      <td>16000</td>\n      <td>1</td>\n      <td>21.933500</td>\n      <td>Alfonso Girona Palao</td>\n    </tr>\n    <tr>\n      <th>2</th>\n      <td>../Database/Alfonso Vidal Lopez/audio.ogg</td>\n      <td>16000</td>\n      <td>1</td>\n      <td>22.993500</td>\n      <td>Alfonso Vidal Lopez</td>\n    </tr>\n    <tr>\n      <th>3</th>\n      <td>../Database/Ana Azorin Puche/audio.ogg</td>\n      <td>16000</td>\n      <td>1</td>\n      <td>21.433500</td>\n      <td>Ana Azorin Puche</td>\n    </tr>\n    <tr>\n      <th>4</th>\n      <td>../Database/Ana Puche Palao/audio.ogg</td>\n      <td>16000</td>\n      <td>1</td>\n      <td>25.537813</td>\n      <td>Ana Puche Palao</td>\n    </tr>\n    <tr>\n      <th>5</th>\n      <td>../Database/Angela Espinosa Martinez/audio.ogg</td>\n      <td>48000</td>\n      <td>1</td>\n      <td>25.980333</td>\n      <td>Angela Espinosa Martinez</td>\n    </tr>\n    <tr>\n      <th>6</th>\n      <td>../Database/Clara Hidalgo Lopez/audio.ogg</td>\n      <td>16000</td>\n      <td>1</td>\n      <td>21.917813</td>\n      <td>Clara Hidalgo Lopez</td>\n    </tr>\n    <tr>\n      <th>7</th>\n      <td>../Database/Cristina Carpena Ortiz/audio.ogg</td>\n      <td>16000</td>\n      <td>1</td>\n      <td>25.993500</td>\n      <td>Cristina Carpena Ortiz</td>\n    </tr>\n    <tr>\n      <th>8</th>\n      <td>../Database/David Azorin Soriano/audio.ogg</td>\n      <td>16000</td>\n      <td>1</td>\n      <td>21.757812</td>\n      <td>David Azorin Soriano</td>\n    </tr>\n    <tr>\n      <th>9</th>\n      <td>../Database/Diego Molina Puche/audio.ogg</td>\n      <td>16000</td>\n      <td>1</td>\n      <td>22.657812</td>\n      <td>Diego Molina Puche</td>\n    </tr>\n    <tr>\n      <th>10</th>\n      <td>../Database/Eva Jimenez Mariscal/audio.ogg</td>\n      <td>16000</td>\n      <td>1</td>\n      <td>25.013500</td>\n      <td>Eva Jimenez Mariscal</td>\n    </tr>\n    <tr>\n      <th>11</th>\n      <td>../Database/Francisco Jose Maldonado Montiel/a...</td>\n      <td>16000</td>\n      <td>1</td>\n      <td>24.057813</td>\n      <td>Francisco Jose Maldonado Montiel</td>\n    </tr>\n    <tr>\n      <th>12</th>\n      <td>../Database/Genesis Reyes Arteaga/audio.ogg</td>\n      <td>16000</td>\n      <td>1</td>\n      <td>24.677813</td>\n      <td>Genesis Reyes Arteaga</td>\n    </tr>\n    <tr>\n      <th>13</th>\n      <td>../Database/Irene Gutierrez Perez/audio.ogg</td>\n      <td>16000</td>\n      <td>1</td>\n      <td>24.597812</td>\n      <td>Irene Gutierrez Perez</td>\n    </tr>\n    <tr>\n      <th>14</th>\n      <td>../Database/Irene Molina Puche/audio.ogg</td>\n      <td>48000</td>\n      <td>2</td>\n      <td>18.384000</td>\n      <td>Irene Molina Puche</td>\n    </tr>\n    <tr>\n      <th>15</th>\n      <td>../Database/Irene Ponte Ibanez/audio.ogg</td>\n      <td>16000</td>\n      <td>1</td>\n      <td>26.333500</td>\n      <td>Irene Ponte Ibanez</td>\n    </tr>\n    <tr>\n      <th>16</th>\n      <td>../Database/Iria Alonso Alves/audio.ogg</td>\n      <td>16000</td>\n      <td>1</td>\n      <td>21.273500</td>\n      <td>Iria Alonso Alves</td>\n    </tr>\n    <tr>\n      <th>17</th>\n      <td>../Database/Javier Lopez Martínez/audio.ogg</td>\n      <td>16000</td>\n      <td>1</td>\n      <td>22.637812</td>\n      <td>Javier Lopez Martínez</td>\n    </tr>\n    <tr>\n      <th>18</th>\n      <td>../Database/Jonathan Gonzalez Lopez/audio.ogg</td>\n      <td>16000</td>\n      <td>1</td>\n      <td>23.173500</td>\n      <td>Jonathan Gonzalez Lopez</td>\n    </tr>\n    <tr>\n      <th>19</th>\n      <td>../Database/Jorge Salinas Puche/audio.ogg</td>\n      <td>16000</td>\n      <td>1</td>\n      <td>28.857813</td>\n      <td>Jorge Salinas Puche</td>\n    </tr>\n    <tr>\n      <th>20</th>\n      <td>../Database/Jose Alberto Azorin Puche/audio.ogg</td>\n      <td>16000</td>\n      <td>1</td>\n      <td>22.893500</td>\n      <td>Jose Alberto Azorin Puche</td>\n    </tr>\n    <tr>\n      <th>21</th>\n      <td>../Database/Jose Azorin Verdu/audio.ogg</td>\n      <td>16000</td>\n      <td>1</td>\n      <td>40.577813</td>\n      <td>Jose Azorin Verdu</td>\n    </tr>\n    <tr>\n      <th>22</th>\n      <td>../Database/Jose Duenas García/audio.ogg</td>\n      <td>16000</td>\n      <td>1</td>\n      <td>28.457812</td>\n      <td>Jose Duenas García</td>\n    </tr>\n    <tr>\n      <th>23</th>\n      <td>../Database/Jose Manuel Nieto del Valle/audio.ogg</td>\n      <td>44100</td>\n      <td>1</td>\n      <td>22.801995</td>\n      <td>Jose Manuel Nieto del Valle</td>\n    </tr>\n    <tr>\n      <th>24</th>\n      <td>../Database/Joseju Ubric Quesada/audio.ogg</td>\n      <td>48000</td>\n      <td>2</td>\n      <td>24.789333</td>\n      <td>Joseju Ubric Quesada</td>\n    </tr>\n    <tr>\n      <th>25</th>\n      <td>../Database/Juan Cuesta Lopez/audio.ogg</td>\n      <td>16000</td>\n      <td>1</td>\n      <td>21.937812</td>\n      <td>Juan Cuesta Lopez</td>\n    </tr>\n    <tr>\n      <th>26</th>\n      <td>../Database/Juanjo Bautista Ibanez/audio.ogg</td>\n      <td>16000</td>\n      <td>1</td>\n      <td>33.073500</td>\n      <td>Juanjo Bautista Ibanez</td>\n    </tr>\n    <tr>\n      <th>27</th>\n      <td>../Database/Lydia Bautista Ibanez/audio.ogg</td>\n      <td>16000</td>\n      <td>1</td>\n      <td>19.353500</td>\n      <td>Lydia Bautista Ibanez</td>\n    </tr>\n    <tr>\n      <th>28</th>\n      <td>../Database/Maria Jose Morales Forte/audio.ogg</td>\n      <td>16000</td>\n      <td>1</td>\n      <td>21.873500</td>\n      <td>Maria Jose Morales Forte</td>\n    </tr>\n    <tr>\n      <th>29</th>\n      <td>../Database/Mercedes Parody Guzman/audio.ogg</td>\n      <td>16000</td>\n      <td>1</td>\n      <td>24.157812</td>\n      <td>Mercedes Parody Guzman</td>\n    </tr>\n    <tr>\n      <th>30</th>\n      <td>../Database/Miguel Correas Perez/audio.ogg</td>\n      <td>48000</td>\n      <td>1</td>\n      <td>22.570667</td>\n      <td>Miguel Correas Perez</td>\n    </tr>\n    <tr>\n      <th>31</th>\n      <td>../Database/Nerea Hernandez Carpintero/audio.ogg</td>\n      <td>16000</td>\n      <td>1</td>\n      <td>22.037813</td>\n      <td>Nerea Hernandez Carpintero</td>\n    </tr>\n    <tr>\n      <th>32</th>\n      <td>../Database/Noelia Sanchez Alonso/audio.ogg</td>\n      <td>16000</td>\n      <td>1</td>\n      <td>20.413500</td>\n      <td>Noelia Sanchez Alonso</td>\n    </tr>\n    <tr>\n      <th>33</th>\n      <td>../Database/Oscar del Barrio Farrán/audio.ogg</td>\n      <td>16000</td>\n      <td>1</td>\n      <td>20.797812</td>\n      <td>Oscar del Barrio Farrán</td>\n    </tr>\n    <tr>\n      <th>34</th>\n      <td>../Database/Rafael Molina Lopez/audio.ogg</td>\n      <td>16000</td>\n      <td>1</td>\n      <td>29.313500</td>\n      <td>Rafael Molina Lopez</td>\n    </tr>\n    <tr>\n      <th>35</th>\n      <td>../Database/Regina SanMartino Miralles/audio.ogg</td>\n      <td>16000</td>\n      <td>1</td>\n      <td>23.573500</td>\n      <td>Regina SanMartino Miralles</td>\n    </tr>\n    <tr>\n      <th>36</th>\n      <td>../Database/Rodrigo Soriano Gonzalez/audio.ogg</td>\n      <td>16000</td>\n      <td>1</td>\n      <td>26.597812</td>\n      <td>Rodrigo Soriano Gonzalez</td>\n    </tr>\n    <tr>\n      <th>37</th>\n      <td>../Database/Rosi Puche Palao/audio.ogg</td>\n      <td>16000</td>\n      <td>1</td>\n      <td>30.077813</td>\n      <td>Rosi Puche Palao</td>\n    </tr>\n    <tr>\n      <th>38</th>\n      <td>../Database/Sandra Castano Azorin/audio.ogg</td>\n      <td>16000</td>\n      <td>1</td>\n      <td>23.393500</td>\n      <td>Sandra Castano Azorin</td>\n    </tr>\n    <tr>\n      <th>39</th>\n      <td>../Database/Sergio Castano Azorin/audio.ogg</td>\n      <td>16000</td>\n      <td>1</td>\n      <td>34.453500</td>\n      <td>Sergio Castano Azorin</td>\n    </tr>\n  </tbody>\n</table>\n</div>"
          },
          "metadata": {}
        }
      ],
      "execution_count": 8,
      "metadata": {
        "colab": {
          "base_uri": "https://localhost:8080/",
          "height": 238
        },
        "executionInfo": {
          "elapsed": 13126,
          "status": "ok",
          "timestamp": 1718141300090,
          "user": {
            "displayName": "JOSÉ ALBERTO AZORIN PUCHE",
            "userId": "07780853208545474625"
          },
          "user_tz": -120
        },
        "id": "x4pqa_yYdBtd",
        "outputId": "84af77d1-0813-4c89-cc25-8bf71929d1ac",
        "gather": {
          "logged": 1721411121206
        }
      }
    },
    {
      "cell_type": "markdown",
      "source": [
        "### Paso 2. Creación de la base de datos de audio\n",
        "\n",
        "En este paso, leemos cada uno de los audios que conocimos anteriormente y aplicamos sobre ellos una serie de transformaciones para homogeneizarlos, y también para crear audios nuevos a partir de los originales.\n",
        "\n",
        "Las transformaciones son las siguientes:\n",
        "\n",
        "* **Limpieza.** Podamos el inicio y final del audio, puesto que la mayoría de participantes comienzan y acaban su grabación con unos instantes de silencio (no nos interesa que la red aprenda silencios que no formen parte del discurso leído).\n",
        "\n",
        "* **Resampleado.** Nos aseguramos de que la frecuencia de muestreo de todos los audios originales sea la misma (modificándola en caso de que sea necesario).\n",
        "\n",
        "* **Igualar número de canales.** Dado un número deseado de canales (1 ó 2), nos quedamos con el primer canal (para pasar de estéreo a mono) o duplicamos el canal existente (de mono a estéreo).\n",
        "\n",
        "* **Fragmentación.** Cortamos el audio en una serie de trozos de una duración determinada. En este caso se multiplica el número de audios de 5 a 10 veces.\n",
        "\n",
        "Una vez tenemos estos trozos de audios originales, generemos audios completamente nuevos con técnicas de Data Augmentation:\n",
        "\n",
        "* **Inserción de ruido.** Distorsionamos de forma aleatoria la señal.\n",
        "\n",
        "* **Traslación temporal.** Pegamos el inicio y final del audio y trasladamos el inicio a un instante distinto del original.\n",
        "\n",
        "Por medio de estas trasnformaciones, multiplicamos por 5 el número de audios que habíamos obtenido en la fragmentación."
      ],
      "metadata": {
        "id": "NxiR1NDtbSPF"
      }
    },
    {
      "cell_type": "code",
      "source": [
        "def ExtendDatabase(db_path, new_db_path, sample_rate, channels, duration):\n",
        "\n",
        "    # For each name in the list of participants, we apply the same transformations\n",
        "    # and create a new folder in the new database with all the new audios\n",
        "    participants = os.listdir(db_path)\n",
        "    participants.remove(\".DS_Store\")\n",
        "\n",
        "    classID_train = []\n",
        "    rel_paths_train = []\n",
        "    classID_test = []\n",
        "    rel_paths_test = []\n",
        "    for person in participants:\n",
        "        if '.' in person:\n",
        "            continue\n",
        "        relative_path = f\"{db_path}/{person}/audio.ogg\"\n",
        "        aud = AudioUtil.open(relative_path)\n",
        "\n",
        "        # First, we clean and standarize the audios\n",
        "        cln_aud = AudioUtil.prune_audio(aud)\n",
        "        reaud = AudioUtil.resample(cln_aud, sample_rate)\n",
        "        rch_aud = AudioUtil.rechannel(reaud, channels)\n",
        "\n",
        "        # Now, we split the audio that results and save the results\n",
        "        lst_aud_0 = AudioUtil.split_audio(rch_aud, duration=duration)\n",
        "        lst_aud_1 = list(map(AudioAugmentation.add_noise, lst_aud_0))\n",
        "        lst_aud_2 = list(map(AudioAugmentation.time_shift, lst_aud_0))\n",
        "        lst_aud_3 = list(map(AudioAugmentation.add_noise, lst_aud_2))\n",
        "        lst_aud_4 = list(map(AudioAugmentation.time_shift, lst_aud_2))\n",
        "        lst_aud_5 = list(map(AudioAugmentation.add_noise, lst_aud_4))\n",
        "        lst_aud_6 = list(map(AudioAugmentation.time_shift, lst_aud_4))\n",
        "        lst_aud_7 = list(map(AudioAugmentation.add_noise, lst_aud_6))\n",
        "        lst_aud_8 = list(map(AudioAugmentation.time_shift, lst_aud_6))\n",
        "        lst_aud_9 = list(map(AudioAugmentation.add_noise, lst_aud_8))\n",
        "\n",
        "        # Remove the new database folder in case it exists\n",
        "        # Create the empty folder with the same name\n",
        "        folder_path = f'{new_db_path}/audio/{person}'\n",
        "        if os.path.exists(folder_path):\n",
        "            shutil.rmtree(folder_path)\n",
        "        os.makedirs(folder_path)\n",
        "\n",
        "        for k in range(6):\n",
        "            var_name = f\"lst_aud_{k}\"\n",
        "            for i, audio in enumerate(vars()[var_name]):\n",
        "                path = f'{folder_path}/audio{str(k).zfill(2)}{str(i).zfill(2)}.ogg'\n",
        "                _ = AudioUtil.save(audio, path)\n",
        "                classID_train.append(person)\n",
        "                rel_paths_train.append(path)\n",
        "\n",
        "        for k in range(6,10):\n",
        "            var_name = f\"lst_aud_{k}\"\n",
        "            for i, audio in enumerate(vars()[var_name]):\n",
        "                path = f'{folder_path}/audio{str(k).zfill(2)}{str(i).zfill(2)}.ogg'\n",
        "                _ = AudioUtil.save(audio, path)\n",
        "                classID_test.append(person)\n",
        "                rel_paths_test.append(path)\n",
        "\n",
        "\n",
        "    return pd.DataFrame({ 'audio_path': rel_paths_train, 'classID': classID_train }), \\\n",
        "           pd.DataFrame({ 'audio_path': rel_paths_test, 'classID': classID_test })\n",
        "\n",
        "train_df, test_df = ExtendDatabase('../Database', '../Final_Database', 16000, 1, 4)\n",
        "train_df.to_csv(\"../Final_Database/audio/audioDB_train.csv\", index=False)\n",
        "test_df.to_csv(\"../Final_Database/audio/audioDB_test.csv\", index=False)"
      ],
      "outputs": [],
      "execution_count": 11,
      "metadata": {
        "id": "w_IzyyZHdBte",
        "gather": {
          "logged": 1721412072359
        }
      }
    }
  ],
  "metadata": {
    "colab": {
      "provenance": [],
      "collapsed_sections": [
        "Sjir2U2wanvn",
        "yKbxiZgIa9_K",
        "NxiR1NDtbSPF"
      ]
    },
    "kernelspec": {
      "name": "python310-sdkv2",
      "language": "python",
      "display_name": "Python 3.10 - SDK v2"
    },
    "language_info": {
      "name": "python",
      "version": "3.10.14",
      "mimetype": "text/x-python",
      "codemirror_mode": {
        "name": "ipython",
        "version": 3
      },
      "pygments_lexer": "ipython3",
      "nbconvert_exporter": "python",
      "file_extension": ".py"
    },
    "microsoft": {
      "ms_spell_check": {
        "ms_spell_check_language": "en"
      },
      "host": {
        "AzureML": {
          "notebookHasBeenCompleted": true
        }
      }
    },
    "kernel_info": {
      "name": "python310-sdkv2"
    },
    "nteract": {
      "version": "nteract-front-end@1.0.0"
    }
  },
  "nbformat": 4,
  "nbformat_minor": 0
}