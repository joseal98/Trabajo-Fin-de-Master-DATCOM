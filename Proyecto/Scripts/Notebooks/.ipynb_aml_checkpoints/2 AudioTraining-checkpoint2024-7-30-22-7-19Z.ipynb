{
  "cells": [
    {
      "cell_type": "markdown",
      "source": [
        "## Trabajo Fin de Máster <br/> Diseño de una arquitectura multimodal para descripción textual de pares imagen-audio\n",
        "\n",
        "## Script 2. Entrenamiento de un clasificador de audio usando PyTorch\n",
        "\n",
        "En este notebook, aprendemos a clasificar los audios que hemos generado, con la ayuda de PyTorch. Para ello, usamos lo compartido en el artículo de [TowardsDataScience](https://towardsdatascience.com/audio-deep-learning-made-simple-sound-classification-step-by-step-cebc936bbe5)."
      ],
      "metadata": {
        "id": "mROJteeudBtO"
      }
    },
    {
      "cell_type": "markdown",
      "source": [
        "### Paso 1. Cambio de directorio"
      ],
      "metadata": {
        "nteract": {
          "transient": {
            "deleting": false
          }
        }
      }
    },
    {
      "cell_type": "code",
      "source": [
        "import os\n",
        "os.chdir('..')\n",
        "os.getcwd()"
      ],
      "outputs": [
        {
          "output_type": "execute_result",
          "execution_count": 1,
          "data": {
            "text/plain": "'/mnt/batch/tasks/shared/LS_root/mounts/clusters/tfm-cpu/code/Users/jose.puche/Scripts'"
          },
          "metadata": {}
        }
      ],
      "execution_count": 1,
      "metadata": {
        "jupyter": {
          "source_hidden": false,
          "outputs_hidden": false
        },
        "nteract": {
          "transient": {
            "deleting": false
          }
        },
        "gather": {
          "logged": 1723316231704
        }
      }
    },
    {
      "cell_type": "markdown",
      "source": [
        "### Paso 2. Configuración e inicialización de wandb"
      ],
      "metadata": {
        "nteract": {
          "transient": {
            "deleting": false
          }
        }
      }
    },
    {
      "cell_type": "code",
      "source": [
        "# WandB – Login to your wandb account so you can log all your metrics\n",
        "import wandb"
      ],
      "outputs": [],
      "execution_count": 2,
      "metadata": {
        "jupyter": {
          "source_hidden": false,
          "outputs_hidden": false
        },
        "nteract": {
          "transient": {
            "deleting": false
          }
        },
        "gather": {
          "logged": 1723316233638
        }
      }
    },
    {
      "cell_type": "code",
      "source": [
        "!wandb login #wandb_token"
      ],
      "outputs": [
        {
          "output_type": "stream",
          "name": "stdout",
          "text": "\u001b[34m\u001b[1mwandb\u001b[0m: Appending key for api.wandb.ai to your netrc file: /home/azureuser/.netrc\r\n"
        }
      ],
      "execution_count": 3,
      "metadata": {
        "jupyter": {
          "source_hidden": false,
          "outputs_hidden": false
        },
        "nteract": {
          "transient": {
            "deleting": false
          }
        }
      }
    },
    {
      "cell_type": "code",
      "source": [
        "folder_path = './../Final_Database'\n",
        "num_epochs = 20\n",
        "BATCH_SIZE = 16\n",
        "lr = 1e-3\n",
        "output_dim = 5\n",
        "\n",
        "model_parameters_file = f\"./modelos/audio/AUDIO_2_{output_dim}pers_lr{f'{lr:.0e}'}_bs{BATCH_SIZE}_{num_epochs}ep.pt\"\n",
        "model_parameters_file"
      ],
      "outputs": [
        {
          "output_type": "execute_result",
          "execution_count": 4,
          "data": {
            "text/plain": "'./modelos/audio/AUDIO_2_5pers_lr1e-03_bs16_20ep.pt'"
          },
          "metadata": {}
        }
      ],
      "execution_count": 4,
      "metadata": {
        "jupyter": {
          "source_hidden": false,
          "outputs_hidden": false
        },
        "nteract": {
          "transient": {
            "deleting": false
          }
        },
        "gather": {
          "logged": 1723316239154
        }
      }
    },
    {
      "cell_type": "code",
      "source": [
        "# WandB – Initialize a new run\n",
        "run_name = model_parameters_file.split(\"/\")[-1].replace('.pt', '')\n",
        "wandb.init(entity=\"josealbertoap\", project='TFM', name = run_name, tags=[\"audio\"])\n",
        "\n",
        "# WandB – Config is a variable that holds and saves hyperparameters and inputs\n",
        "config = wandb.config          # Initialize config\n",
        "config.batch_size = BATCH_SIZE          # input batch size for training (default: 64)\n",
        "config.test_batch_size = BATCH_SIZE    # input batch size for testing (default: 1000)\n",
        "config.epochs = num_epochs             # number of epochs to train (default: 10)\n",
        "config.lr = lr              # learning rate (default: 0.01)\n",
        "config.momentum = 0          # SGD momentum (default: 0.5)\n",
        "config.no_cuda = True         # disables CUDA training\n",
        "config.seed = 0               # random seed (default: 42)\n",
        "config.log_interval = 1     # how many batches to wait before logging training status\n",
        "config.num_classes = output_dim"
      ],
      "outputs": [
        {
          "output_type": "stream",
          "name": "stderr",
          "text": "\u001b[34m\u001b[1mwandb\u001b[0m: Currently logged in as: \u001b[33mjosealbertoap\u001b[0m. Use \u001b[1m`wandb login --relogin`\u001b[0m to force relogin\n"
        },
        {
          "output_type": "display_data",
          "data": {
            "text/plain": "<IPython.core.display.HTML object>",
            "text/html": "wandb version 0.17.6 is available!  To upgrade, please run:\n $ pip install wandb --upgrade"
          },
          "metadata": {}
        },
        {
          "output_type": "display_data",
          "data": {
            "text/plain": "<IPython.core.display.HTML object>",
            "text/html": "Tracking run with wandb version 0.17.5"
          },
          "metadata": {}
        },
        {
          "output_type": "display_data",
          "data": {
            "text/plain": "<IPython.core.display.HTML object>",
            "text/html": "Run data is saved locally in <code>/mnt/batch/tasks/shared/LS_root/mounts/clusters/tfm-cpu/code/Users/jose.puche/Scripts/wandb/run-20240810_185721-4mw43x98</code>"
          },
          "metadata": {}
        },
        {
          "output_type": "display_data",
          "data": {
            "text/plain": "<IPython.core.display.HTML object>",
            "text/html": "Syncing run <strong><a href='https://wandb.ai/josealbertoap/TFM/runs/4mw43x98' target=\"_blank\">AUDIO_2_5pers_lr1e-03_bs16_20ep</a></strong> to <a href='https://wandb.ai/josealbertoap/TFM' target=\"_blank\">Weights & Biases</a> (<a href='https://wandb.me/run' target=\"_blank\">docs</a>)<br/>"
          },
          "metadata": {}
        },
        {
          "output_type": "display_data",
          "data": {
            "text/plain": "<IPython.core.display.HTML object>",
            "text/html": " View project at <a href='https://wandb.ai/josealbertoap/TFM' target=\"_blank\">https://wandb.ai/josealbertoap/TFM</a>"
          },
          "metadata": {}
        },
        {
          "output_type": "display_data",
          "data": {
            "text/plain": "<IPython.core.display.HTML object>",
            "text/html": " View run at <a href='https://wandb.ai/josealbertoap/TFM/runs/4mw43x98' target=\"_blank\">https://wandb.ai/josealbertoap/TFM/runs/4mw43x98</a>"
          },
          "metadata": {}
        }
      ],
      "execution_count": 5,
      "metadata": {
        "jupyter": {
          "source_hidden": false,
          "outputs_hidden": false
        },
        "nteract": {
          "transient": {
            "deleting": false
          }
        },
        "gather": {
          "logged": 1723316252958
        }
      }
    },
    {
      "cell_type": "markdown",
      "source": [
        "### Paso 2. Lectura de los audios generados\n",
        "Leemos los audios de nuestra base de datos y los guardamos en un dataset compuesto por sus respectivos espectrogramas.\n",
        "\n",
        "Posteriormente, usamos los datasets de entrenamiento y validación para generar los respectivos DataLoaders que emplearemos en el entrenamiento de la red."
      ],
      "metadata": {
        "id": "RV4cs85P22Q5"
      }
    },
    {
      "cell_type": "code",
      "source": [
        "import random\n",
        "import numpy as np\n",
        "import torch\n",
        "\n",
        "def set_seed(seed):\n",
        "    random.seed(seed)\n",
        "    np.random.seed(seed)\n",
        "    torch.manual_seed(seed)\n",
        "    if torch.cuda.is_available():\n",
        "        torch.cuda.manual_seed(seed)\n",
        "        torch.cuda.manual_seed_all(seed)\n",
        "\n",
        "set_seed(config.seed)"
      ],
      "outputs": [],
      "execution_count": 6,
      "metadata": {
        "id": "J5zavNLM49sr",
        "gather": {
          "logged": 1723316267039
        }
      }
    },
    {
      "cell_type": "code",
      "source": [
        "import pandas as pd\n",
        "from torch.utils.data import random_split\n",
        "from tfm_lib.datasets import SoundDS\n",
        "\n",
        "database_df = pd.read_csv(f\"{folder_path}/audio/audioDB_train.csv\")\n",
        "myds = SoundDS(database_df, './', output_dim)\n",
        "\n",
        "# Random split of 80:20 between training and validation\n",
        "num_items = len(myds)\n",
        "num_train = round(num_items * 0.8)\n",
        "num_val = num_items - num_train\n",
        "train_ds, val_ds = random_split(myds, [num_train, num_val])\n",
        "\n",
        "# Create training and validation data loaders\n",
        "train_dl = torch.utils.data.DataLoader(train_ds, batch_size=BATCH_SIZE, shuffle=True)\n",
        "val_dl = torch.utils.data.DataLoader(val_ds, batch_size=1048, shuffle=False)"
      ],
      "outputs": [],
      "execution_count": 7,
      "metadata": {
        "id": "M1nT__codBtj",
        "gather": {
          "logged": 1723316276100
        }
      }
    },
    {
      "cell_type": "markdown",
      "source": [
        "### Paso 3. Entrenamiento de la red"
      ],
      "metadata": {
        "id": "LpwecWiv3dQ1"
      }
    },
    {
      "cell_type": "code",
      "source": [
        "from torch import nn\n",
        "from tqdm import tqdm\n",
        "from tfm_lib.EarlyStopping import EarlyStopping\n",
        "\n",
        "# ----------------------------\n",
        "# Entrenamiento\n",
        "# ----------------------------\n",
        "def training(model, train_dl, val_dl, num_epochs):\n",
        "  \n",
        "  criterion = nn.CrossEntropyLoss()\n",
        "  optimizer = torch.optim.Adam(model.parameters(),lr=lr)\n",
        "  scheduler = torch.optim.lr_scheduler.ReduceLROnPlateau(optimizer, 'min', patience = 4)\n",
        "\n",
        "  # Inicializar EarlyStopping\n",
        "  early_stopping = EarlyStopping(patience=5, verbose=True, delta=0.01, path=model_parameters_file)\n",
        "\n",
        "  train_loss = {}\n",
        "  test_loss = {}\n",
        "  train_acc = {}\n",
        "  test_acc = {}\n",
        "\n",
        "  for epoch in range(num_epochs):\n",
        "    model.train()\n",
        "\n",
        "    running_loss = 0.0\n",
        "    correct_prediction = 0\n",
        "    total_prediction = 0\n",
        "\n",
        "    train_steps = tqdm(train_dl, unit=\"batch\")\n",
        "\n",
        "    for i, data in enumerate(train_steps):\n",
        "\n",
        "        train_steps.set_description(f\"Epoch [{epoch+1}/{num_epochs}]. Training\")\n",
        "\n",
        "        inputs, labels = data[0].to(device), data[1].to(device)\n",
        "\n",
        "        inputs_m, inputs_s = inputs.mean(), inputs.std()\n",
        "        inputs = (inputs - inputs_m) / inputs_s\n",
        "\n",
        "        optimizer.zero_grad()\n",
        "\n",
        "        outputs = model(inputs)\n",
        "        loss = criterion(outputs, labels)\n",
        "        loss.backward()\n",
        "        optimizer.step()\n",
        "        scheduler.step()\n",
        "\n",
        "        running_loss += loss.item()\n",
        "\n",
        "        _, prediction = torch.max(outputs,1)\n",
        "\n",
        "        correct_prediction += (prediction == labels).sum().item()\n",
        "        total_prediction += prediction.shape[0]\n",
        "\n",
        "        train_steps.set_postfix(mean_loss=running_loss/total_prediction, mean_accuracy = correct_prediction / total_prediction)\n",
        "\n",
        "    num_batches = len(train_dl)\n",
        "    avg_loss = running_loss / num_batches\n",
        "    acc = correct_prediction/total_prediction\n",
        "    print(f'Epoch [{epoch+1}/{num_epochs}]:')\n",
        "    print(f'Training. Loss: {avg_loss:.2f}, Accuracy: {acc:.2f}')\n",
        "\n",
        "    train_loss[epoch+1] = avg_loss\n",
        "    train_acc[epoch+1] = acc\n",
        "\n",
        "    # Validación del modelo\n",
        "    model.eval()\n",
        "    correct_prediction = 0\n",
        "    total_prediction = 0\n",
        "    running_loss = 0\n",
        "\n",
        "    with torch.no_grad():\n",
        "\n",
        "      predictions = []\n",
        "      label_list = []\n",
        "      for data in val_dl:\n",
        "\n",
        "        inputs, labels = data[0].to(device), data[1].to(device)\n",
        "\n",
        "        inputs_m, inputs_s = inputs.mean(), inputs.std()\n",
        "        inputs = (inputs - inputs_m) / inputs_s\n",
        "\n",
        "        outputs = model(inputs)\n",
        "        loss = criterion(outputs, labels)\n",
        "        running_loss += loss.item()\n",
        "\n",
        "        _, prediction = torch.max(outputs,1)\n",
        "\n",
        "        correct_prediction += (prediction == labels).sum().item()\n",
        "        total_prediction += prediction.shape[0]\n",
        "\n",
        "        predictions.extend(prediction)\n",
        "        label_list.extend(data[1])\n",
        "\n",
        "    acc = correct_prediction/total_prediction\n",
        "    val_loss = running_loss / len(val_dl)\n",
        "\n",
        "    print(f'Validation. Loss: {val_loss:.6f}, Accuracy: {acc:.6f}')\n",
        "\n",
        "    test_loss[epoch+1] = val_loss\n",
        "    test_acc[epoch+1] = acc\n",
        "\n",
        "    # Llamar a early_stopping con la pérdida de validación actual y el modelo\n",
        "    early_stopping(val_loss, model)\n",
        "    print('')\n",
        "\n",
        "    # Si se alcanza el criterio de early stopping, romper el bucle\n",
        "    if early_stopping.early_stop:\n",
        "        print(\"Early stopping\")\n",
        "        break\n",
        "      \n",
        "    # Cambiar learning rate si hace falta\n",
        "    scheduler.step(test_loss[epoch+1])\n",
        "\n",
        "    wandb.log({\n",
        "      'Epoch': epoch+1,\n",
        "      'Training Loss': train_loss[epoch+1],\n",
        "      'Training Accuracy': train_acc[epoch+1],\n",
        "      'Evaluation Loss': test_loss[epoch+1],\n",
        "      'Evaluation Accuracy': test_acc[epoch+1],\n",
        "      })\n",
        "\n",
        "  print('Finished Training')\n",
        "\n",
        "  return {'train_acc': train_acc, 'train_loss': train_loss, 'val_acc': test_acc, 'val_loss': test_loss}"
      ],
      "outputs": [],
      "execution_count": 8,
      "metadata": {
        "id": "zNWZH4zidBtm",
        "gather": {
          "logged": 1723316276414
        }
      }
    },
    {
      "cell_type": "code",
      "source": [
        "from tfm_lib.modelos import AudioClassifier\n",
        "model = AudioClassifier(output_dim)\n",
        "device = torch.device(\"cuda:0\" if torch.cuda.is_available() else \"cpu\")\n",
        "model = model.to(device)\n",
        "\n",
        "wandb.watch(model, log=\"all\")\n",
        "\n",
        "training_results = training(model, train_dl, val_dl, num_epochs)\n",
        "\n",
        "print(training_results)\n",
        "wandb.save(model_parameters_file)"
      ],
      "outputs": [
        {
          "output_type": "stream",
          "name": "stderr",
          "text": "/anaconda/envs/jupyter_env/lib/python3.9/site-packages/torch/cuda/__init__.py:619: UserWarning: Can't initialize NVML\n  warnings.warn(\"Can't initialize NVML\")\nEpoch [1/20]. Training: 100%|██████████| 9/9 [00:28<00:00,  3.22s/batch, mean_accuracy=0.366, mean_loss=0.1]   \nEpoch [2/20]. Training: 100%|██████████| 9/9 [00:27<00:00,  3.04s/batch, mean_accuracy=0.664, mean_loss=0.0853]\nEpoch [3/20]. Training: 100%|██████████| 9/9 [00:27<00:00,  3.04s/batch, mean_accuracy=0.784, mean_loss=0.0713]\nEpoch [4/20]. Training: 100%|██████████| 9/9 [00:27<00:00,  3.03s/batch, mean_accuracy=0.918, mean_loss=0.0617]\nEpoch [5/20]. Training: 100%|██████████| 9/9 [00:27<00:00,  3.03s/batch, mean_accuracy=0.903, mean_loss=0.0525]\nEpoch [6/20]. Training: 100%|██████████| 9/9 [00:27<00:00,  3.07s/batch, mean_accuracy=0.94, mean_loss=0.0441] \nEpoch [7/20]. Training: 100%|██████████| 9/9 [00:27<00:00,  3.08s/batch, mean_accuracy=0.985, mean_loss=0.0357]\nEpoch [8/20]. Training: 100%|██████████| 9/9 [00:27<00:00,  3.01s/batch, mean_accuracy=0.993, mean_loss=0.0306]\nEpoch [9/20]. Training: 100%|██████████| 9/9 [00:27<00:00,  3.06s/batch, mean_accuracy=1, mean_loss=0.0242]\nEpoch [10/20]. Training: 100%|██████████| 9/9 [00:27<00:00,  3.04s/batch, mean_accuracy=1, mean_loss=0.0176]\nEpoch [11/20]. Training: 100%|██████████| 9/9 [00:27<00:00,  3.04s/batch, mean_accuracy=0.993, mean_loss=0.0159]\nEpoch [12/20]. Training: 100%|██████████| 9/9 [00:26<00:00,  3.00s/batch, mean_accuracy=0.993, mean_loss=0.0148]\nEpoch [13/20]. Training: 100%|██████████| 9/9 [00:27<00:00,  3.06s/batch, mean_accuracy=0.993, mean_loss=0.0107] \nEpoch [14/20]. Training: 100%|██████████| 9/9 [00:26<00:00,  3.00s/batch, mean_accuracy=0.985, mean_loss=0.0101] \nEpoch [15/20]. Training: 100%|██████████| 9/9 [00:27<00:00,  3.01s/batch, mean_accuracy=0.993, mean_loss=0.0104]\nEpoch [16/20]. Training: 100%|██████████| 9/9 [00:27<00:00,  3.06s/batch, mean_accuracy=1, mean_loss=0.00725]\nEpoch [17/20]. Training: 100%|██████████| 9/9 [00:27<00:00,  3.02s/batch, mean_accuracy=1, mean_loss=0.00693]\nEpoch [18/20]. Training: 100%|██████████| 9/9 [00:26<00:00,  2.99s/batch, mean_accuracy=1, mean_loss=0.0061] \nEpoch [19/20]. Training: 100%|██████████| 9/9 [00:27<00:00,  3.02s/batch, mean_accuracy=0.993, mean_loss=0.00691]\nEpoch [20/20]. Training: 100%|██████████| 9/9 [00:27<00:00,  3.02s/batch, mean_accuracy=1, mean_loss=0.004]  \n"
        },
        {
          "output_type": "stream",
          "name": "stdout",
          "text": "Epoch [1/20]:\nTraining. Loss: 1.49, Accuracy: 0.37\nValidation. Loss: 1.563602, Accuracy: 0.205882\nValidation loss decreased (inf --> 1.563602).  Saving model ...\n\nEpoch [2/20]:\nTraining. Loss: 1.27, Accuracy: 0.66\nValidation. Loss: 1.383107, Accuracy: 0.352941\nValidation loss decreased (1.563602 --> 1.383107).  Saving model ...\n\nEpoch [3/20]:\nTraining. Loss: 1.06, Accuracy: 0.78\nValidation. Loss: 1.153042, Accuracy: 0.647059\nValidation loss decreased (1.383107 --> 1.153042).  Saving model ...\n\nEpoch [4/20]:\nTraining. Loss: 0.92, Accuracy: 0.92\nValidation. Loss: 0.942876, Accuracy: 0.705882\nValidation loss decreased (1.153042 --> 0.942876).  Saving model ...\n\nEpoch [5/20]:\nTraining. Loss: 0.78, Accuracy: 0.90\nValidation. Loss: 0.760270, Accuracy: 0.911765\nValidation loss decreased (0.942876 --> 0.760270).  Saving model ...\n\nEpoch [6/20]:\nTraining. Loss: 0.66, Accuracy: 0.94\nValidation. Loss: 0.655717, Accuracy: 0.911765\nValidation loss decreased (0.760270 --> 0.655717).  Saving model ...\n\nEpoch [7/20]:\nTraining. Loss: 0.53, Accuracy: 0.99\nValidation. Loss: 0.555215, Accuracy: 0.911765\nValidation loss decreased (0.655717 --> 0.555215).  Saving model ...\n\nEpoch [8/20]:\nTraining. Loss: 0.46, Accuracy: 0.99\nValidation. Loss: 0.499396, Accuracy: 0.911765\nValidation loss decreased (0.555215 --> 0.499396).  Saving model ...\n\nEpoch [9/20]:\nTraining. Loss: 0.36, Accuracy: 1.00\nValidation. Loss: 0.416894, Accuracy: 0.941176\nValidation loss decreased (0.499396 --> 0.416894).  Saving model ...\n\nEpoch [10/20]:\nTraining. Loss: 0.26, Accuracy: 1.00\nValidation. Loss: 0.342620, Accuracy: 0.970588\nValidation loss decreased (0.416894 --> 0.342620).  Saving model ...\n\nEpoch [11/20]:\nTraining. Loss: 0.24, Accuracy: 0.99\nValidation. Loss: 0.285912, Accuracy: 1.000000\nValidation loss decreased (0.342620 --> 0.285912).  Saving model ...\n\nEpoch [12/20]:\nTraining. Loss: 0.22, Accuracy: 0.99\nValidation. Loss: 0.268061, Accuracy: 0.970588\nValidation loss decreased (0.285912 --> 0.268061).  Saving model ...\n\nEpoch [13/20]:\nTraining. Loss: 0.16, Accuracy: 0.99\nValidation. Loss: 0.189956, Accuracy: 1.000000\nValidation loss decreased (0.268061 --> 0.189956).  Saving model ...\n\nEpoch [14/20]:\nTraining. Loss: 0.15, Accuracy: 0.99\nValidation. Loss: 0.179743, Accuracy: 1.000000\nValidation loss decreased (0.189956 --> 0.179743).  Saving model ...\n\nEpoch [15/20]:\nTraining. Loss: 0.15, Accuracy: 0.99\nValidation. Loss: 0.195405, Accuracy: 0.970588\nEarlyStopping counter: 1 out of 5\n\nEpoch [16/20]:\nTraining. Loss: 0.11, Accuracy: 1.00\nValidation. Loss: 0.151293, Accuracy: 0.970588\nValidation loss decreased (0.179743 --> 0.151293).  Saving model ...\n\nEpoch [17/20]:\nTraining. Loss: 0.10, Accuracy: 1.00\nValidation. Loss: 0.113269, Accuracy: 1.000000\nValidation loss decreased (0.151293 --> 0.113269).  Saving model ...\n\nEpoch [18/20]:\nTraining. Loss: 0.09, Accuracy: 1.00\nValidation. Loss: 0.103441, Accuracy: 1.000000\nEarlyStopping counter: 1 out of 5\n\nEpoch [19/20]:\nTraining. Loss: 0.10, Accuracy: 0.99\nValidation. Loss: 0.082737, Accuracy: 1.000000\nValidation loss decreased (0.113269 --> 0.082737).  Saving model ...\n\nEpoch [20/20]:\nTraining. Loss: 0.06, Accuracy: 1.00\nValidation. Loss: 0.108077, Accuracy: 1.000000\nEarlyStopping counter: 1 out of 5\n\nFinished Training\n{'train_acc': {1: 0.3656716417910448, 2: 0.664179104477612, 3: 0.7835820895522388, 4: 0.917910447761194, 5: 0.9029850746268657, 6: 0.9402985074626866, 7: 0.9850746268656716, 8: 0.9925373134328358, 9: 1.0, 10: 1.0, 11: 0.9925373134328358, 12: 0.9925373134328358, 13: 0.9925373134328358, 14: 0.9850746268656716, 15: 0.9925373134328358, 16: 1.0, 17: 1.0, 18: 1.0, 19: 0.9925373134328358, 20: 1.0}, 'train_loss': {1: 1.4923155042860243, 2: 1.270527508523729, 3: 1.0609205034044054, 4: 0.9184541900952657, 5: 0.7818291650878059, 6: 0.6561678051948547, 7: 0.5310396022266812, 8: 0.45517952574623954, 9: 0.359851254357232, 10: 0.2627164059215122, 11: 0.23629497157202828, 12: 0.22068036761548784, 13: 0.15901387068960401, 14: 0.15069635212421417, 15: 0.15437530560625923, 16: 0.10791101058324178, 17: 0.1032497634490331, 18: 0.09077935210532612, 19: 0.10292768602569898, 20: 0.05956711433827877}, 'val_acc': {1: 0.20588235294117646, 2: 0.35294117647058826, 3: 0.6470588235294118, 4: 0.7058823529411765, 5: 0.9117647058823529, 6: 0.9117647058823529, 7: 0.9117647058823529, 8: 0.9117647058823529, 9: 0.9411764705882353, 10: 0.9705882352941176, 11: 1.0, 12: 0.9705882352941176, 13: 1.0, 14: 1.0, 15: 0.9705882352941176, 16: 0.9705882352941176, 17: 1.0, 18: 1.0, 19: 1.0, 20: 1.0}, 'val_loss': {1: 1.5636019706726074, 2: 1.383107304573059, 3: 1.1530417203903198, 4: 0.9428759217262268, 5: 0.7602702975273132, 6: 0.6557167768478394, 7: 0.5552148222923279, 8: 0.4993962049484253, 9: 0.4168943166732788, 10: 0.3426204025745392, 11: 0.2859116494655609, 12: 0.26806095242500305, 13: 0.18995574116706848, 14: 0.17974264919757843, 15: 0.19540509581565857, 16: 0.15129289031028748, 17: 0.11326897144317627, 18: 0.10344140976667404, 19: 0.08273731172084808, 20: 0.10807695239782333}}\n"
        },
        {
          "output_type": "execute_result",
          "execution_count": 9,
          "data": {
            "text/plain": "['/mnt/batch/tasks/shared/LS_root/mounts/clusters/tfm-cpu/code/Users/jose.puche/Scripts/wandb/run-20240810_185721-4mw43x98/files/modelos/audio/AUDIO_2_5pers_lr1e-03_bs16_20ep.pt']"
          },
          "metadata": {}
        }
      ],
      "execution_count": 9,
      "metadata": {
        "colab": {
          "base_uri": "https://localhost:8080/"
        },
        "id": "AKfiIW1r4dZT",
        "executionInfo": {
          "status": "ok",
          "timestamp": 1720728659625,
          "user_tz": -120,
          "elapsed": 113922,
          "user": {
            "displayName": "JOSÉ ALBERTO AZORIN PUCHE",
            "userId": "07780853208545474625"
          }
        },
        "outputId": "b69c3238-08a6-4acc-be88-c24ce03feb87",
        "gather": {
          "logged": 1723316975509
        }
      }
    },
    {
      "cell_type": "markdown",
      "source": [
        "### Paso 4. Resultados con los datos de test"
      ],
      "metadata": {
        "id": "bTM7EaVl3iDa"
      }
    },
    {
      "cell_type": "code",
      "source": [
        "test_dataset = SoundDS(pd.read_csv(f\"{folder_path}/audio/audioDB_test.csv\"), './', output_dim)\n",
        "test_dl = torch.utils.data.DataLoader(test_dataset, batch_size=1048, shuffle=True)"
      ],
      "outputs": [],
      "execution_count": 10,
      "metadata": {
        "jupyter": {
          "source_hidden": false,
          "outputs_hidden": false
        },
        "nteract": {
          "transient": {
            "deleting": false
          }
        },
        "gather": {
          "logged": 1723316975753
        }
      }
    },
    {
      "cell_type": "code",
      "source": [
        "# ----------------------------\n",
        "# Inferencia\n",
        "# ----------------------------\n",
        "def inference (model, val_dl):\n",
        "  correct_prediction = 0\n",
        "  total_prediction = 0\n",
        "\n",
        "  with torch.no_grad():\n",
        "\n",
        "    predictions = []\n",
        "    label_list = []\n",
        "    for data in val_dl:\n",
        "\n",
        "      inputs, labels = data[0].to(device), data[1].to(device)\n",
        "\n",
        "      inputs_m, inputs_s = inputs.mean(), inputs.std()\n",
        "      inputs = (inputs - inputs_m) / inputs_s\n",
        "\n",
        "      outputs = model(inputs)\n",
        "\n",
        "      _, prediction = torch.max(outputs,1)\n",
        "\n",
        "      correct_prediction += (prediction == labels).sum().item()\n",
        "      total_prediction += prediction.shape[0]\n",
        "\n",
        "      predictions.extend(prediction)\n",
        "      label_list.extend(data[1])\n",
        "\n",
        "  acc = correct_prediction/total_prediction\n",
        "  print(f'Accuracy: {acc:.2f}, Total items: {total_prediction}')\n",
        "\n",
        "  return predictions, label_list\n",
        "\n",
        "# Run inference on trained model with the validation set\n",
        "model.load_state_dict(torch.load(model_parameters_file, map_location=torch.device('cpu')))\n",
        "result = inference(model, test_dl)"
      ],
      "outputs": [
        {
          "output_type": "stream",
          "name": "stdout",
          "text": "Accuracy: 1.00, Total items: 112\n"
        }
      ],
      "execution_count": 11,
      "metadata": {
        "id": "fzt1bAnBdBtm",
        "colab": {
          "base_uri": "https://localhost:8080/"
        },
        "executionInfo": {
          "status": "ok",
          "timestamp": 1720728672091,
          "user_tz": -120,
          "elapsed": 958,
          "user": {
            "displayName": "JOSÉ ALBERTO AZORIN PUCHE",
            "userId": "07780853208545474625"
          }
        },
        "outputId": "c6b92cab-da18-460c-eeb7-b4156b87340e",
        "gather": {
          "logged": 1723317002528
        }
      }
    },
    {
      "cell_type": "code",
      "source": [
        "from sklearn.metrics import accuracy_score, recall_score, precision_score, roc_auc_score, f1_score, confusion_matrix\n",
        "import seaborn as sn\n",
        "import numpy as np\n",
        "import matplotlib.pyplot as plt\n",
        "import re\n",
        "\n",
        "def extraer_iniciales(name):\n",
        "    name_words = name.split(' ')\n",
        "    r = re.compile(\"^[A-Z][A-z]*\")\n",
        "    valid_words = list(filter(r.match, name_words))\n",
        "    if len(valid_words) <=3:\n",
        "        name = valid_words[0]\n",
        "        valid_words.remove(valid_words[0])\n",
        "    else:\n",
        "        name = f'{valid_words[0]} {valid_words[1]}'\n",
        "        valid_words.remove(valid_words[0])\n",
        "        valid_words.remove(valid_words[1])\n",
        "    surname = re.sub('(?<=[A-Z])[A-z]+', '.', ' '.join(valid_words))\n",
        "    return f'{name} {surname}'\n",
        "\n",
        "def font_scale(num_classes):\n",
        "    if num_classes <= 10:\n",
        "        return 1.0\n",
        "    elif num_classes <= 20:\n",
        "        return 0.75\n",
        "    elif num_classes <= 30:\n",
        "        return 0.65\n",
        "    else:\n",
        "        return 0.45\n",
        "\n",
        "def plot_confusion_matrix(y_true, y_pred):\n",
        "    cf_matrix = confusion_matrix(y_true, y_pred)\n",
        "    people = list(map(extraer_iniciales, myds.labelencoder().classes_))\n",
        "\n",
        "    df_cm = pd.DataFrame((cf_matrix / np.sum(cf_matrix, axis=1)[:, None]).round(3), index=people, columns=people)\n",
        "    \n",
        "    plt.figure(figsize=(8, 6))  \n",
        "    sn.set(font_scale = font_scale(df_cm.shape[0]))  \n",
        "    heatmap = sn.heatmap(df_cm, annot=True, cbar=False, cmap='Purples', fmt='g', xticklabels=False)\n",
        "\n",
        "    # Ajusta la rotación y alineación de los ticks de los ejes\n",
        "    heatmap.set_yticklabels(heatmap.get_yticklabels(), rotation=0, ha='right')\n",
        "\n",
        "    plt.tight_layout()  # Asegura que todo se ajuste bien en la figura\n",
        "    plt.savefig(model_parameters_file.replace('/modelos/', '/results/').replace('.pt', '.png'))\n",
        "\n",
        "    return plt.gcf()\n",
        "\n",
        "def get_metrics(result):\n",
        "    accuracy = accuracy_score(result[1], result[0])\n",
        "    precision = precision_score(result[1], result[0], average='macro')\n",
        "    recall = recall_score(result[1], result[0], average='macro')\n",
        "    f1 = f1_score(result[1], result[0], average='macro')\n",
        "\n",
        "    metrics = {\n",
        "        'Test accuracy': accuracy,\n",
        "        'Test precision': precision,\n",
        "        'Test recall': recall,\n",
        "        'F1-score': f1\n",
        "    }\n",
        "\n",
        "    print(metrics)\n",
        "\n",
        "    metrics['Confusion Matrix'] = wandb.Image(plot_confusion_matrix(result[1],result[0]))\n",
        "    metrics['Test metrics'] = wandb.Table(columns=[\"Metric name\", \"Value\"], \n",
        "                                          data=[[\"Test accuracy\", accuracy], [\"Test precision\", precision],\n",
        "                                                [\"Test recall\", recall], [\"Test F1-Score\", f1]])\n",
        "\n",
        "    return metrics\n",
        "\n",
        "metrics = get_metrics(result)\n",
        "wandb.log(metrics)"
      ],
      "outputs": [
        {
          "output_type": "stream",
          "name": "stdout",
          "text": "{'Test accuracy': 1.0, 'Test precision': 1.0, 'Test recall': 1.0, 'F1-score': 1.0}\n"
        },
        {
          "output_type": "display_data",
          "data": {
            "text/plain": "<Figure size 800x600 with 1 Axes>",
            "image/png": "[encoded data removed]"
          },
          "metadata": {}
        }
      ],
      "execution_count": 12,
      "metadata": {
        "jupyter": {
          "source_hidden": false,
          "outputs_hidden": false
        },
        "nteract": {
          "transient": {
            "deleting": false
          }
        },
        "gather": {
          "logged": 1723317006646
        }
      }
    },
    {
      "cell_type": "code",
      "source": [
        "wandb.finish()"
      ],
      "outputs": [
        {
          "output_type": "display_data",
          "data": {
            "text/plain": "VBox(children=(Label(value='0.125 MB of 0.125 MB uploaded\\r'), FloatProgress(value=1.0, max=1.0)))",
            "application/vnd.jupyter.widget-view+json": {
              "version_major": 2,
              "version_minor": 0,
              "model_id": "1f5fc0d3465c45a0ae1beb68eaae6c50"
            }
          },
          "metadata": {}
        },
        {
          "output_type": "display_data",
          "data": {
            "text/plain": "<IPython.core.display.HTML object>",
            "text/html": "<style>\n    table.wandb td:nth-child(1) { padding: 0 10px; text-align: left ; width: auto;} td:nth-child(2) {text-align: left ; width: 100%}\n    .wandb-row { display: flex; flex-direction: row; flex-wrap: wrap; justify-content: flex-start; width: 100% }\n    .wandb-col { display: flex; flex-direction: column; flex-basis: 100%; flex: 1; padding: 10px; }\n    </style>\n<div class=\"wandb-row\"><div class=\"wandb-col\"><h3>Run history:</h3><br/><table class=\"wandb\"><tr><td>Epoch</td><td>▁▁▂▂▂▃▃▄▄▄▅▅▅▆▆▇▇▇██</td></tr><tr><td>Evaluation Accuracy</td><td>▁▂▅▅▇▇▇▇▇███████████</td></tr><tr><td>Evaluation Loss</td><td>█▇▆▅▄▄▃▃▃▂▂▂▂▁▂▁▁▁▁▁</td></tr><tr><td>F1-score</td><td>▁</td></tr><tr><td>Test accuracy</td><td>▁</td></tr><tr><td>Test precision</td><td>▁</td></tr><tr><td>Test recall</td><td>▁</td></tr><tr><td>Training Accuracy</td><td>▁▄▆▇▇▇██████████████</td></tr><tr><td>Training Loss</td><td>█▇▆▅▅▄▃▃▂▂▂▂▁▁▁▁▁▁▁▁</td></tr></table><br/></div><div class=\"wandb-col\"><h3>Run summary:</h3><br/><table class=\"wandb\"><tr><td>Epoch</td><td>20</td></tr><tr><td>Evaluation Accuracy</td><td>1.0</td></tr><tr><td>Evaluation Loss</td><td>0.10808</td></tr><tr><td>F1-score</td><td>1.0</td></tr><tr><td>Test accuracy</td><td>1.0</td></tr><tr><td>Test precision</td><td>1.0</td></tr><tr><td>Test recall</td><td>1.0</td></tr><tr><td>Training Accuracy</td><td>1.0</td></tr><tr><td>Training Loss</td><td>0.05957</td></tr></table><br/></div></div>"
          },
          "metadata": {}
        },
        {
          "output_type": "display_data",
          "data": {
            "text/plain": "<IPython.core.display.HTML object>",
            "text/html": " View run <strong style=\"color:#cdcd00\">AUDIO_2_5pers_lr1e-03_bs16_20ep</strong> at: <a href='https://wandb.ai/josealbertoap/TFM/runs/4mw43x98' target=\"_blank\">https://wandb.ai/josealbertoap/TFM/runs/4mw43x98</a><br/> View project at: <a href='https://wandb.ai/josealbertoap/TFM' target=\"_blank\">https://wandb.ai/josealbertoap/TFM</a><br/>Synced 6 W&B file(s), 2 media file(s), 1 artifact file(s) and 1 other file(s)"
          },
          "metadata": {}
        },
        {
          "output_type": "display_data",
          "data": {
            "text/plain": "<IPython.core.display.HTML object>",
            "text/html": "Find logs at: <code>./wandb/run-20240810_185721-4mw43x98/logs</code>"
          },
          "metadata": {}
        },
        {
          "output_type": "display_data",
          "data": {
            "text/plain": "<IPython.core.display.HTML object>",
            "text/html": "The new W&B backend becomes opt-out in version 0.18.0; try it out with `wandb.require(\"core\")`! See https://wandb.me/wandb-core for more information."
          },
          "metadata": {}
        }
      ],
      "execution_count": 13,
      "metadata": {
        "jupyter": {
          "source_hidden": false,
          "outputs_hidden": false
        },
        "nteract": {
          "transient": {
            "deleting": false
          }
        },
        "gather": {
          "logged": 1723317019516
        }
      }
    }
  ],
  "metadata": {
    "colab": {
      "provenance": []
    },
    "kernelspec": {
      "name": "python3",
      "language": "python",
      "display_name": "Python 3 (ipykernel)"
    },
    "language_info": {
      "name": "python",
      "version": "3.9.18",
      "mimetype": "text/x-python",
      "codemirror_mode": {
        "name": "ipython",
        "version": 3
      },
      "pygments_lexer": "ipython3",
      "nbconvert_exporter": "python",
      "file_extension": ".py"
    },
    "microsoft": {
      "ms_spell_check": {
        "ms_spell_check_language": "en"
      },
      "host": {
        "AzureML": {
          "notebookHasBeenCompleted": true
        }
      }
    },
    "kernel_info": {
      "name": "python3"
    },
    "nteract": {
      "version": "nteract-front-end@1.0.0"
    }
  },
  "nbformat": 4,
  "nbformat_minor": 0
}