{
  "cells": [
    {
      "cell_type": "markdown",
      "source": [
        "## Trabajo Fin de Máster <br/> Diseño de una arquitectura multimodal para descripción textual de pares imagen-audio\n",
        "\n",
        "## Script 4. Entrenamiento del modelo CLIP con base de datos propia\n",
        "\n",
        "En este notebook, empleamos la base de datos de imágenes que obtuvimos en el Script 3 para realizar fine-tuning sobre el modelo preentrenado CLIP (Contrastive Language-Image Pre-Training), creado por OpenAI."
      ],
      "metadata": {
        "id": "PFvqxngSmK7p"
      }
    },
    {
      "cell_type": "markdown",
      "source": [
        "### Paso 1. Importación de paquetes"
      ],
      "metadata": {
        "id": "2smUTVGegCuP"
      }
    },
    {
      "cell_type": "code",
      "source": [
        "import os\n",
        "os.chdir(\"..\")\n",
        "os.getcwd()"
      ],
      "outputs": [
        {
          "output_type": "execute_result",
          "execution_count": 1,
          "data": {
            "text/plain": "'/mnt/batch/tasks/shared/LS_root/mounts/clusters/tfm-cpu/code/Users/jose.puche/Scripts'"
          },
          "metadata": {}
        }
      ],
      "execution_count": 1,
      "metadata": {
        "jupyter": {
          "source_hidden": false,
          "outputs_hidden": false
        },
        "nteract": {
          "transient": {
            "deleting": false
          }
        },
        "gather": {
          "logged": 1721903011977
        }
      }
    },
    {
      "cell_type": "code",
      "source": [
        "import torch\n",
        "import torch.nn as nn\n",
        "\n",
        "import clip\n",
        "from torchvision.datasets import ImageFolder\n",
        "from sklearn.model_selection import train_test_split\n",
        "from torch.utils.data import Dataset, Subset, SubsetRandomSampler, DataLoader\n",
        "\n",
        "import matplotlib.pyplot as plt\n",
        "from PIL import Image\n",
        "\n",
        "from tqdm import tqdm\n",
        "\n",
        "from tfm_lib.EarlyStopping import EarlyStopping\n",
        "from tfm_lib.modelos import CLIP_adapted\n",
        "from tfm_lib.datasets import ImageDataset"
      ],
      "outputs": [
        {
          "output_type": "stream",
          "name": "stderr",
          "text": "/anaconda/envs/azureml_py310_sdkv2/lib/python3.10/site-packages/torch/cuda/__init__.py:619: UserWarning: Can't initialize NVML\n  warnings.warn(\"Can't initialize NVML\")\n"
        }
      ],
      "execution_count": 2,
      "metadata": {
        "executionInfo": {
          "elapsed": 15676,
          "status": "ok",
          "timestamp": 1721325782392,
          "user": {
            "displayName": "JOSÉ ALBERTO AZORIN PUCHE",
            "userId": "07780853208545474625"
          },
          "user_tz": -120
        },
        "id": "xTCFxiapgCuV",
        "gather": {
          "logged": 1721903026404
        }
      }
    },
    {
      "cell_type": "code",
      "source": [
        "import random\n",
        "import numpy as np\n",
        "import pandas as pd\n",
        "\n",
        "def set_seed(seed):\n",
        "    random.seed(seed)\n",
        "    np.random.seed(seed)\n",
        "    torch.manual_seed(seed)\n",
        "    if torch.cuda.is_available():\n",
        "        torch.cuda.manual_seed(seed)\n",
        "        torch.cuda.manual_seed_all(seed)\n",
        "\n",
        "set_seed(0)"
      ],
      "outputs": [],
      "execution_count": 3,
      "metadata": {
        "executionInfo": {
          "elapsed": 13,
          "status": "ok",
          "timestamp": 1721325782393,
          "user": {
            "displayName": "JOSÉ ALBERTO AZORIN PUCHE",
            "userId": "07780853208545474625"
          },
          "user_tz": -120
        },
        "id": "axySI_Oq7Mvf",
        "gather": {
          "logged": 1721903026538
        }
      }
    },
    {
      "cell_type": "code",
      "source": [
        "torch.autograd.set_detect_anomaly(True)"
      ],
      "outputs": [
        {
          "output_type": "execute_result",
          "execution_count": 4,
          "data": {
            "text/plain": "<torch.autograd.anomaly_mode.set_detect_anomaly at 0x7f7782765960>"
          },
          "metadata": {}
        }
      ],
      "execution_count": 4,
      "metadata": {
        "colab": {
          "base_uri": "https://localhost:8080/"
        },
        "executionInfo": {
          "elapsed": 11,
          "status": "ok",
          "timestamp": 1721325782393,
          "user": {
            "displayName": "JOSÉ ALBERTO AZORIN PUCHE",
            "userId": "07780853208545474625"
          },
          "user_tz": -120
        },
        "id": "bSvjOYHgw44U",
        "outputId": "6267b2ea-498a-4c92-cfdf-173e80014e98",
        "gather": {
          "logged": 1721903026681
        }
      }
    },
    {
      "cell_type": "markdown",
      "source": [
        "### Paso 2. Configuración e inicialización de wandb"
      ],
      "metadata": {
        "nteract": {
          "transient": {
            "deleting": false
          }
        }
      }
    },
    {
      "cell_type": "code",
      "source": [
        "import wandb"
      ],
      "outputs": [],
      "execution_count": 5,
      "metadata": {
        "jupyter": {
          "source_hidden": false,
          "outputs_hidden": false
        },
        "nteract": {
          "transient": {
            "deleting": false
          }
        },
        "gather": {
          "logged": 1721903027182
        }
      }
    },
    {
      "cell_type": "code",
      "source": [
        "!wandb login 1b8abaacf33b7b5812267384768c22a1eef3c11e"
      ],
      "outputs": [
        {
          "output_type": "stream",
          "name": "stdout",
          "text": "\u001b[34m\u001b[1mwandb\u001b[0m: Appending key for api.wandb.ai to your netrc file: /home/azureuser/.netrc\r\n"
        }
      ],
      "execution_count": 6,
      "metadata": {
        "jupyter": {
          "source_hidden": false,
          "outputs_hidden": false
        },
        "nteract": {
          "transient": {
            "deleting": false
          }
        }
      }
    },
    {
      "cell_type": "code",
      "source": [
        "folder_path = './../Final_Database/image'\n",
        "num_epochs = 20\n",
        "BATCH_SIZE = 16\n",
        "data_augmentation = True\n",
        "da = \"_DA\" if data_augmentation else \"\"\n",
        "lr = 1e-4\n",
        "output_dim = 10\n",
        "selected_model = 'RN50'\n",
        "\n",
        "model_parameters_file = f\"./modelos/clip/CLIP_{selected_model.replace('/','')}_{output_dim}pers_lr{f'{lr:.0e}'}_bs{BATCH_SIZE}_{num_epochs}ep{da}.pt\"\n",
        "print(model_parameters_file)"
      ],
      "outputs": [
        {
          "output_type": "stream",
          "name": "stdout",
          "text": "./modelos/clip/CLIP_RN50_10pers_lr1e-04_bs16_20ep_DA.pt\n"
        }
      ],
      "execution_count": 7,
      "metadata": {
        "jupyter": {
          "source_hidden": false,
          "outputs_hidden": false
        },
        "nteract": {
          "transient": {
            "deleting": false
          }
        },
        "gather": {
          "logged": 1721903030360
        }
      }
    },
    {
      "cell_type": "code",
      "source": [
        "# WandB – Initialize a new run\n",
        "run_name = model_parameters_file.split(\"/\")[-1].replace('.pt', '')\n",
        "wandb.init(entity=\"josealbertoap\", project='TFM', name = run_name, tags=[\"image\"])\n",
        "\n",
        "# WandB – Config is a variable that holds and saves hyperparameters and inputs\n",
        "config = wandb.config          # Initialize config\n",
        "config.batch_size = BATCH_SIZE          # input batch size for training (default: 64)\n",
        "config.test_batch_size = BATCH_SIZE    # input batch size for testing (default: 1000)\n",
        "config.epochs = num_epochs             # number of epochs to train (default: 10)\n",
        "config.lr = lr              # learning rate (default: 0.01)\n",
        "config.momentum = 0          # SGD momentum (default: 0.5)\n",
        "config.no_cuda = True         # disables CUDA training\n",
        "config.seed = 0               # random seed (default: 42)\n",
        "config.log_interval = 1     # how many batches to wait before logging training status\n",
        "config.num_classes = output_dim"
      ],
      "outputs": [
        {
          "output_type": "stream",
          "name": "stderr",
          "text": "Failed to detect the name of this notebook, you can set it manually with the WANDB_NOTEBOOK_NAME environment variable to enable code saving.\n\u001b[34m\u001b[1mwandb\u001b[0m: Currently logged in as: \u001b[33mjosealbertoap\u001b[0m. Use \u001b[1m`wandb login --relogin`\u001b[0m to force relogin\n"
        },
        {
          "output_type": "display_data",
          "data": {
            "text/plain": "<IPython.core.display.HTML object>",
            "text/html": "Tracking run with wandb version 0.17.5"
          },
          "metadata": {}
        },
        {
          "output_type": "display_data",
          "data": {
            "text/plain": "<IPython.core.display.HTML object>",
            "text/html": "Run data is saved locally in <code>/mnt/batch/tasks/shared/LS_root/mounts/clusters/tfm-cpu/code/Users/jose.puche/Scripts/wandb/run-20240725_102353-021l5v69</code>"
          },
          "metadata": {}
        },
        {
          "output_type": "display_data",
          "data": {
            "text/plain": "<IPython.core.display.HTML object>",
            "text/html": "Syncing run <strong><a href='https://wandb.ai/josealbertoap/TFM/runs/021l5v69' target=\"_blank\">CLIP_RN50_10pers_lr1e-04_bs16_20ep_DA</a></strong> to <a href='https://wandb.ai/josealbertoap/TFM' target=\"_blank\">Weights & Biases</a> (<a href='https://wandb.me/run' target=\"_blank\">docs</a>)<br/>"
          },
          "metadata": {}
        },
        {
          "output_type": "display_data",
          "data": {
            "text/plain": "<IPython.core.display.HTML object>",
            "text/html": " View project at <a href='https://wandb.ai/josealbertoap/TFM' target=\"_blank\">https://wandb.ai/josealbertoap/TFM</a>"
          },
          "metadata": {}
        },
        {
          "output_type": "display_data",
          "data": {
            "text/plain": "<IPython.core.display.HTML object>",
            "text/html": " View run at <a href='https://wandb.ai/josealbertoap/TFM/runs/021l5v69' target=\"_blank\">https://wandb.ai/josealbertoap/TFM/runs/021l5v69</a>"
          },
          "metadata": {}
        }
      ],
      "execution_count": 8,
      "metadata": {
        "jupyter": {
          "source_hidden": false,
          "outputs_hidden": false
        },
        "nteract": {
          "transient": {
            "deleting": false
          }
        },
        "gather": {
          "logged": 1721903040382
        }
      }
    },
    {
      "cell_type": "markdown",
      "source": [
        "### Definición de la función de pérdida"
      ],
      "metadata": {
        "id": "nNDygGUIgCuX"
      }
    },
    {
      "cell_type": "code",
      "source": [
        "# Función de pérdida\n",
        "def loss_fn(logits, labels):\n",
        "    \"\"\"\n",
        "    logits: Las salidas del modelo (predicciones) para cada clase.\n",
        "    labels: Las etiquetas verdaderas (números enteros) para cada ejemplo.\n",
        "    \"\"\"\n",
        "    criterion = nn.CrossEntropyLoss()  # Función de pérdida de entropía cruzada\n",
        "    return criterion(logits, labels)\n",
        "\n",
        "# Ejemplo de cómo usar la función de pérdida\n",
        "logits = torch.tensor([[0.8, 0.1, 0.1], [0.2, 0.7, 0.1], [0.3, 0.2, 0.5]])\n",
        "labels = torch.tensor([0, 1, 2])\n",
        "\n",
        "loss = loss_fn(logits, labels)\n",
        "print(\"Pérdida:\", loss.item())"
      ],
      "outputs": [
        {
          "output_type": "stream",
          "name": "stdout",
          "text": "Pérdida: 0.7991690635681152\n"
        }
      ],
      "execution_count": 9,
      "metadata": {
        "colab": {
          "base_uri": "https://localhost:8080/"
        },
        "executionInfo": {
          "elapsed": 15,
          "status": "ok",
          "timestamp": 1721325782974,
          "user": {
            "displayName": "JOSÉ ALBERTO AZORIN PUCHE",
            "userId": "07780853208545474625"
          },
          "user_tz": -120
        },
        "id": "_HsDPC3xgCuZ",
        "outputId": "9b86853e-9616-4fc2-d3b4-ed18bc230732",
        "gather": {
          "logged": 1721903040515
        }
      }
    },
    {
      "cell_type": "markdown",
      "source": [
        "### Entrenamiento del modelo"
      ],
      "metadata": {
        "id": "45TIaiP6gCud"
      }
    },
    {
      "cell_type": "code",
      "source": [
        "from torchvision.transforms import Resize, Compose, ColorJitter, RandomHorizontalFlip, \\\n",
        "                                   RandomResizedCrop, RandomRotation, Normalize, ToTensor\n",
        "\n",
        "def train_test_dataloaders(database_df, model, num_classes, data_augmentation=False, BATCH_SIZE=32, test_split=0.2):\n",
        "\n",
        "    dataset = ImageDataset(database_df, num_classes, image_transform = model.preprocess)\n",
        "\n",
        "    train_idx, test_idx = train_test_split(list(range(len(dataset))), test_size=test_split)\n",
        "    train_sampler = SubsetRandomSampler(train_idx)\n",
        "\n",
        "    # test_subset = Subset(dataset, test_idx) # En caso de que quisiéramos un Dataset y no un Dataloader\n",
        "    test_sampler = SubsetRandomSampler(test_idx)\n",
        "    test_loader = torch.utils.data.DataLoader(dataset, batch_size=512, sampler=test_sampler)\n",
        "\n",
        "    # En caso de tener data augmentation, cambiamos el dataset para el Dataloader de train\n",
        "    if data_augmentation:\n",
        "\n",
        "      augmentation = Compose([\n",
        "            RandomHorizontalFlip(p=0.3),\n",
        "            RandomRotation(degrees=(0, 45), fill=0),\n",
        "            RandomResizedCrop(size=(224, 224), scale=(0.2, 1.0), ratio=(0.8, 1.2)),\n",
        "            ToTensor(),\n",
        "            Normalize(mean=(0.48145466, 0.4578275, 0.40821073), std=(0.26862954, 0.26130258, 0.27577711))\n",
        "        ])\n",
        "\n",
        "      dataset = ImageDataset(database_df, num_classes, image_transform = augmentation)\n",
        "\n",
        "    train_loader = torch.utils.data.DataLoader(dataset, batch_size=BATCH_SIZE, sampler=train_sampler)\n",
        "\n",
        "    return train_loader, test_loader, dataset.labelencoder.classes_"
      ],
      "outputs": [],
      "execution_count": 10,
      "metadata": {
        "executionInfo": {
          "elapsed": 13,
          "status": "ok",
          "timestamp": 1721325782975,
          "user": {
            "displayName": "JOSÉ ALBERTO AZORIN PUCHE",
            "userId": "07780853208545474625"
          },
          "user_tz": -120
        },
        "id": "YyBDPCxxMy3R",
        "gather": {
          "logged": 1721903040644
        }
      }
    },
    {
      "cell_type": "code",
      "source": [
        "# Descargamos el modelo pre-entrenado y procesador de CLIP\n",
        "device = torch.device(\"cuda:0\" if torch.cuda.is_available() else \"cpu\")\n",
        "\n",
        "model = CLIP_adapted(selected_model, device, output_dim)\n",
        "for param in model.parameters():\n",
        "    param.requires_grad = True\n",
        "\n",
        "train_loader, test_loader, classes = train_test_dataloaders(pd.read_csv(f'{folder_path}/imagesDB_train.csv'),\n",
        "                                                            model, output_dim, data_augmentation, BATCH_SIZE, 0.2)"
      ],
      "outputs": [],
      "execution_count": 11,
      "metadata": {
        "colab": {
          "base_uri": "https://localhost:8080/"
        },
        "executionInfo": {
          "elapsed": 18978,
          "status": "ok",
          "timestamp": 1721325801941,
          "user": {
            "displayName": "JOSÉ ALBERTO AZORIN PUCHE",
            "userId": "07780853208545474625"
          },
          "user_tz": -120
        },
        "id": "7PleTEKgVQwN",
        "outputId": "213078f3-192e-49c5-adac-cf10c5cc2b59",
        "gather": {
          "logged": 1721903044412
        }
      }
    },
    {
      "cell_type": "code",
      "source": [
        "# Inicializa el optimizador\n",
        "optimizer = torch.optim.SGD(model.parameters(), lr=lr)\n",
        "scheduler = torch.optim.lr_scheduler.ReduceLROnPlateau(optimizer, 'min', patience = 3)\n",
        "\n",
        "train_loss = {}\n",
        "test_loss = {}\n",
        "train_acc = {}\n",
        "test_acc = {}\n",
        "\n",
        "# Creamos la lista de descripciones para evaluar el modelo\n",
        "print(f\"People:{classes}\\n\")\n",
        "eval_descriptions = torch.cat([clip.tokenize(f\"a photo of {c}\") for c in classes])\n",
        "\n",
        "early_stopping = EarlyStopping(patience=5, verbose=True, delta=0.01, path=model_parameters_file)\n",
        "\n",
        "wandb.watch(model, log=\"all\")\n",
        "\n",
        "for epoch in range(num_epochs):\n",
        "\n",
        "    # Entrena el modelo\n",
        "    model.train()\n",
        "    epoch_loss = 0.0\n",
        "    total_correct = 0\n",
        "    total_samples = 0\n",
        "\n",
        "    train_steps = tqdm(train_loader, unit=\"batch\")\n",
        "\n",
        "    for images, labels in train_steps:\n",
        "\n",
        "        train_steps.set_description(f\"Epoch [{epoch+1}/{num_epochs}]. Training\")\n",
        "\n",
        "        optimizer.zero_grad()\n",
        "        texts = eval_descriptions.to(device)\n",
        "        images = images.to(device)\n",
        "        labels = labels.to(device)\n",
        "\n",
        "        output = model(images, texts)\n",
        "\n",
        "        # Cálculo de la accuracy\n",
        "        predictions = output.argmax(dim=1, keepdim=True).squeeze()\n",
        "        correct = (predictions == labels).sum().item()\n",
        "\n",
        "        total_samples += labels.size(0)\n",
        "        total_correct += correct\n",
        "\n",
        "        # Cálculo de la función de pérdida y actualización del modelo\n",
        "        loss = loss_fn(output, labels)\n",
        "        loss.backward()\n",
        "        optimizer.step()\n",
        "\n",
        "        epoch_loss += loss.item()\n",
        "        train_steps.set_postfix(mean_loss=epoch_loss/total_samples, mean_accuracy = total_correct / total_samples)\n",
        "\n",
        "    train_loss[epoch+1] = epoch_loss / len(train_loader)\n",
        "    train_acc[epoch+1] = total_correct / total_samples\n",
        "\n",
        "    # Evaluación en el conjunto de prueba\n",
        "    model.eval()  # Cambiamos al modo de evaluación\n",
        "    epoch_loss = 0.0\n",
        "    total_correct = 0\n",
        "    total_samples = 0\n",
        "\n",
        "    test_steps = tqdm(test_loader, unit=\"batch\")\n",
        "\n",
        "    with torch.no_grad():\n",
        "        for images, labels in test_steps:  # Itera sobre los datos de prueba\n",
        "\n",
        "            test_steps.set_description(f\"Epoch [{epoch+1}/{num_epochs}]. Evaluation\")\n",
        "\n",
        "            texts = eval_descriptions.to(device)\n",
        "            images = images.to(device)\n",
        "            labels = labels.to(device)\n",
        "\n",
        "            output = model(images, texts)\n",
        "\n",
        "            # Cálculo de la accuracy\n",
        "            predictions = output.argmax(dim=1, keepdim=True).squeeze()\n",
        "            correct = (predictions == labels).sum().item()\n",
        "\n",
        "            total_samples += labels.size(0)\n",
        "            total_correct += correct\n",
        "\n",
        "            # Cálculo de la función de pérdida y actualización del modelo\n",
        "            loss = loss_fn(output, labels)\n",
        "            epoch_loss += loss.item()\n",
        "\n",
        "            test_steps.set_postfix(mean_loss=epoch_loss/total_samples, mean_accuracy = total_correct / total_samples)\n",
        "\n",
        "        test_loss[epoch+1] = epoch_loss / len(test_loader)\n",
        "        test_acc[epoch+1] = total_correct / total_samples\n",
        "\n",
        "        print(f'Epoch [{epoch+1}/{num_epochs}]:')\n",
        "        print(f'- Training. Loss = {train_loss[epoch+1]}; Accuracy = {train_acc[epoch+1]}.')\n",
        "        print(f'- Evaluation. Loss = {test_loss[epoch+1]}; Accuracy = {test_acc[epoch+1]}.')\n",
        "\n",
        "        wandb.log({\n",
        "                    'Epoch': epoch+1,\n",
        "                    'Training Loss': train_loss[epoch+1],\n",
        "                    'Training Accuracy': train_acc[epoch+1],\n",
        "                    'Evaluation Loss': test_loss[epoch+1],\n",
        "                    'Evaluation Accuracy': test_acc[epoch+1],\n",
        "                })\n",
        "\n",
        "        # Llamar a early_stopping con la pérdida de validación actual y el modelo\n",
        "        early_stopping(test_loss[epoch+1], model)\n",
        "        print('')\n",
        "\n",
        "        # Si se alcanza el criterio de early stopping, romper el bucle\n",
        "        if early_stopping.early_stop:\n",
        "            print(\"Early stopping\")\n",
        "            break\n",
        "\n",
        "        # Reducir el learning rate en caso de que no esté mejorando la pérdida\n",
        "        scheduler.step(test_loss[epoch+1])\n",
        "\n",
        "print({'train_acc': train_acc, 'train_loss': train_loss, 'val_acc': test_acc, 'val_loss': test_loss})\n",
        "\n",
        "wandb.save(model_parameters_file)"
      ],
      "outputs": [
        {
          "output_type": "stream",
          "name": "stdout",
          "text": "People:['Alba Azorin Zafrilla' 'Alfonso Girona Palao' 'Alfonso Vidal Lopez'\n 'Ana Azorin Puche' 'Ana Puche Palao' 'Angela Espinosa Martinez'\n 'Clara Hidalgo Lopez' 'Cristina Carpena Ortiz' 'David Azorin Soriano'\n 'Jose Alberto Azorin Puche']\n\nEpoch [1/20]:\n- Training. Loss = 3.493299060142957; Accuracy = 0.20807833537331702.\n- Evaluation. Loss = 3.6380984783172607; Accuracy = 0.11707317073170732.\nValidation loss decreased (inf --> 3.638098).  Saving model ...\n\nEpoch [2/20]:\n- Training. Loss = 1.500705939072829; Accuracy = 0.5104039167686658.\n- Evaluation. Loss = 3.838458299636841; Accuracy = 0.0975609756097561.\nEarlyStopping counter: 1 out of 5\n\nEpoch [3/20]:\n- Training. Loss = 1.218209402492413; Accuracy = 0.609547123623011.\n- Evaluation. Loss = 2.0798909664154053; Accuracy = 0.25853658536585367.\nValidation loss decreased (3.638098 --> 2.079891).  Saving model ...\n\nEpoch [4/20]:\n- Training. Loss = 1.0744217978074; Accuracy = 0.6793145654834761.\n- Evaluation. Loss = 3.2720110416412354; Accuracy = 0.22439024390243903.\nEarlyStopping counter: 1 out of 5\n\nEpoch [5/20]:\n- Training. Loss = 0.8275207332693614; Accuracy = 0.7233782129742962.\n- Evaluation. Loss = 5.326218128204346; Accuracy = 0.14634146341463414.\nEarlyStopping counter: 2 out of 5\n\nEpoch [6/20]:\n- Training. Loss = 0.5327418048221332; Accuracy = 0.8335373317013464.\n- Evaluation. Loss = 0.7138262987136841; Accuracy = 0.7609756097560976.\nValidation loss decreased (2.079891 --> 0.713826).  Saving model ...\n\nEpoch [7/20]:\n- Training. Loss = 0.3978141130736241; Accuracy = 0.8727050183598531.\n- Evaluation. Loss = 2.0797832012176514; Accuracy = 0.4146341463414634.\nEarlyStopping counter: 1 out of 5\n\nEpoch [8/20]:\n- Training. Loss = 0.5719042889630566; Accuracy = 0.8396572827417381.\n- Evaluation. Loss = 9.371979713439941; Accuracy = 0.06829268292682927.\nEarlyStopping counter: 2 out of 5\n\nEpoch [9/20]:\n- Training. Loss = 0.5721523036750463; Accuracy = 0.8580171358629131.\n- Evaluation. Loss = 7.193568229675293; Accuracy = 0.12195121951219512.\nEarlyStopping counter: 3 out of 5\n\nEpoch [10/20]:\n- Training. Loss = 0.6692093357157248; Accuracy = 0.817625458996328.\n- Evaluation. Loss = 8.22994613647461; Accuracy = 0.08292682926829269.\nEarlyStopping counter: 4 out of 5\n\nEpoch [11/20]:\n- Training. Loss = 1.3310992505687933; Accuracy = 0.6854345165238678.\n- Evaluation. Loss = 0.23960639536380768; Accuracy = 0.9121951219512195.\nValidation loss decreased (0.713826 --> 0.239606).  Saving model ...\n\nEpoch [12/20]:\n- Training. Loss = 0.47494649729476524; Accuracy = 0.8616891064871481.\n- Evaluation. Loss = 0.16668027639389038; Accuracy = 0.9414634146341463.\nValidation loss decreased (0.239606 --> 0.166680).  Saving model ...\n\nEpoch [13/20]:\n- Training. Loss = 0.45342540139189136; Accuracy = 0.8592411260709915.\n- Evaluation. Loss = 0.3013819754123688; Accuracy = 0.8926829268292683.\nEarlyStopping counter: 1 out of 5\n\nEpoch [14/20]:\n- Training. Loss = 0.3713202334653873; Accuracy = 0.8812729498164015.\n- Evaluation. Loss = 0.1900244951248169; Accuracy = 0.9365853658536586.\nEarlyStopping counter: 2 out of 5\n\nEpoch [15/20]:\n- Training. Loss = 0.4174095121427224; Accuracy = 0.8763769889840881.\n- Evaluation. Loss = 0.2533831000328064; Accuracy = 0.8926829268292683.\nEarlyStopping counter: 3 out of 5\n\nEpoch [16/20]:\n- Training. Loss = 0.43194903060793877; Accuracy = 0.9069767441860465.\n- Evaluation. Loss = 0.7561094164848328; Accuracy = 0.824390243902439.\nEarlyStopping counter: 4 out of 5\n\nEpoch [17/20]:\n- Training. Loss = 0.40155575123543924; Accuracy = 0.8776009791921665.\n- Evaluation. Loss = 0.20039694011211395; Accuracy = 0.9317073170731708.\nEarlyStopping counter: 5 out of 5\n\nEarly stopping\n{'train_acc': {1: 0.20807833537331702, 2: 0.5104039167686658, 3: 0.609547123623011, 4: 0.6793145654834761, 5: 0.7233782129742962, 6: 0.8335373317013464, 7: 0.8727050183598531, 8: 0.8396572827417381, 9: 0.8580171358629131, 10: 0.817625458996328, 11: 0.6854345165238678, 12: 0.8616891064871481, 13: 0.8592411260709915, 14: 0.8812729498164015, 15: 0.8763769889840881, 16: 0.9069767441860465, 17: 0.8776009791921665}, 'train_loss': {1: 3.493299060142957, 2: 1.500705939072829, 3: 1.218209402492413, 4: 1.0744217978074, 5: 0.8275207332693614, 6: 0.5327418048221332, 7: 0.3978141130736241, 8: 0.5719042889630566, 9: 0.5721523036750463, 10: 0.6692093357157248, 11: 1.3310992505687933, 12: 0.47494649729476524, 13: 0.45342540139189136, 14: 0.3713202334653873, 15: 0.4174095121427224, 16: 0.43194903060793877, 17: 0.40155575123543924}, 'val_acc': {1: 0.11707317073170732, 2: 0.0975609756097561, 3: 0.25853658536585367, 4: 0.22439024390243903, 5: 0.14634146341463414, 6: 0.7609756097560976, 7: 0.4146341463414634, 8: 0.06829268292682927, 9: 0.12195121951219512, 10: 0.08292682926829269, 11: 0.9121951219512195, 12: 0.9414634146341463, 13: 0.8926829268292683, 14: 0.9365853658536586, 15: 0.8926829268292683, 16: 0.824390243902439, 17: 0.9317073170731708}, 'val_loss': {1: 3.6380984783172607, 2: 3.838458299636841, 3: 2.0798909664154053, 4: 3.2720110416412354, 5: 5.326218128204346, 6: 0.7138262987136841, 7: 2.0797832012176514, 8: 9.371979713439941, 9: 7.193568229675293, 10: 8.22994613647461, 11: 0.23960639536380768, 12: 0.16668027639389038, 13: 0.3013819754123688, 14: 0.1900244951248169, 15: 0.2533831000328064, 16: 0.7561094164848328, 17: 0.20039694011211395}}\n"
        },
        {
          "output_type": "stream",
          "name": "stderr",
          "text": "Epoch [1/20]. Training: 100%|██████████| 52/52 [06:11<00:00,  7.14s/batch, mean_accuracy=0.208, mean_loss=0.222]\nEpoch [1/20]. Evaluation: 100%|██████████| 1/1 [00:47<00:00, 47.39s/batch, mean_accuracy=0.117, mean_loss=0.0177]\nEpoch [2/20]. Training: 100%|██████████| 52/52 [06:16<00:00,  7.25s/batch, mean_accuracy=0.51, mean_loss=0.0955] \nEpoch [2/20]. Evaluation: 100%|██████████| 1/1 [00:46<00:00, 46.64s/batch, mean_accuracy=0.0976, mean_loss=0.0187]\nEpoch [3/20]. Training: 100%|██████████| 52/52 [06:19<00:00,  7.31s/batch, mean_accuracy=0.61, mean_loss=0.0775] \nEpoch [3/20]. Evaluation: 100%|██████████| 1/1 [00:46<00:00, 46.91s/batch, mean_accuracy=0.259, mean_loss=0.0101]\nEpoch [4/20]. Training: 100%|██████████| 52/52 [06:24<00:00,  7.40s/batch, mean_accuracy=0.679, mean_loss=0.0684]\nEpoch [4/20]. Evaluation: 100%|██████████| 1/1 [00:46<00:00, 46.64s/batch, mean_accuracy=0.224, mean_loss=0.016]\nEpoch [5/20]. Training: 100%|██████████| 52/52 [06:21<00:00,  7.33s/batch, mean_accuracy=0.723, mean_loss=0.0527]\nEpoch [5/20]. Evaluation: 100%|██████████| 1/1 [00:46<00:00, 46.38s/batch, mean_accuracy=0.146, mean_loss=0.026]\nEpoch [6/20]. Training: 100%|██████████| 52/52 [06:19<00:00,  7.30s/batch, mean_accuracy=0.834, mean_loss=0.0339]\nEpoch [6/20]. Evaluation: 100%|██████████| 1/1 [00:46<00:00, 46.21s/batch, mean_accuracy=0.761, mean_loss=0.00348]\nEpoch [7/20]. Training: 100%|██████████| 52/52 [06:17<00:00,  7.26s/batch, mean_accuracy=0.873, mean_loss=0.0253]\nEpoch [7/20]. Evaluation: 100%|██████████| 1/1 [00:46<00:00, 46.24s/batch, mean_accuracy=0.415, mean_loss=0.0101]\nEpoch [8/20]. Training: 100%|██████████| 52/52 [06:13<00:00,  7.18s/batch, mean_accuracy=0.84, mean_loss=0.0364] \nEpoch [8/20]. Evaluation: 100%|██████████| 1/1 [00:45<00:00, 45.63s/batch, mean_accuracy=0.0683, mean_loss=0.0457]\nEpoch [9/20]. Training: 100%|██████████| 52/52 [06:17<00:00,  7.25s/batch, mean_accuracy=0.858, mean_loss=0.0364]\nEpoch [9/20]. Evaluation: 100%|██████████| 1/1 [00:46<00:00, 46.05s/batch, mean_accuracy=0.122, mean_loss=0.0351]\nEpoch [10/20]. Training: 100%|██████████| 52/52 [06:19<00:00,  7.30s/batch, mean_accuracy=0.818, mean_loss=0.0426]\nEpoch [10/20]. Evaluation: 100%|██████████| 1/1 [00:47<00:00, 47.26s/batch, mean_accuracy=0.0829, mean_loss=0.0401]\nEpoch [11/20]. Training: 100%|██████████| 52/52 [06:18<00:00,  7.29s/batch, mean_accuracy=0.685, mean_loss=0.0847]\nEpoch [11/20]. Evaluation: 100%|██████████| 1/1 [00:47<00:00, 47.03s/batch, mean_accuracy=0.912, mean_loss=0.00117]\nEpoch [12/20]. Training: 100%|██████████| 52/52 [06:20<00:00,  7.33s/batch, mean_accuracy=0.862, mean_loss=0.0302]\nEpoch [12/20]. Evaluation: 100%|██████████| 1/1 [00:46<00:00, 46.45s/batch, mean_accuracy=0.941, mean_loss=0.000813]\nEpoch [13/20]. Training: 100%|██████████| 52/52 [06:18<00:00,  7.28s/batch, mean_accuracy=0.859, mean_loss=0.0289]\nEpoch [13/20]. Evaluation: 100%|██████████| 1/1 [00:46<00:00, 46.98s/batch, mean_accuracy=0.893, mean_loss=0.00147]\nEpoch [14/20]. Training: 100%|██████████| 52/52 [06:21<00:00,  7.33s/batch, mean_accuracy=0.881, mean_loss=0.0236]\nEpoch [14/20]. Evaluation: 100%|██████████| 1/1 [00:46<00:00, 46.82s/batch, mean_accuracy=0.937, mean_loss=0.000927]\nEpoch [15/20]. Training: 100%|██████████| 52/52 [06:18<00:00,  7.29s/batch, mean_accuracy=0.876, mean_loss=0.0266]\nEpoch [15/20]. Evaluation: 100%|██████████| 1/1 [00:45<00:00, 45.78s/batch, mean_accuracy=0.893, mean_loss=0.00124]\nEpoch [16/20]. Training: 100%|██████████| 52/52 [06:25<00:00,  7.41s/batch, mean_accuracy=0.907, mean_loss=0.0275]\nEpoch [16/20]. Evaluation: 100%|██████████| 1/1 [00:46<00:00, 46.99s/batch, mean_accuracy=0.824, mean_loss=0.00369]\nEpoch [17/20]. Training: 100%|██████████| 52/52 [06:21<00:00,  7.33s/batch, mean_accuracy=0.878, mean_loss=0.0256]\nEpoch [17/20]. Evaluation: 100%|██████████| 1/1 [00:46<00:00, 46.17s/batch, mean_accuracy=0.932, mean_loss=0.000978]\n"
        },
        {
          "output_type": "execute_result",
          "execution_count": 12,
          "data": {
            "text/plain": "['/mnt/batch/tasks/shared/LS_root/mounts/clusters/tfm-cpu/code/Users/jose.puche/Scripts/wandb/run-20240725_102353-021l5v69/files/modelos/clip/CLIP_RN50_10pers_lr1e-04_bs16_20ep_DA.pt']"
          },
          "metadata": {}
        }
      ],
      "execution_count": 12,
      "metadata": {
        "colab": {
          "background_save": true,
          "base_uri": "https://localhost:8080/"
        },
        "executionInfo": {
          "elapsed": 1550078,
          "status": "ok",
          "timestamp": 1721327352002,
          "user": {
            "displayName": "JOSÉ ALBERTO AZORIN PUCHE",
            "userId": "07780853208545474625"
          },
          "user_tz": -120
        },
        "id": "cfnL-Wak6-UN",
        "gather": {
          "logged": 1721910311383
        }
      }
    },
    {
      "cell_type": "markdown",
      "source": [
        "### Evaluación del modelo entrenado"
      ],
      "metadata": {
        "id": "nYkyndl3gCug"
      }
    },
    {
      "cell_type": "code",
      "source": [
        "test_dataset = ImageDataset(pd.read_csv(f'{folder_path}/imagesDB_test.csv'), \n",
        "                            output_dim, image_transform = model.preprocess)\n",
        "test_dl = torch.utils.data.DataLoader(test_dataset, batch_size=1048, shuffle=True)"
      ],
      "outputs": [],
      "execution_count": 13,
      "metadata": {
        "jupyter": {
          "source_hidden": false,
          "outputs_hidden": false
        },
        "nteract": {
          "transient": {
            "deleting": false
          }
        },
        "gather": {
          "logged": 1721910311656
        }
      }
    },
    {
      "cell_type": "code",
      "source": [
        "# ----------------------------\n",
        "# Inference\n",
        "# ----------------------------\n",
        "def inference (model, test_dl):\n",
        "  correct_prediction = 0\n",
        "  total_prediction = 0\n",
        "\n",
        "  # Disable gradient updates\n",
        "  with torch.no_grad():\n",
        "\n",
        "    predictions = []\n",
        "    label_list = []\n",
        "    for data in test_dl:\n",
        "      # Get the input features and target labels, and put them on the GPU\n",
        "      inputs, labels = data[0].to(device), data[1].to(device)\n",
        "      texts = eval_descriptions.to(device)\n",
        "\n",
        "      # Get predictions\n",
        "      outputs = model(inputs, texts)\n",
        "\n",
        "      # Get the predicted class with the highest score\n",
        "      _, prediction = torch.max(outputs,1)\n",
        "      # Count of predictions that matched the target label\n",
        "      correct_prediction += (prediction == labels).sum().item()\n",
        "      total_prediction += prediction.shape[0]\n",
        "\n",
        "      predictions.extend(prediction)\n",
        "      label_list.extend(data[1])\n",
        "\n",
        "  acc = correct_prediction/total_prediction\n",
        "  print(f'Accuracy: {acc:.2f}, Total items: {total_prediction}')\n",
        "\n",
        "  return predictions, label_list\n",
        "\n",
        "# Run inference on trained model with the validation set\n",
        "model.load_state_dict(torch.load(model_parameters_file, map_location=torch.device('cpu')))\n",
        "result = inference(model, test_dl)"
      ],
      "outputs": [
        {
          "output_type": "stream",
          "name": "stdout",
          "text": "Accuracy: 0.97, Total items: 258\n"
        }
      ],
      "execution_count": 14,
      "metadata": {
        "jupyter": {
          "source_hidden": false,
          "outputs_hidden": false
        },
        "nteract": {
          "transient": {
            "deleting": false
          }
        },
        "gather": {
          "logged": 1721910407241
        }
      }
    },
    {
      "cell_type": "code",
      "source": [
        "from sklearn.metrics import accuracy_score, recall_score, precision_score, roc_auc_score, f1_score, confusion_matrix\n",
        "import seaborn as sn\n",
        "import numpy as np\n",
        "import matplotlib.pyplot as plt\n",
        "import re\n",
        "\n",
        "def extraer_iniciales(name):\n",
        "    name_words = name.split(' ')\n",
        "    r = re.compile(\"^[A-Z][A-z]*\")\n",
        "    valid_words = list(filter(r.match, name_words))\n",
        "    if len(valid_words) <=3:\n",
        "        name = valid_words[0]\n",
        "        valid_words.remove(valid_words[0])\n",
        "    else:\n",
        "        name = f'{valid_words[0]} {valid_words[1]}'\n",
        "        valid_words.remove(valid_words[0])\n",
        "        valid_words.remove(valid_words[1])\n",
        "    surname = re.sub('(?<=[A-Z])[A-z]+', '.', ' '.join(valid_words))\n",
        "    return f'{name} {surname}'\n",
        "\n",
        "def font_scale(num_classes):\n",
        "    if num_classes <= 10:\n",
        "        return 1.0\n",
        "    elif num_classes <= 20:\n",
        "        return 0.75\n",
        "    elif num_classes <= 30:\n",
        "        return 0.65\n",
        "    else:\n",
        "        return 0.45\n",
        "\n",
        "def plot_confusion_matrix(y_true, y_pred):\n",
        "    cf_matrix = confusion_matrix(y_true, y_pred)\n",
        "    people = list(map(extraer_iniciales, test_dataset.labelencoder.classes_))\n",
        "\n",
        "    df_cm = pd.DataFrame((cf_matrix / np.sum(cf_matrix, axis=1)[:, None]).round(3), index=people, columns=people)\n",
        "    \n",
        "    plt.figure(figsize=(8, 6))  \n",
        "    sn.set(font_scale = font_scale(df_cm.shape[0]))  \n",
        "    heatmap = sn.heatmap(df_cm, annot=True, cbar=False, cmap='Purples', fmt='g', xticklabels=False)\n",
        "\n",
        "    # Ajusta la rotación y alineación de los ticks de los ejes\n",
        "    heatmap.set_yticklabels(heatmap.get_yticklabels(), rotation=0, ha='right')\n",
        "\n",
        "    plt.tight_layout()  # Asegura que todo se ajuste bien en la figura\n",
        "    plt.savefig(model_parameters_file.replace('/modelos/', '/results/').replace('.pt', '.png'))\n",
        "\n",
        "    return plt.gcf()\n",
        "\n",
        "def get_metrics(result):\n",
        "    accuracy = accuracy_score(result[1], result[0])\n",
        "    precision = precision_score(result[1], result[0], average='macro')\n",
        "    recall = recall_score(result[1], result[0], average='macro')\n",
        "    f1 = f1_score(result[1], result[0], average='macro')\n",
        "\n",
        "    metrics = {\n",
        "        'Test accuracy': accuracy,\n",
        "        'Test precision': precision,\n",
        "        'Test recall': recall,\n",
        "        'F1-score': f1\n",
        "    }\n",
        "\n",
        "    print(metrics)\n",
        "\n",
        "    metrics['Confusion Matrix'] = wandb.Image(plot_confusion_matrix(result[1],result[0]))\n",
        "    metrics['Test metrics'] = wandb.Table(columns=[\"Metric name\", \"Value\"], \n",
        "                                          data=[[\"Test accuracy\", accuracy], [\"Test precision\", precision],\n",
        "                                                [\"Test recall\", recall], [\"Test F1-Score\", f1]])\n",
        "\n",
        "    return metrics\n",
        "\n",
        "metrics = get_metrics(result)\n",
        "wandb.log(metrics)"
      ],
      "outputs": [
        {
          "output_type": "stream",
          "name": "stdout",
          "text": "{'Test accuracy': 0.9651162790697675, 'Test precision': 0.9682310719640179, 'Test recall': 0.9681697612732096, 'F1-score': 0.9654592766958376}\n"
        },
        {
          "output_type": "display_data",
          "data": {
            "text/plain": "<Figure size 800x600 with 1 Axes>",
            "image/png": "[encoded data removed]"
          },
          "metadata": {}
        }
      ],
      "execution_count": 15,
      "metadata": {
        "jupyter": {
          "source_hidden": false,
          "outputs_hidden": false
        },
        "nteract": {
          "transient": {
            "deleting": false
          }
        },
        "gather": {
          "logged": 1721910411316
        }
      }
    },
    {
      "cell_type": "code",
      "source": [
        "image_results = []\n",
        "\n",
        "with torch.no_grad():\n",
        "\n",
        "    for i in range(4):\n",
        "\n",
        "        read_image = Image.open(f'./../Test_images/IMG_000{i}.jpg')\n",
        "        image = model.preprocess(read_image).unsqueeze(0).to(device)\n",
        "\n",
        "        output = model(image, eval_descriptions)\n",
        "        probs = torch.round(output.softmax(dim=-1), decimals=4)\n",
        "        pred_prob = torch.max(probs).item()\n",
        "        pred_person = classes[torch.argmax(probs)]\n",
        "        my_prob = probs.squeeze()[list(classes).index('Jose Alberto Azorin Puche')].item()\n",
        "\n",
        "        image_results.append([f'Imagen {i+1}', pred_person, pred_prob, my_prob])\n",
        "print(image_results)\n",
        "wandb.log({\"Test images results\": wandb.Table(columns=[\"Imagen\", \"Persona\", \"Probabilidad\", \"Prob (Joseal)\"], data=image_results)})        \n"
      ],
      "outputs": [
        {
          "output_type": "stream",
          "name": "stdout",
          "text": "[['Imagen 1', 'Cristina Carpena Ortiz', 0.4433000087738037, 0.0003000000142492354], ['Imagen 2', 'Cristina Carpena Ortiz', 0.391400009393692, 0.017000000923871994], ['Imagen 3', 'Alba Azorin Zafrilla', 0.5950000286102295, 0.0005000000237487257], ['Imagen 4', 'Clara Hidalgo Lopez', 0.9570000171661377, 0.000699999975040555]]\n"
        }
      ],
      "execution_count": 16,
      "metadata": {
        "colab": {
          "base_uri": "https://localhost:8080/"
        },
        "executionInfo": {
          "elapsed": 522,
          "status": "ok",
          "timestamp": 1721327397900,
          "user": {
            "displayName": "JOSÉ ALBERTO AZORIN PUCHE",
            "userId": "07780853208545474625"
          },
          "user_tz": -120
        },
        "id": "wl5Ev629E56E",
        "outputId": "6b688c6f-60fd-4e88-d005-96297860291f",
        "gather": {
          "logged": 1721910413782
        }
      }
    },
    {
      "cell_type": "code",
      "source": [
        "wandb.finish()"
      ],
      "outputs": [
        {
          "output_type": "display_data",
          "data": {
            "text/plain": "<IPython.core.display.HTML object>",
            "text/html": "<style>\n    table.wandb td:nth-child(1) { padding: 0 10px; text-align: left ; width: auto;} td:nth-child(2) {text-align: left ; width: 100%}\n    .wandb-row { display: flex; flex-direction: row; flex-wrap: wrap; justify-content: flex-start; width: 100% }\n    .wandb-col { display: flex; flex-direction: column; flex-basis: 100%; flex: 1; padding: 10px; }\n    </style>\n<div class=\"wandb-row\"><div class=\"wandb-col\"><h3>Run history:</h3><br/><table class=\"wandb\"><tr><td>Epoch</td><td>▁▁▂▂▃▃▄▄▅▅▅▆▆▇▇██</td></tr><tr><td>Evaluation Accuracy</td><td>▁▁▃▂▂▇▄▁▁▁█████▇█</td></tr><tr><td>Evaluation Loss</td><td>▄▄▂▃▅▁▂█▆▇▁▁▁▁▁▁▁</td></tr><tr><td>F1-score</td><td>▁</td></tr><tr><td>Test accuracy</td><td>▁</td></tr><tr><td>Test precision</td><td>▁</td></tr><tr><td>Test recall</td><td>▁</td></tr><tr><td>Training Accuracy</td><td>▁▄▅▆▆▇█▇█▇▆██████</td></tr><tr><td>Training Loss</td><td>█▄▃▃▂▁▁▁▁▂▃▁▁▁▁▁▁</td></tr></table><br/></div><div class=\"wandb-col\"><h3>Run summary:</h3><br/><table class=\"wandb\"><tr><td>Epoch</td><td>17</td></tr><tr><td>Evaluation Accuracy</td><td>0.93171</td></tr><tr><td>Evaluation Loss</td><td>0.2004</td></tr><tr><td>F1-score</td><td>0.96546</td></tr><tr><td>Test accuracy</td><td>0.96512</td></tr><tr><td>Test precision</td><td>0.96823</td></tr><tr><td>Test recall</td><td>0.96817</td></tr><tr><td>Training Accuracy</td><td>0.8776</td></tr><tr><td>Training Loss</td><td>0.40156</td></tr></table><br/></div></div>"
          },
          "metadata": {}
        },
        {
          "output_type": "display_data",
          "data": {
            "text/plain": "<IPython.core.display.HTML object>",
            "text/html": " View run <strong style=\"color:#cdcd00\">CLIP_RN50_10pers_lr1e-04_bs16_20ep_DA</strong> at: <a href='https://wandb.ai/josealbertoap/TFM/runs/021l5v69' target=\"_blank\">https://wandb.ai/josealbertoap/TFM/runs/021l5v69</a><br/> View project at: <a href='https://wandb.ai/josealbertoap/TFM' target=\"_blank\">https://wandb.ai/josealbertoap/TFM</a><br/>Synced 6 W&B file(s), 3 media file(s), 2 artifact file(s) and 1 other file(s)"
          },
          "metadata": {}
        },
        {
          "output_type": "display_data",
          "data": {
            "text/plain": "<IPython.core.display.HTML object>",
            "text/html": "Find logs at: <code>./wandb/run-20240725_102353-021l5v69/logs</code>"
          },
          "metadata": {}
        },
        {
          "output_type": "display_data",
          "data": {
            "text/plain": "<IPython.core.display.HTML object>",
            "text/html": "The new W&B backend becomes opt-out in version 0.18.0; try it out with `wandb.require(\"core\")`! See https://wandb.me/wandb-core for more information."
          },
          "metadata": {}
        }
      ],
      "execution_count": 17,
      "metadata": {
        "jupyter": {
          "source_hidden": false,
          "outputs_hidden": false
        },
        "nteract": {
          "transient": {
            "deleting": false
          }
        },
        "gather": {
          "logged": 1721910424518
        }
      }
    }
  ],
  "metadata": {
    "accelerator": "GPU",
    "colab": {
      "gpuType": "T4",
      "name": "",
      "version": ""
    },
    "kernelspec": {
      "name": "python310-sdkv2",
      "language": "python",
      "display_name": "Python 3.10 - SDK v2"
    },
    "language_info": {
      "name": "python",
      "version": "3.10.14",
      "mimetype": "text/x-python",
      "codemirror_mode": {
        "name": "ipython",
        "version": 3
      },
      "pygments_lexer": "ipython3",
      "nbconvert_exporter": "python",
      "file_extension": ".py"
    },
    "microsoft": {
      "ms_spell_check": {
        "ms_spell_check_language": "en"
      },
      "host": {
        "AzureML": {
          "notebookHasBeenCompleted": true
        }
      }
    },
    "kernel_info": {
      "name": "python310-sdkv2"
    },
    "nteract": {
      "version": "nteract-front-end@1.0.0"
    }
  },
  "nbformat": 4,
  "nbformat_minor": 0
}