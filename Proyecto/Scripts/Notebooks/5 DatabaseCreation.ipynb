{
  "cells": [
    {
      "cell_type": "markdown",
      "source": [
        "## Trabajo Fin de Máster <br/> Diseño de una arquitectura multimodal para descripción textual de pares imagen-audio\n",
        "\n",
        "## Script 5. Creación de la base de datos completa\n",
        "\n",
        "En este notebook, unimos las bases de datos de imagen y audio, creando un dataframe (posteriormente guardado en un csv) en el que emparejamos imágenes con audios, sin seguir ningún tipo de criterio.\n",
        "\n",
        "Dado que hay muchos menos audios que imágenes, lo que se hace es asignar el mismo audio a varias imágenes, cosa que hacemos recorriendo la lista de audios en ciclo."
      ],
      "metadata": {
        "id": "Mn4kcOj9n7pN"
      }
    },
    {
      "cell_type": "markdown",
      "source": [
        "### Paso 1. Lectura de las bases de datos de entrenamiento\n",
        "\n",
        "Leemos los documentos csv en los que guardamos la información sobre las bases de datos de imagen y audio."
      ],
      "metadata": {
        "id": "Zmdlnb24pgBu"
      }
    },
    {
      "cell_type": "code",
      "source": [
        "import os\n",
        "os.chdir(\"..\")\n",
        "os.getcwd()"
      ],
      "outputs": [
        {
          "output_type": "execute_result",
          "execution_count": 13,
          "data": {
            "text/plain": "'/mnt/batch/tasks/shared/LS_root/mounts/clusters/tfm-cpu/code/Users/jose.puche'"
          },
          "metadata": {}
        }
      ],
      "execution_count": 13,
      "metadata": {
        "jupyter": {
          "source_hidden": false,
          "outputs_hidden": false
        },
        "nteract": {
          "transient": {
            "deleting": false
          }
        },
        "gather": {
          "logged": 1721550481816
        }
      }
    },
    {
      "cell_type": "code",
      "source": [
        "import pandas as pd\n",
        "\n",
        "images = pd.read_csv('Final_Database/image/imagesDB_train.csv')\n",
        "audios = pd.read_csv('Final_Database/audio/audioDB_train.csv')"
      ],
      "outputs": [],
      "execution_count": 15,
      "metadata": {
        "id": "Rb3McVg0j9Hh",
        "gather": {
          "logged": 1721550527465
        }
      }
    },
    {
      "cell_type": "code",
      "source": [
        "images.head()"
      ],
      "outputs": [
        {
          "output_type": "execute_result",
          "execution_count": 16,
          "data": {
            "text/plain": "                                          image_path  \\\n0  ../Final_Database/image/Jose Alberto Azorin Pu...   \n1  ../Final_Database/image/Jose Alberto Azorin Pu...   \n2  ../Final_Database/image/Jose Alberto Azorin Pu...   \n3  ../Final_Database/image/Jose Alberto Azorin Pu...   \n4  ../Final_Database/image/Jose Alberto Azorin Pu...   \n\n                     classID  \n0  Jose Alberto Azorin Puche  \n1  Jose Alberto Azorin Puche  \n2  Jose Alberto Azorin Puche  \n3  Jose Alberto Azorin Puche  \n4  Jose Alberto Azorin Puche  ",
            "text/html": "<div>\n<style scoped>\n    .dataframe tbody tr th:only-of-type {\n        vertical-align: middle;\n    }\n\n    .dataframe tbody tr th {\n        vertical-align: top;\n    }\n\n    .dataframe thead th {\n        text-align: right;\n    }\n</style>\n<table border=\"1\" class=\"dataframe\">\n  <thead>\n    <tr style=\"text-align: right;\">\n      <th></th>\n      <th>image_path</th>\n      <th>classID</th>\n    </tr>\n  </thead>\n  <tbody>\n    <tr>\n      <th>0</th>\n      <td>../Final_Database/image/Jose Alberto Azorin Pu...</td>\n      <td>Jose Alberto Azorin Puche</td>\n    </tr>\n    <tr>\n      <th>1</th>\n      <td>../Final_Database/image/Jose Alberto Azorin Pu...</td>\n      <td>Jose Alberto Azorin Puche</td>\n    </tr>\n    <tr>\n      <th>2</th>\n      <td>../Final_Database/image/Jose Alberto Azorin Pu...</td>\n      <td>Jose Alberto Azorin Puche</td>\n    </tr>\n    <tr>\n      <th>3</th>\n      <td>../Final_Database/image/Jose Alberto Azorin Pu...</td>\n      <td>Jose Alberto Azorin Puche</td>\n    </tr>\n    <tr>\n      <th>4</th>\n      <td>../Final_Database/image/Jose Alberto Azorin Pu...</td>\n      <td>Jose Alberto Azorin Puche</td>\n    </tr>\n  </tbody>\n</table>\n</div>"
          },
          "metadata": {}
        }
      ],
      "execution_count": 16,
      "metadata": {
        "colab": {
          "base_uri": "https://localhost:8080/",
          "height": 206
        },
        "id": "-9hfchyJj9Hj",
        "executionInfo": {
          "status": "ok",
          "timestamp": 1716723173015,
          "user_tz": -120,
          "elapsed": 465,
          "user": {
            "displayName": "JOSÉ ALBERTO AZORIN PUCHE",
            "userId": "07780853208545474625"
          }
        },
        "outputId": "895b4f37-06cf-4917-9bac-a2c3b1469fe9",
        "gather": {
          "logged": 1721550530896
        }
      }
    },
    {
      "cell_type": "code",
      "source": [
        "audios.head()"
      ],
      "outputs": [
        {
          "output_type": "execute_result",
          "execution_count": 17,
          "data": {
            "text/plain": "                                          audio_path  \\\n0  ../Final_Database/audio/Jose Alberto Azorin Pu...   \n1  ../Final_Database/audio/Jose Alberto Azorin Pu...   \n2  ../Final_Database/audio/Jose Alberto Azorin Pu...   \n3  ../Final_Database/audio/Jose Alberto Azorin Pu...   \n4  ../Final_Database/audio/Jose Alberto Azorin Pu...   \n\n                     classID  \n0  Jose Alberto Azorin Puche  \n1  Jose Alberto Azorin Puche  \n2  Jose Alberto Azorin Puche  \n3  Jose Alberto Azorin Puche  \n4  Jose Alberto Azorin Puche  ",
            "text/html": "<div>\n<style scoped>\n    .dataframe tbody tr th:only-of-type {\n        vertical-align: middle;\n    }\n\n    .dataframe tbody tr th {\n        vertical-align: top;\n    }\n\n    .dataframe thead th {\n        text-align: right;\n    }\n</style>\n<table border=\"1\" class=\"dataframe\">\n  <thead>\n    <tr style=\"text-align: right;\">\n      <th></th>\n      <th>audio_path</th>\n      <th>classID</th>\n    </tr>\n  </thead>\n  <tbody>\n    <tr>\n      <th>0</th>\n      <td>../Final_Database/audio/Jose Alberto Azorin Pu...</td>\n      <td>Jose Alberto Azorin Puche</td>\n    </tr>\n    <tr>\n      <th>1</th>\n      <td>../Final_Database/audio/Jose Alberto Azorin Pu...</td>\n      <td>Jose Alberto Azorin Puche</td>\n    </tr>\n    <tr>\n      <th>2</th>\n      <td>../Final_Database/audio/Jose Alberto Azorin Pu...</td>\n      <td>Jose Alberto Azorin Puche</td>\n    </tr>\n    <tr>\n      <th>3</th>\n      <td>../Final_Database/audio/Jose Alberto Azorin Pu...</td>\n      <td>Jose Alberto Azorin Puche</td>\n    </tr>\n    <tr>\n      <th>4</th>\n      <td>../Final_Database/audio/Jose Alberto Azorin Pu...</td>\n      <td>Jose Alberto Azorin Puche</td>\n    </tr>\n  </tbody>\n</table>\n</div>"
          },
          "metadata": {}
        }
      ],
      "execution_count": 17,
      "metadata": {
        "id": "TL1zMKw1j9Hk",
        "executionInfo": {
          "status": "ok",
          "timestamp": 1716723174889,
          "user_tz": -120,
          "elapsed": 230,
          "user": {
            "displayName": "JOSÉ ALBERTO AZORIN PUCHE",
            "userId": "07780853208545474625"
          }
        },
        "colab": {
          "base_uri": "https://localhost:8080/",
          "height": 206
        },
        "outputId": "6ae0129c-7be4-4a68-d82c-027585261ee9",
        "gather": {
          "logged": 1721550532481
        }
      }
    },
    {
      "cell_type": "markdown",
      "source": [
        "### Paso 2. Fusión de los dataframes"
      ],
      "metadata": {
        "id": "tz0ot5_wrCsm"
      }
    },
    {
      "cell_type": "code",
      "source": [
        "final_db = images.copy()"
      ],
      "outputs": [],
      "execution_count": 18,
      "metadata": {
        "id": "sPUmH2kaj9Hl",
        "gather": {
          "logged": 1721550536072
        }
      }
    },
    {
      "cell_type": "code",
      "source": [
        "from itertools import cycle\n",
        "\n",
        "for clase in audios.classID.unique():\n",
        "    selected_rows = final_db.classID==clase\n",
        "    audios_ciclo = cycle(audios[audios.classID==clase].audio_path.unique())\n",
        "    final_db.loc[selected_rows, 'audio_path'] = [next(audios_ciclo) for _ in range(selected_rows.sum())]\n",
        "\n",
        "final_db"
      ],
      "outputs": [
        {
          "output_type": "execute_result",
          "execution_count": 19,
          "data": {
            "text/plain": "                                             image_path  \\\n0     ../Final_Database/image/Jose Alberto Azorin Pu...   \n1     ../Final_Database/image/Jose Alberto Azorin Pu...   \n2     ../Final_Database/image/Jose Alberto Azorin Pu...   \n3     ../Final_Database/image/Jose Alberto Azorin Pu...   \n4     ../Final_Database/image/Jose Alberto Azorin Pu...   \n...                                                 ...   \n4108  ../Final_Database/image/Sergio Castano Azorin/...   \n4109  ../Final_Database/image/Sergio Castano Azorin/...   \n4110  ../Final_Database/image/Sergio Castano Azorin/...   \n4111  ../Final_Database/image/Sergio Castano Azorin/...   \n4112  ../Final_Database/image/Sergio Castano Azorin/...   \n\n                        classID  \\\n0     Jose Alberto Azorin Puche   \n1     Jose Alberto Azorin Puche   \n2     Jose Alberto Azorin Puche   \n3     Jose Alberto Azorin Puche   \n4     Jose Alberto Azorin Puche   \n...                         ...   \n4108      Sergio Castano Azorin   \n4109      Sergio Castano Azorin   \n4110      Sergio Castano Azorin   \n4111      Sergio Castano Azorin   \n4112      Sergio Castano Azorin   \n\n                                             audio_path  \n0     ../Final_Database/audio/Jose Alberto Azorin Pu...  \n1     ../Final_Database/audio/Jose Alberto Azorin Pu...  \n2     ../Final_Database/audio/Jose Alberto Azorin Pu...  \n3     ../Final_Database/audio/Jose Alberto Azorin Pu...  \n4     ../Final_Database/audio/Jose Alberto Azorin Pu...  \n...                                                 ...  \n4108  ../Final_Database/audio/Sergio Castano Azorin/...  \n4109  ../Final_Database/audio/Sergio Castano Azorin/...  \n4110  ../Final_Database/audio/Sergio Castano Azorin/...  \n4111  ../Final_Database/audio/Sergio Castano Azorin/...  \n4112  ../Final_Database/audio/Sergio Castano Azorin/...  \n\n[4113 rows x 3 columns]",
            "text/html": "<div>\n<style scoped>\n    .dataframe tbody tr th:only-of-type {\n        vertical-align: middle;\n    }\n\n    .dataframe tbody tr th {\n        vertical-align: top;\n    }\n\n    .dataframe thead th {\n        text-align: right;\n    }\n</style>\n<table border=\"1\" class=\"dataframe\">\n  <thead>\n    <tr style=\"text-align: right;\">\n      <th></th>\n      <th>image_path</th>\n      <th>classID</th>\n      <th>audio_path</th>\n    </tr>\n  </thead>\n  <tbody>\n    <tr>\n      <th>0</th>\n      <td>../Final_Database/image/Jose Alberto Azorin Pu...</td>\n      <td>Jose Alberto Azorin Puche</td>\n      <td>../Final_Database/audio/Jose Alberto Azorin Pu...</td>\n    </tr>\n    <tr>\n      <th>1</th>\n      <td>../Final_Database/image/Jose Alberto Azorin Pu...</td>\n      <td>Jose Alberto Azorin Puche</td>\n      <td>../Final_Database/audio/Jose Alberto Azorin Pu...</td>\n    </tr>\n    <tr>\n      <th>2</th>\n      <td>../Final_Database/image/Jose Alberto Azorin Pu...</td>\n      <td>Jose Alberto Azorin Puche</td>\n      <td>../Final_Database/audio/Jose Alberto Azorin Pu...</td>\n    </tr>\n    <tr>\n      <th>3</th>\n      <td>../Final_Database/image/Jose Alberto Azorin Pu...</td>\n      <td>Jose Alberto Azorin Puche</td>\n      <td>../Final_Database/audio/Jose Alberto Azorin Pu...</td>\n    </tr>\n    <tr>\n      <th>4</th>\n      <td>../Final_Database/image/Jose Alberto Azorin Pu...</td>\n      <td>Jose Alberto Azorin Puche</td>\n      <td>../Final_Database/audio/Jose Alberto Azorin Pu...</td>\n    </tr>\n    <tr>\n      <th>...</th>\n      <td>...</td>\n      <td>...</td>\n      <td>...</td>\n    </tr>\n    <tr>\n      <th>4108</th>\n      <td>../Final_Database/image/Sergio Castano Azorin/...</td>\n      <td>Sergio Castano Azorin</td>\n      <td>../Final_Database/audio/Sergio Castano Azorin/...</td>\n    </tr>\n    <tr>\n      <th>4109</th>\n      <td>../Final_Database/image/Sergio Castano Azorin/...</td>\n      <td>Sergio Castano Azorin</td>\n      <td>../Final_Database/audio/Sergio Castano Azorin/...</td>\n    </tr>\n    <tr>\n      <th>4110</th>\n      <td>../Final_Database/image/Sergio Castano Azorin/...</td>\n      <td>Sergio Castano Azorin</td>\n      <td>../Final_Database/audio/Sergio Castano Azorin/...</td>\n    </tr>\n    <tr>\n      <th>4111</th>\n      <td>../Final_Database/image/Sergio Castano Azorin/...</td>\n      <td>Sergio Castano Azorin</td>\n      <td>../Final_Database/audio/Sergio Castano Azorin/...</td>\n    </tr>\n    <tr>\n      <th>4112</th>\n      <td>../Final_Database/image/Sergio Castano Azorin/...</td>\n      <td>Sergio Castano Azorin</td>\n      <td>../Final_Database/audio/Sergio Castano Azorin/...</td>\n    </tr>\n  </tbody>\n</table>\n<p>4113 rows × 3 columns</p>\n</div>"
          },
          "metadata": {}
        }
      ],
      "execution_count": 19,
      "metadata": {
        "colab": {
          "base_uri": "https://localhost:8080/",
          "height": 423
        },
        "id": "QlAEtmm4j9Hl",
        "executionInfo": {
          "status": "ok",
          "timestamp": 1716723181241,
          "user_tz": -120,
          "elapsed": 11,
          "user": {
            "displayName": "JOSÉ ALBERTO AZORIN PUCHE",
            "userId": "07780853208545474625"
          }
        },
        "outputId": "6e90c4e0-5aa5-407f-bced-c8d7edac155a",
        "gather": {
          "logged": 1721550537953
        }
      }
    },
    {
      "cell_type": "code",
      "source": [
        "final_db.to_csv('Final_Database/finalDB_train.csv', index=False)"
      ],
      "outputs": [],
      "execution_count": 21,
      "metadata": {
        "id": "7mhw9sTbj9Hl",
        "gather": {
          "logged": 1721550549569
        }
      }
    },
    {
      "cell_type": "markdown",
      "source": [
        "### Paso 3. Repetimos con los datos de test"
      ],
      "metadata": {
        "nteract": {
          "transient": {
            "deleting": false
          }
        }
      }
    },
    {
      "cell_type": "code",
      "source": [
        "images = pd.read_csv('Final_Database/image/imagesDB_test.csv')\n",
        "audios = pd.read_csv('Final_Database/audio/audioDB_test.csv')\n",
        "\n",
        "final_db = images.copy()\n",
        "\n",
        "for clase in audios.classID.unique():\n",
        "    selected_rows = final_db.classID==clase\n",
        "    audios_ciclo = cycle(audios[audios.classID==clase].audio_path.unique())\n",
        "    final_db.loc[selected_rows, 'audio_path'] = [next(audios_ciclo) for _ in range(selected_rows.sum())]\n",
        "\n",
        "final_db"
      ],
      "outputs": [
        {
          "output_type": "execute_result",
          "execution_count": 22,
          "data": {
            "text/plain": "                                             image_path  \\\n0     ../Final_Database/image/Jose Alberto Azorin Pu...   \n1     ../Final_Database/image/Jose Alberto Azorin Pu...   \n2     ../Final_Database/image/Jose Alberto Azorin Pu...   \n3     ../Final_Database/image/Jose Alberto Azorin Pu...   \n4     ../Final_Database/image/Jose Alberto Azorin Pu...   \n...                                                 ...   \n1016  ../Final_Database/image/Sergio Castano Azorin/...   \n1017  ../Final_Database/image/Sergio Castano Azorin/...   \n1018  ../Final_Database/image/Sergio Castano Azorin/...   \n1019  ../Final_Database/image/Sergio Castano Azorin/...   \n1020  ../Final_Database/image/Sergio Castano Azorin/...   \n\n                        classID  \\\n0     Jose Alberto Azorin Puche   \n1     Jose Alberto Azorin Puche   \n2     Jose Alberto Azorin Puche   \n3     Jose Alberto Azorin Puche   \n4     Jose Alberto Azorin Puche   \n...                         ...   \n1016      Sergio Castano Azorin   \n1017      Sergio Castano Azorin   \n1018      Sergio Castano Azorin   \n1019      Sergio Castano Azorin   \n1020      Sergio Castano Azorin   \n\n                                             audio_path  \n0     ../Final_Database/audio/Jose Alberto Azorin Pu...  \n1     ../Final_Database/audio/Jose Alberto Azorin Pu...  \n2     ../Final_Database/audio/Jose Alberto Azorin Pu...  \n3     ../Final_Database/audio/Jose Alberto Azorin Pu...  \n4     ../Final_Database/audio/Jose Alberto Azorin Pu...  \n...                                                 ...  \n1016  ../Final_Database/audio/Sergio Castano Azorin/...  \n1017  ../Final_Database/audio/Sergio Castano Azorin/...  \n1018  ../Final_Database/audio/Sergio Castano Azorin/...  \n1019  ../Final_Database/audio/Sergio Castano Azorin/...  \n1020  ../Final_Database/audio/Sergio Castano Azorin/...  \n\n[1021 rows x 3 columns]",
            "text/html": "<div>\n<style scoped>\n    .dataframe tbody tr th:only-of-type {\n        vertical-align: middle;\n    }\n\n    .dataframe tbody tr th {\n        vertical-align: top;\n    }\n\n    .dataframe thead th {\n        text-align: right;\n    }\n</style>\n<table border=\"1\" class=\"dataframe\">\n  <thead>\n    <tr style=\"text-align: right;\">\n      <th></th>\n      <th>image_path</th>\n      <th>classID</th>\n      <th>audio_path</th>\n    </tr>\n  </thead>\n  <tbody>\n    <tr>\n      <th>0</th>\n      <td>../Final_Database/image/Jose Alberto Azorin Pu...</td>\n      <td>Jose Alberto Azorin Puche</td>\n      <td>../Final_Database/audio/Jose Alberto Azorin Pu...</td>\n    </tr>\n    <tr>\n      <th>1</th>\n      <td>../Final_Database/image/Jose Alberto Azorin Pu...</td>\n      <td>Jose Alberto Azorin Puche</td>\n      <td>../Final_Database/audio/Jose Alberto Azorin Pu...</td>\n    </tr>\n    <tr>\n      <th>2</th>\n      <td>../Final_Database/image/Jose Alberto Azorin Pu...</td>\n      <td>Jose Alberto Azorin Puche</td>\n      <td>../Final_Database/audio/Jose Alberto Azorin Pu...</td>\n    </tr>\n    <tr>\n      <th>3</th>\n      <td>../Final_Database/image/Jose Alberto Azorin Pu...</td>\n      <td>Jose Alberto Azorin Puche</td>\n      <td>../Final_Database/audio/Jose Alberto Azorin Pu...</td>\n    </tr>\n    <tr>\n      <th>4</th>\n      <td>../Final_Database/image/Jose Alberto Azorin Pu...</td>\n      <td>Jose Alberto Azorin Puche</td>\n      <td>../Final_Database/audio/Jose Alberto Azorin Pu...</td>\n    </tr>\n    <tr>\n      <th>...</th>\n      <td>...</td>\n      <td>...</td>\n      <td>...</td>\n    </tr>\n    <tr>\n      <th>1016</th>\n      <td>../Final_Database/image/Sergio Castano Azorin/...</td>\n      <td>Sergio Castano Azorin</td>\n      <td>../Final_Database/audio/Sergio Castano Azorin/...</td>\n    </tr>\n    <tr>\n      <th>1017</th>\n      <td>../Final_Database/image/Sergio Castano Azorin/...</td>\n      <td>Sergio Castano Azorin</td>\n      <td>../Final_Database/audio/Sergio Castano Azorin/...</td>\n    </tr>\n    <tr>\n      <th>1018</th>\n      <td>../Final_Database/image/Sergio Castano Azorin/...</td>\n      <td>Sergio Castano Azorin</td>\n      <td>../Final_Database/audio/Sergio Castano Azorin/...</td>\n    </tr>\n    <tr>\n      <th>1019</th>\n      <td>../Final_Database/image/Sergio Castano Azorin/...</td>\n      <td>Sergio Castano Azorin</td>\n      <td>../Final_Database/audio/Sergio Castano Azorin/...</td>\n    </tr>\n    <tr>\n      <th>1020</th>\n      <td>../Final_Database/image/Sergio Castano Azorin/...</td>\n      <td>Sergio Castano Azorin</td>\n      <td>../Final_Database/audio/Sergio Castano Azorin/...</td>\n    </tr>\n  </tbody>\n</table>\n<p>1021 rows × 3 columns</p>\n</div>"
          },
          "metadata": {}
        }
      ],
      "execution_count": 22,
      "metadata": {
        "jupyter": {
          "source_hidden": false,
          "outputs_hidden": false
        },
        "nteract": {
          "transient": {
            "deleting": false
          }
        },
        "gather": {
          "logged": 1721550557882
        }
      }
    },
    {
      "cell_type": "code",
      "source": [
        "final_db.to_csv('Final_Database/finalDB_test.csv', index=False)"
      ],
      "outputs": [],
      "execution_count": 23,
      "metadata": {
        "jupyter": {
          "source_hidden": false,
          "outputs_hidden": false
        },
        "nteract": {
          "transient": {
            "deleting": false
          }
        },
        "gather": {
          "logged": 1721550562380
        }
      }
    }
  ],
  "metadata": {
    "kernelspec": {
      "name": "python3",
      "language": "python",
      "display_name": "Python 3 (ipykernel)"
    },
    "language_info": {
      "name": "python",
      "version": "3.9.18",
      "mimetype": "text/x-python",
      "codemirror_mode": {
        "name": "ipython",
        "version": 3
      },
      "pygments_lexer": "ipython3",
      "nbconvert_exporter": "python",
      "file_extension": ".py"
    },
    "colab": {
      "provenance": []
    },
    "microsoft": {
      "ms_spell_check": {
        "ms_spell_check_language": "en"
      },
      "host": {
        "AzureML": {
          "notebookHasBeenCompleted": true
        }
      }
    },
    "kernel_info": {
      "name": "python3"
    },
    "nteract": {
      "version": "nteract-front-end@1.0.0"
    }
  },
  "nbformat": 4,
  "nbformat_minor": 0
}